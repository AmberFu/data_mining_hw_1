{
 "cells": [
  {
   "cell_type": "markdown",
   "metadata": {},
   "source": [
    "### Student Information\n",
    "Name: 傅珀瑩\n",
    "\n",
    "Student ID: 1061066S"
   ]
  },
  {
   "cell_type": "markdown",
   "metadata": {},
   "source": [
    "---"
   ]
  },
  {
   "cell_type": "markdown",
   "metadata": {},
   "source": [
    "### Instructions"
   ]
  },
  {
   "cell_type": "markdown",
   "metadata": {},
   "source": [
    "- Download the dataset provided in this [link](https://archive.ics.uci.edu/ml/datasets/Sentiment+Labelled+Sentences#). The sentiment dataset contains a `sentence` and `score` label. Read what the dataset is about on the link provided before you start exploring it. \n",
    "\n",
    "\n",
    "- Then, you are asked to apply each of the data exploration and data operation techniques learned in the [first lab session](https://goo.gl/Sg4FS1) on the new dataset. You don't need to explain all the procedures as we did in the notebook, but you are expected to provide some **minimal comments** explaining your code. You are also expected to use the same libraries used in the first lab session. You are allowed to use and modify the `helper` functions we provided in the first lab session or create your own. Also, be aware that the helper functions may need modification as you are dealing with a completely different dataset. This part is worth 80% of your grade!\n",
    "\n",
    "\n",
    "- After you have completed the operations, you should attempt the **bonus exercises** provided in the [notebook](https://goo.gl/Sg4FS1) we used for the first lab session. There are six (6) additional exercises; attempt them all, as it is part of your grade (10%). \n",
    "\n",
    "\n",
    "- You are also expected to tidy up your notebook and attempt new data operations that you have learned so far in the Data Mining course. Surprise us! This segment is worth 10% of your grade.\n",
    "\n",
    "\n",
    "- After completing all the above tasks, you are free to remove this header block and submit your assignment following the guide provided in the `README.md` file of the assignment's [repository](https://github.com/omarsar/data_mining_hw_1). "
   ]
  },
  {
   "cell_type": "code",
   "execution_count": 1,
   "metadata": {},
   "outputs": [],
   "source": [
    "# necessary for when working with external scripts\n",
    "%load_ext autoreload\n",
    "%autoreload 2\n",
    "\n",
    "import pandas as pd\n",
    "import numpy as np\n",
    "import nltk\n",
    "from sklearn.datasets import fetch_20newsgroups\n",
    "from sklearn.feature_extraction.text import CountVectorizer\n",
    "import plotly.plotly as py\n",
    "import plotly.graph_objs as go\n",
    "import math\n",
    "%matplotlib inline\n",
    "\n",
    "# my functions\n",
    "import helpers.data_mining_helpers as dmh\n",
    "import helpers.text_analysis as ta"
   ]
  },
  {
   "cell_type": "markdown",
   "metadata": {},
   "source": [
    "## 1. Data source\n",
    "\n",
    "#### Citation Request: 'From Group to Individual Labels using Deep Features', Kotzias et. al,. KDD 2015 \n",
    "\n",
    "According to the [\"Data Set Information\"](https://archive.ics.uci.edu/ml/datasets/Sentiment+Labelled+Sentences): \n",
    "\n",
    "* Score is either 1 (for positive) or 0 (for negative) \n",
    "\n",
    "* The sentences come from three different websites/fields:\n",
    "    * imdb.com\n",
    "    * amazon.com\n",
    "    * yelp.com\n",
    "\n",
    "* For each website, there exist 500 positive and 500 negative sentences. Those were selected randomly for larger datasets of reviews.\n",
    "\n",
    "* We attempted to select sentences that have a clearly positive or negative connotaton, the goal was for no neutral sentences to be selected. "
   ]
  },
  {
   "cell_type": "code",
   "execution_count": 2,
   "metadata": {},
   "outputs": [
    {
     "name": "stdout",
     "output_type": "stream",
     "text": [
      "\n",
      "amazon data is like...\n",
      "                                             sentence  label\n",
      "0  So there is no way for me to plug it in here i...      0\n",
      "1                        Good case, Excellent value.      1\n",
      "2                             Great for the jawbone.      1\n",
      "3  Tied to charger for conversations lasting more...      0\n",
      "4                                  The mic is great.      1\n",
      "\n",
      "imbd data is like...\n",
      "                                             sentence  label\n",
      "0  A very, very, very slow-moving, aimless movie ...      0\n",
      "1  Not sure who was more lost - the flat characte...      0\n",
      "2  Attempting artiness with black & white and cle...      0\n",
      "3       Very little music or anything to speak of.        0\n",
      "4  The best scene in the movie was when Gerardo i...      1\n",
      "\n",
      "yelp data is like...\n",
      "                                             sentence  label\n",
      "0                           Wow... Loved this place.      1\n",
      "1                                 Crust is not good.      0\n",
      "2          Not tasty and the texture was just nasty.      0\n",
      "3  Stopped by during the late May bank holiday of...      1\n",
      "4  The selection on the menu was great and so wer...      1\n"
     ]
    }
   ],
   "source": [
    "import csv\n",
    "\n",
    "file_amazon = '~/learn_CS/2017_Fall_Data_Mining/data_mining_hw_1/sentiment labelled sentences/amazon_cells_labelled.txt'\n",
    "file_imbd = '~/learn_CS/2017_Fall_Data_Mining/data_mining_hw_1/sentiment labelled sentences/imdb_labelled.txt'\n",
    "file_yelp = '~/learn_CS/2017_Fall_Data_Mining/data_mining_hw_1/sentiment labelled sentences/yelp_labelled.txt'\n",
    "\n",
    "amazon = pd.read_table(file_amazon, names = ['sentence', 'label'])\n",
    "imbd = pd.read_csv(file_imbd, quoting=csv.QUOTE_NONE, names = ['sentence', 'label'], sep = '\\t', error_bad_lines=False)\n",
    "yelp = pd.read_table(file_yelp, names = ['sentence', 'label'])\n",
    "\n",
    "# take a look from data:\n",
    "print(\"\\namazon data is like...\\n\", amazon[:5])\n",
    "print(\"\\nimbd data is like...\\n\", imbd[:5])\n",
    "print(\"\\nyelp data is like...\\n\", yelp[:5])"
   ]
  },
  {
   "cell_type": "markdown",
   "metadata": {},
   "source": [
    "## 2. Data Preparation\n",
    "\n",
    "Explore and familiarizing myself with data!\n",
    "\n",
    "* data type\n",
    "* data length\n",
    "* check 500 positive & 500 negative sentence\n",
    "* get specific column\n",
    "* add label name"
   ]
  },
  {
   "cell_type": "code",
   "execution_count": 3,
   "metadata": {},
   "outputs": [
    {
     "name": "stdout",
     "output_type": "stream",
     "text": [
      "object type of amazon =  <class 'pandas.core.frame.DataFrame'>\n",
      "object type of imbd =  <class 'pandas.core.frame.DataFrame'>\n",
      "object type of yelp =  <class 'pandas.core.frame.DataFrame'>\n",
      "\n",
      "len(amazon) =  1000\n",
      "len(imbd) =  1000\n",
      "len(yelp) =  1000\n",
      "\n",
      "len(amazon.sentence) =  1000\n",
      "len(imbd.sentence) =  1000\n",
      "len(yelp.sentence) =  1000\n",
      "\n",
      "length of amazon.query('label == 1') :  500\n",
      "length of amazon.query('label == 0') :  500\n",
      "\n",
      "length of imbd.query('label == 1') :  500\n",
      "length of imbd.query('label == 0') :  500\n",
      "\n",
      "length of yelp.query('label == 1') :  500\n",
      "length of yelp.query('label == 0') :  500\n",
      "\n",
      " --------------------------------------------------------------------------------\n",
      "\n",
      "The sentence column of amazon data is like...\n",
      " 0    So there is no way for me to plug it in here i...\n",
      "1                          Good case, Excellent value.\n",
      "2                               Great for the jawbone.\n",
      "3    Tied to charger for conversations lasting more...\n",
      "4                                    The mic is great.\n",
      "Name: sentence, dtype: object\n",
      "\n",
      "The sentence column of imbd data is like...\n",
      " 0    A very, very, very slow-moving, aimless movie ...\n",
      "1    Not sure who was more lost - the flat characte...\n",
      "2    Attempting artiness with black & white and cle...\n",
      "3         Very little music or anything to speak of.  \n",
      "4    The best scene in the movie was when Gerardo i...\n",
      "Name: sentence, dtype: object\n",
      "\n",
      "The sentence column of yelp data is like...\n",
      " 0                             Wow... Loved this place.\n",
      "1                                   Crust is not good.\n",
      "2            Not tasty and the texture was just nasty.\n",
      "3    Stopped by during the late May bank holiday of...\n",
      "4    The selection on the menu was great and so wer...\n",
      "Name: sentence, dtype: object\n"
     ]
    }
   ],
   "source": [
    "# data type:\n",
    "print('object type of amazon = ', type(amazon))\n",
    "print('object type of imbd = ', type(imbd))\n",
    "print('object type of yelp = ', type(yelp))\n",
    "\n",
    "# data length:\n",
    "print('\\nlen(amazon) = ', len(amazon))\n",
    "print('len(imbd) = ', len(imbd))\n",
    "print('len(yelp) = ', len(yelp))\n",
    "\n",
    "print('\\nlen(amazon.sentence) = ', len(amazon.sentence))\n",
    "print('len(imbd.sentence) = ', len(imbd.sentence))\n",
    "print('len(yelp.sentence) = ', len(yelp.sentence))\n",
    "\n",
    "# check 500 positive & 500 negative sentence:\n",
    "print(\"\\nlength of amazon.query('label == 1') : \", len(amazon.query('label == 1')))\n",
    "print(\"length of amazon.query('label == 0') : \", len(amazon.query('label == 0')))\n",
    "\n",
    "print(\"\\nlength of imbd.query('label == 1') : \", len(imbd.query('label == 1')))\n",
    "print(\"length of imbd.query('label == 0') : \", len(imbd.query('label == 0')))\n",
    "\n",
    "print(\"\\nlength of yelp.query('label == 1') : \", len(yelp.query('label == 1')))\n",
    "print(\"length of yelp.query('label == 0') : \", len(yelp.query('label == 0')))\n",
    "\n",
    "\n",
    "# get sentence column:\n",
    "print('\\n','----------------'*5)\n",
    "print(\"\\nThe sentence column of amazon data is like...\\n\", amazon[:5].sentence)\n",
    "print(\"\\nThe sentence column of imbd data is like...\\n\", imbd[:5].sentence)\n",
    "print(\"\\nThe sentence column of yelp data is like...\\n\", yelp[:5].sentence)"
   ]
  },
  {
   "cell_type": "code",
   "execution_count": 3,
   "metadata": {},
   "outputs": [
    {
     "name": "stdout",
     "output_type": "stream",
     "text": [
      "\n",
      "amazon now is ...\n",
      "                                               sentence  label label_name\n",
      "0    So there is no way for me to plug it in here i...      0   negative\n",
      "1                          Good case, Excellent value.      1   positive\n",
      "2                               Great for the jawbone.      1   positive\n",
      "3    Tied to charger for conversations lasting more...      0   negative\n",
      "4                                    The mic is great.      1   positive\n",
      "5    I have to jiggle the plug to get it to line up...      0   negative\n",
      "6    If you have several dozen or several hundred c...      0   negative\n",
      "7          If you are Razr owner...you must have this!      1   positive\n",
      "8                  Needless to say, I wasted my money.      0   negative\n",
      "9                     What a waste of money and time!.      0   negative\n",
      "10                     And the sound quality is great.      1   positive\n",
      "11   He was very impressed when going from the orig...      1   positive\n",
      "12   If the two were seperated by a mere 5+ ft I st...      0   negative\n",
      "13                            Very good quality though      1   positive\n",
      "14   The design is very odd, as the ear \"clip\" is n...      0   negative\n",
      "15   Highly recommend for any one who has a blue to...      1   positive\n",
      "16                 I advise EVERYONE DO NOT BE FOOLED!      0   negative\n",
      "17                                    So Far So Good!.      1   positive\n",
      "18                                       Works great!.      1   positive\n",
      "19   It clicks into place in a way that makes you w...      0   negative\n",
      "20   I went on Motorola's website and followed all ...      0   negative\n",
      "21   I bought this to use with my Kindle Fire and a...      1   positive\n",
      "22            The commercials are the most misleading.      0   negative\n",
      "23   I have yet to run this new battery below two b...      1   positive\n",
      "24   I bought it for my mother and she had a proble...      0   negative\n",
      "25                Great Pocket PC / phone combination.      1   positive\n",
      "26   I've owned this phone for 7 months now and can...      1   positive\n",
      "27   I didn't think that the instructions provided ...      0   negative\n",
      "28   People couldnt hear me talk and I had to pull ...      0   negative\n",
      "29                                Doesn't hold charge.      0   negative\n",
      "..                                                 ...    ...        ...\n",
      "970  I plugged it in only to find out not a darn th...      0   negative\n",
      "971                                 Excellent product.      1   positive\n",
      "972                        Earbud piece breaks easily.      0   negative\n",
      "973                                     Lousy product.      0   negative\n",
      "974  This phone tries very hard to do everything bu...      0   negative\n",
      "975  It is the best charger I have seen on the mark...      1   positive\n",
      "976                                  SWEETEST PHONE!!!      1   positive\n",
      "977             :-)Oh, the charger seems to work fine.      1   positive\n",
      "978  It fits so securely that the ear hook does not...      1   positive\n",
      "979                                 Not enough volume.      0   negative\n",
      "980                Echo Problem....Very unsatisfactory      0   negative\n",
      "981  you could only take 2 videos at a time and the...      0   negative\n",
      "982                            don't waste your money.      0   negative\n",
      "983  I am going to have to be the first to negative...      0   negative\n",
      "984  Adapter does not provide enough charging current.      0   negative\n",
      "985  There was so much hype over this phone that I ...      0   negative\n",
      "986  You also cannot take pictures with it in the c...      0   negative\n",
      "987                            Phone falls out easily.      0   negative\n",
      "988  It didn't work, people can not hear me when I ...      0   negative\n",
      "989  The text messaging feature is really tricky to...      0   negative\n",
      "990  I'm really disappointed all I have now is a ch...      0   negative\n",
      "991                                Painful on the ear.      0   negative\n",
      "992                   Lasted one day and then blew up.      0   negative\n",
      "993                                      disappointed.      0   negative\n",
      "994                              Kind of flops around.      0   negative\n",
      "995  The screen does get smudged easily because it ...      0   negative\n",
      "996  What a piece of junk.. I lose more calls on th...      0   negative\n",
      "997                       Item Does Not Match Picture.      0   negative\n",
      "998  The only thing that disappoint me is the infra...      0   negative\n",
      "999  You can not answer calls with the unit, never ...      0   negative\n",
      "\n",
      "[1000 rows x 3 columns]\n",
      "\n",
      "imbd now is ...\n",
      "                                               sentence  label label_name\n",
      "0    A very, very, very slow-moving, aimless movie ...      0   negative\n",
      "1    Not sure who was more lost - the flat characte...      0   negative\n",
      "2    Attempting artiness with black & white and cle...      0   negative\n",
      "3         Very little music or anything to speak of.        0   negative\n",
      "4    The best scene in the movie was when Gerardo i...      1   positive\n",
      "5    The rest of the movie lacks art, charm, meanin...      0   negative\n",
      "6                                  Wasted two hours.        0   negative\n",
      "7    Saw the movie today and thought it was a good ...      1   positive\n",
      "8                                 A bit predictable.        0   negative\n",
      "9    Loved the casting of Jimmy Buffet as the scien...      1   positive\n",
      "10                And those baby owls were adorable.        1   positive\n",
      "11   The movie showed a lot of Florida at it's best...      1   positive\n",
      "12   The Songs Were The Best And The Muppets Were S...      1   positive\n",
      "13                                   It Was So Cool.        1   positive\n",
      "14   This is a very \"right on case\" movie that deli...      1   positive\n",
      "15   It had some average acting from the main perso...      0   negative\n",
      "16   This review is long overdue, since I consider ...      1   positive\n",
      "17   I'll put this gem up against any movie in term...      1   positive\n",
      "18   It's practically perfect in all of them  a tr...      1   positive\n",
      "19   \" The structure of this film is easily the mos...      1   positive\n",
      "20   I can think of no other film where something v...      1   positive\n",
      "21   In other words, the content level of this film...      1   positive\n",
      "22   How can anyone in their right mind ask for any...      1   positive\n",
      "23   It's quite simply the highest, most superlativ...      1   positive\n",
      "24   Yes, this film does require a rather significa...      1   positive\n",
      "25       This short film certainly pulls no punches.        0   negative\n",
      "26   Graphics is far from the best part of the game.        0   negative\n",
      "27   This is the number one best TH game in the ser...      1   positive\n",
      "28                          It deserves strong love.        1   positive\n",
      "29                             It is an insane game.        1   positive\n",
      "..                                                 ...    ...        ...\n",
      "970  Enough can not be said of the remarkable anima...      1   positive\n",
      "971  The art style has the appearance of crayon/pen...      1   positive\n",
      "972  If you act in such a film, you should be glad ...      0   negative\n",
      "973  This one wants to surf on the small wave of sp...      0   negative\n",
      "974  If you haven't choked in your own vomit by the...      0   negative\n",
      "975  Still, it makes up for all of this with a supe...      1   positive\n",
      "976  Just consider the excellent story, solid actin...      1   positive\n",
      "977  Instead, we got a bore fest about a whiny, spo...      0   negative\n",
      "978  Then I watched it again two Sundays ago (March...      1   positive\n",
      "979       It is a very well acted and done TV Movie.        1   positive\n",
      "980  Judith Light is one of my favorite actresses a...      1   positive\n",
      "981                I keep watching it over and over.        1   positive\n",
      "982                 It's a sad movie, but very good.        1   positive\n",
      "983  If you have not seen this movie, I definitely ...      1   positive\n",
      "984           She is as lovely as usual, this cutie!        1   positive\n",
      "985  Still it's quite interesting and entertaining ...      1   positive\n",
      "986                    ;) Recommend with confidence!        1   positive\n",
      "987  This movie is well-balanced with comedy and dr...      1   positive\n",
      "988  It was a riot to see Hugo Weaving play a sex-o...      1   positive\n",
      "989  :) Anyway, the plot flowed smoothly and the ma...      1   positive\n",
      "990  The opening sequence of this gem is a classic,...      1   positive\n",
      "991             Fans of the genre will be in heaven.        1   positive\n",
      "992                Lange had become a great actress.        1   positive\n",
      "993                It looked like a wonderful story.        1   positive\n",
      "994            I never walked out of a movie faster.        0   negative\n",
      "995  I just got bored watching Jessice Lange take h...      0   negative\n",
      "996  Unfortunately, any virtue in this film's produ...      0   negative\n",
      "997                   In a word, it is embarrassing.        0   negative\n",
      "998                               Exceptionally bad!        0   negative\n",
      "999  All in all its an insult to one's intelligence...      0   negative\n",
      "\n",
      "[1000 rows x 3 columns]\n",
      "\n",
      "yelp now is ...\n",
      "                                               sentence  label label_name\n",
      "0                             Wow... Loved this place.      1   positive\n",
      "1                                   Crust is not good.      0   negative\n",
      "2            Not tasty and the texture was just nasty.      0   negative\n",
      "3    Stopped by during the late May bank holiday of...      1   positive\n",
      "4    The selection on the menu was great and so wer...      1   positive\n",
      "5       Now I am getting angry and I want my damn pho.      0   negative\n",
      "6                Honeslty it didn't taste THAT fresh.)      0   negative\n",
      "7    The potatoes were like rubber and you could te...      0   negative\n",
      "8                            The fries were great too.      1   positive\n",
      "9                                       A great touch.      1   positive\n",
      "10                            Service was very prompt.      1   positive\n",
      "11                                  Would not go back.      0   negative\n",
      "12   The cashier had no care what so ever on what I...      0   negative\n",
      "13   I tried the Cape Cod ravoli, chicken,with cran...      1   positive\n",
      "14   I was disgusted because I was pretty sure that...      0   negative\n",
      "15   I was shocked because no signs indicate cash o...      0   negative\n",
      "16                                 Highly recommended.      1   positive\n",
      "17              Waitress was a little slow in service.      0   negative\n",
      "18   This place is not worth your time, let alone V...      0   negative\n",
      "19                                did not like at all.      0   negative\n",
      "20                                 The Burrittos Blah!      0   negative\n",
      "21                                  The food, amazing.      1   positive\n",
      "22                               Service is also cute.      1   positive\n",
      "23   I could care less... The interior is just beau...      1   positive\n",
      "24                                  So they performed.      1   positive\n",
      "25   That's right....the red velvet cake.....ohhh t...      1   positive\n",
      "26          - They never brought a salad we asked for.      0   negative\n",
      "27   This hole in the wall has great Mexican street...      1   positive\n",
      "28   Took an hour to get our food only 4 tables in ...      0   negative\n",
      "29                   The worst was the salmon sashimi.      0   negative\n",
      "..                                                 ...    ...        ...\n",
      "970  I immediately said I wanted to talk to the man...      0   negative\n",
      "971                    The ambiance isn't much better.      0   negative\n",
      "972  Unfortunately, it only set us up for disapppoi...      0   negative\n",
      "973                              The food wasn't good.      0   negative\n",
      "974  Your servers suck, wait, correction, our serve...      0   negative\n",
      "975      What happened next was pretty....off putting.      0   negative\n",
      "976  too bad cause I know it's family owned, I real...      0   negative\n",
      "977               Overpriced for what you are getting.      0   negative\n",
      "978               I vomited in the bathroom mid lunch.      0   negative\n",
      "979  I kept looking at the time and it had soon bec...      0   negative\n",
      "980  I have been to very few places to eat that und...      0   negative\n",
      "981  We started with the tuna sashimi which was bro...      0   negative\n",
      "982                            Food was below average.      0   negative\n",
      "983  It sure does beat the nachos at the movies but...      0   negative\n",
      "984       All in all, Ha Long Bay was a bit of a flop.      0   negative\n",
      "985  The problem I have is that they charge $11.99 ...      0   negative\n",
      "986  Shrimp- When I unwrapped it (I live only 1/2 a...      0   negative\n",
      "987     It lacked flavor, seemed undercooked, and dry.      0   negative\n",
      "988  It really is impressive that the place hasn't ...      0   negative\n",
      "989  I would avoid this place if you are staying in...      0   negative\n",
      "990  The refried beans that came with my meal were ...      0   negative\n",
      "991         Spend your money and time some place else.      0   negative\n",
      "992  A lady at the table next to us found a live gr...      0   negative\n",
      "993            the presentation of the food was awful.      0   negative\n",
      "994           I can't tell you how disappointed I was.      0   negative\n",
      "995  I think food should have flavor and texture an...      0   negative\n",
      "996                           Appetite instantly gone.      0   negative\n",
      "997  Overall I was not impressed and would not go b...      0   negative\n",
      "998  The whole experience was underwhelming, and I ...      0   negative\n",
      "999  Then, as if I hadn't wasted enough of my life ...      0   negative\n",
      "\n",
      "[1000 rows x 3 columns]\n"
     ]
    }
   ],
   "source": [
    "# add label name:\n",
    "amazon['label_name'] = amazon.label.apply(lambda t: dmh.format_labels(t))\n",
    "print('\\namazon now is ...\\n', amazon)\n",
    "\n",
    "imbd['label_name'] = imbd.label.apply(lambda t: dmh.format_labels(t))\n",
    "print('\\nimbd now is ...\\n', imbd)\n",
    "\n",
    "yelp['label_name'] = yelp.label.apply(lambda t: dmh.format_labels(t))\n",
    "print('\\nyelp now is ...\\n', yelp)"
   ]
  },
  {
   "cell_type": "code",
   "execution_count": 8,
   "metadata": {},
   "outputs": [
    {
     "name": "stdout",
     "output_type": "stream",
     "text": [
      "\n",
      " amazon[0:10] = \n",
      "                                             sentence  label label_name\n",
      "0  So there is no way for me to plug it in here i...      0   negative\n",
      "1                        Good case, Excellent value.      1   positive\n",
      "2                             Great for the jawbone.      1   positive\n",
      "3  Tied to charger for conversations lasting more...      0   negative\n",
      "4                                  The mic is great.      1   positive\n",
      "5  I have to jiggle the plug to get it to line up...      0   negative\n",
      "6  If you have several dozen or several hundred c...      0   negative\n",
      "7        If you are Razr owner...you must have this!      1   positive\n",
      "8                Needless to say, I wasted my money.      0   negative\n",
      "9                   What a waste of money and time!.      0   negative\n",
      "\n",
      " imbd[0:10] = \n",
      "                                             sentence  label label_name\n",
      "0  A very, very, very slow-moving, aimless movie ...      0   negative\n",
      "1  Not sure who was more lost - the flat characte...      0   negative\n",
      "2  Attempting artiness with black & white and cle...      0   negative\n",
      "3       Very little music or anything to speak of.        0   negative\n",
      "4  The best scene in the movie was when Gerardo i...      1   positive\n",
      "5  The rest of the movie lacks art, charm, meanin...      0   negative\n",
      "6                                Wasted two hours.        0   negative\n",
      "7  Saw the movie today and thought it was a good ...      1   positive\n",
      "8                               A bit predictable.        0   negative\n",
      "9  Loved the casting of Jimmy Buffet as the scien...      1   positive\n",
      "\n",
      " yelp[0:10] = \n",
      "                                             sentence  label label_name\n",
      "0                           Wow... Loved this place.      1   positive\n",
      "1                                 Crust is not good.      0   negative\n",
      "2          Not tasty and the texture was just nasty.      0   negative\n",
      "3  Stopped by during the late May bank holiday of...      1   positive\n",
      "4  The selection on the menu was great and so wer...      1   positive\n",
      "5     Now I am getting angry and I want my damn pho.      0   negative\n",
      "6              Honeslty it didn't taste THAT fresh.)      0   negative\n",
      "7  The potatoes were like rubber and you could te...      0   negative\n",
      "8                          The fries were great too.      1   positive\n",
      "9                                     A great touch.      1   positive\n",
      "\n",
      " amazon[-11:-1] = \n",
      "                                               sentence  label label_name\n",
      "989  The text messaging feature is really tricky to...      0   negative\n",
      "990  I'm really disappointed all I have now is a ch...      0   negative\n",
      "991                                Painful on the ear.      0   negative\n",
      "992                   Lasted one day and then blew up.      0   negative\n",
      "993                                      disappointed.      0   negative\n",
      "994                              Kind of flops around.      0   negative\n",
      "995  The screen does get smudged easily because it ...      0   negative\n",
      "996  What a piece of junk.. I lose more calls on th...      0   negative\n",
      "997                       Item Does Not Match Picture.      0   negative\n",
      "998  The only thing that disappoint me is the infra...      0   negative\n",
      "\n",
      " imbd[-11:-1] = \n",
      "                                               sentence  label label_name\n",
      "989  :) Anyway, the plot flowed smoothly and the ma...      1   positive\n",
      "990  The opening sequence of this gem is a classic,...      1   positive\n",
      "991             Fans of the genre will be in heaven.        1   positive\n",
      "992                Lange had become a great actress.        1   positive\n",
      "993                It looked like a wonderful story.        1   positive\n",
      "994            I never walked out of a movie faster.        0   negative\n",
      "995  I just got bored watching Jessice Lange take h...      0   negative\n",
      "996  Unfortunately, any virtue in this film's produ...      0   negative\n",
      "997                   In a word, it is embarrassing.        0   negative\n",
      "998                               Exceptionally bad!        0   negative\n",
      "\n",
      " yelp[-11:-1] = \n",
      "                                               sentence  label label_name\n",
      "989  I would avoid this place if you are staying in...      0   negative\n",
      "990  The refried beans that came with my meal were ...      0   negative\n",
      "991         Spend your money and time some place else.      0   negative\n",
      "992  A lady at the table next to us found a live gr...      0   negative\n",
      "993            the presentation of the food was awful.      0   negative\n",
      "994           I can't tell you how disappointed I was.      0   negative\n",
      "995  I think food should have flavor and texture an...      0   negative\n",
      "996                           Appetite instantly gone.      0   negative\n",
      "997  Overall I was not impressed and would not go b...      0   negative\n",
      "998  The whole experience was underwhelming, and I ...      0   negative\n",
      "\n",
      " amazon.tail(n=10) = \n",
      "                                               sentence  label label_name\n",
      "990  I'm really disappointed all I have now is a ch...      0   negative\n",
      "991                                Painful on the ear.      0   negative\n",
      "992                   Lasted one day and then blew up.      0   negative\n",
      "993                                      disappointed.      0   negative\n",
      "994                              Kind of flops around.      0   negative\n",
      "995  The screen does get smudged easily because it ...      0   negative\n",
      "996  What a piece of junk.. I lose more calls on th...      0   negative\n",
      "997                       Item Does Not Match Picture.      0   negative\n",
      "998  The only thing that disappoint me is the infra...      0   negative\n",
      "999  You can not answer calls with the unit, never ...      0   negative\n",
      "\n",
      " imbd.tail(n=10) = \n",
      "                                               sentence  label label_name\n",
      "990  The opening sequence of this gem is a classic,...      1   positive\n",
      "991             Fans of the genre will be in heaven.        1   positive\n",
      "992                Lange had become a great actress.        1   positive\n",
      "993                It looked like a wonderful story.        1   positive\n",
      "994            I never walked out of a movie faster.        0   negative\n",
      "995  I just got bored watching Jessice Lange take h...      0   negative\n",
      "996  Unfortunately, any virtue in this film's produ...      0   negative\n",
      "997                   In a word, it is embarrassing.        0   negative\n",
      "998                               Exceptionally bad!        0   negative\n",
      "999  All in all its an insult to one's intelligence...      0   negative\n",
      "\n",
      " yelp.tail(n=10) = \n",
      "                                               sentence  label label_name\n",
      "990  The refried beans that came with my meal were ...      0   negative\n",
      "991         Spend your money and time some place else.      0   negative\n",
      "992  A lady at the table next to us found a live gr...      0   negative\n",
      "993            the presentation of the food was awful.      0   negative\n",
      "994           I can't tell you how disappointed I was.      0   negative\n",
      "995  I think food should have flavor and texture an...      0   negative\n",
      "996                           Appetite instantly gone.      0   negative\n",
      "997  Overall I was not impressed and would not go b...      0   negative\n",
      "998  The whole experience was underwhelming, and I ...      0   negative\n",
      "999  Then, as if I hadn't wasted enough of my life ...      0   negative\n",
      "\n",
      " amazon.iloc[::10][0:10] =                                               sentence  label label_name\n",
      "0   So there is no way for me to plug it in here i...      0   negative\n",
      "10                    And the sound quality is great.      1   positive\n",
      "20  I went on Motorola's website and followed all ...      0   negative\n",
      "30  This is a simple little phone to use, but the ...      0   negative\n",
      "40  It has a great camera thats 2MP, and the pics ...      1   positive\n",
      "50  Not loud enough and doesn't turn on like it sh...      0   negative\n",
      "60  Essentially you can forget Microsoft's tech su...      0   negative\n",
      "70                                  Mic Doesn't work.      0   negative\n",
      "80      I wear it everyday and it holds up very well.      1   positive\n",
      "90  For a product that costs as much as this one d...      0   negative\n",
      "\n",
      " imbd.iloc[::10][0:10] =                                               sentence  label label_name\n",
      "0   A very, very, very slow-moving, aimless movie ...      0   negative\n",
      "10               And those baby owls were adorable.        1   positive\n",
      "20  I can think of no other film where something v...      1   positive\n",
      "30  There are massive levels, massive unlockable c...      1   positive\n",
      "40  The very idea of it was lame - take a minor ch...      0   negative\n",
      "50  I'm glad the film didn't go for the most obvio...      1   positive\n",
      "60                  I sat riveted to the TV screen.        1   positive\n",
      "70    And, quite honestly, often its not very good.        0   negative\n",
      "80  I'm glad this pretentious piece of s*** didn't...      0   negative\n",
      "90                   Definitely worth checking out.        1   positive\n",
      "\n",
      " yelp.iloc[::10][0:10] =                                               sentence  label label_name\n",
      "0                            Wow... Loved this place.      1   positive\n",
      "10                           Service was very prompt.      1   positive\n",
      "20                                The Burrittos Blah!      0   negative\n",
      "30  Also there are combos like a burger, fries, an...      1   positive\n",
      "40                       The shrimp tender and moist.      1   positive\n",
      "50  We ordered the duck rare and it was pink and t...      1   positive\n",
      "60  At least think to refill my water before I str...      0   negative\n",
      "70  The deal included 5 tastings and 2 drinks, and...      1   positive\n",
      "80  Coming here is like experiencing an underwhelm...      0   negative\n",
      "90  In summary, this was a largely disappointing d...      0   negative\n"
     ]
    }
   ],
   "source": [
    "# first 10 rows:\n",
    "print('\\n amazon[0:10] = \\n', amazon[0:10])\n",
    "print('\\n imbd[0:10] = \\n', imbd[0:10])\n",
    "print('\\n yelp[0:10] = \\n', yelp[0:10])\n",
    "\n",
    "# last 10 rows:\n",
    "print('\\n amazon[-11:-1] = \\n', amazon[-11:-1])\n",
    "print('\\n imbd[-11:-1] = \\n', imbd[-11:-1])\n",
    "print('\\n yelp[-11:-1] = \\n', yelp[-11:-1])\n",
    "\n",
    "print('\\n amazon.tail(n=10) = \\n', amazon.tail(n=10))\n",
    "print('\\n imbd.tail(n=10) = \\n', imbd.tail(n=10))\n",
    "print('\\n yelp.tail(n=10) = \\n', yelp.tail(n=10))\n",
    "\n",
    "### use iloc to get every 10 row:\n",
    "print('\\n amazon.iloc[::10][0:10] = ', amazon.iloc[::10][0:10])\n",
    "print('\\n imbd.iloc[::10][0:10] = ', imbd.iloc[::10][0:10])\n",
    "print('\\n yelp.iloc[::10][0:10] = ', yelp.iloc[::10][0:10])"
   ]
  },
  {
   "cell_type": "markdown",
   "metadata": {},
   "source": [
    "## 4. Data Mining using Pandas\n",
    "\n",
    "#### 4.1 Missing Values\n"
   ]
  },
  {
   "cell_type": "code",
   "execution_count": 16,
   "metadata": {},
   "outputs": [
    {
     "name": "stdout",
     "output_type": "stream",
     "text": [
      "\n",
      "Checking for amazon...\n",
      " sentence      (The amoung of missing records is: , 0)\n",
      "label         (The amoung of missing records is: , 0)\n",
      "label_name    (The amoung of missing records is: , 0)\n",
      "dtype: object \n",
      "\n",
      "\n",
      "Befor append :                                              sentence  label label_name\n",
      "0  So there is no way for me to plug it in here i...      0   negative\n",
      "1                        Good case, Excellent value.      1   positive\n",
      "2                             Great for the jawbone.      1   positive\n",
      "\n",
      "Checking for imbd...\n",
      " sentence      (The amoung of missing records is: , 0)\n",
      "label         (The amoung of missing records is: , 0)\n",
      "label_name    (The amoung of missing records is: , 0)\n",
      "dtype: object \n",
      "\n",
      "\n",
      "Checking for yelp...\n",
      " sentence      (The amoung of missing records is: , 0)\n",
      "label         (The amoung of missing records is: , 0)\n",
      "label_name    (The amoung of missing records is: , 0)\n",
      "dtype: object \n",
      "\n",
      "\n",
      "After append label turn into float :                                              sentence  label label_name\n",
      "0  So there is no way for me to plug it in here i...    0.0   negative\n",
      "1                        Good case, Excellent value.    1.0   positive\n",
      "2                             Great for the jawbone.    1.0   positive\n",
      "\n",
      "Checking for amazon (add one missing records) ...\n",
      " sentence      (The amoung of missing records is: , 0)\n",
      "label         (The amoung of missing records is: , 1)\n",
      "label_name    (The amoung of missing records is: , 1)\n",
      "dtype: object \n",
      "\n",
      "\n",
      "Checking for amazon (drop missing records) ...\n",
      " sentence      (The amoung of missing records is: , 0)\n",
      "label         (The amoung of missing records is: , 0)\n",
      "label_name    (The amoung of missing records is: , 0)\n",
      "dtype: object \n",
      "\n",
      "\n",
      "After recovery type of label \"amazon.label.astype(int)\" :                                              sentence  label label_name\n",
      "0  So there is no way for me to plug it in here i...      0   negative\n",
      "1                        Good case, Excellent value.      1   positive\n",
      "2                             Great for the jawbone.      1   positive\n"
     ]
    }
   ],
   "source": [
    "# check missing values:\n",
    "print('\\nChecking for amazon...\\n', amazon.isnull().apply(lambda x: dmh.check_missing_values(x)), '\\n')\n",
    "print('\\nBefor append : ', amazon[:3])\n",
    "print('\\nChecking for imbd...\\n', imbd.isnull().apply(lambda x: dmh.check_missing_values(x)), '\\n')\n",
    "print('\\nChecking for yelp...\\n', yelp.isnull().apply(lambda x: dmh.check_missing_values(x)), '\\n')\n",
    "\n",
    "# ADD MISSING ERCORD:\n",
    "dummy_dict = [{'sentence': 'dummy text'}]\n",
    "amazon = amazon.append(dummy_dict, ignore_index=True)\n",
    "print('\\nAfter append label turn into float : ', amazon[:3])\n",
    "print('\\nChecking for amazon (add one missing records) ...\\n', amazon.isnull().apply(lambda x: dmh.check_missing_values(x)), '\\n')\n",
    "\n",
    "# drop missing record:\n",
    "amazon.dropna(inplace=True)\n",
    "amazon.label = amazon.label.astype(int)\n",
    "print('\\nChecking for amazon (drop missing records) ...\\n', amazon.isnull().apply(lambda x: dmh.check_missing_values(x)), '\\n')\n",
    "print('\\nAfter recovery type of label \"amazon.label.astype(int)\" : ', amazon[:3])"
   ]
  },
  {
   "cell_type": "markdown",
   "metadata": {},
   "source": [
    "#### 4.2 Dealing with Duplicate Data"
   ]
  },
  {
   "cell_type": "code",
   "execution_count": 6,
   "metadata": {},
   "outputs": [
    {
     "data": {
      "text/plain": [
       "0      False\n",
       "1      False\n",
       "2      False\n",
       "3      False\n",
       "4      False\n",
       "5      False\n",
       "6      False\n",
       "7      False\n",
       "8      False\n",
       "9      False\n",
       "10     False\n",
       "11     False\n",
       "12     False\n",
       "13     False\n",
       "14     False\n",
       "15     False\n",
       "16     False\n",
       "17     False\n",
       "18     False\n",
       "19     False\n",
       "20     False\n",
       "21     False\n",
       "22     False\n",
       "23     False\n",
       "24     False\n",
       "25     False\n",
       "26     False\n",
       "27     False\n",
       "28     False\n",
       "29     False\n",
       "       ...  \n",
       "970    False\n",
       "971    False\n",
       "972    False\n",
       "973    False\n",
       "974    False\n",
       "975    False\n",
       "976    False\n",
       "977    False\n",
       "978    False\n",
       "979    False\n",
       "980    False\n",
       "981    False\n",
       "982    False\n",
       "983    False\n",
       "984    False\n",
       "985    False\n",
       "986    False\n",
       "987    False\n",
       "988    False\n",
       "989    False\n",
       "990    False\n",
       "991    False\n",
       "992    False\n",
       "993    False\n",
       "994    False\n",
       "995    False\n",
       "996    False\n",
       "997    False\n",
       "998    False\n",
       "999    False\n",
       "Length: 1000, dtype: bool"
      ]
     },
     "execution_count": 6,
     "metadata": {},
     "output_type": "execute_result"
    }
   ],
   "source": [
    "### check for duplicated: (list all)\n",
    "amazon.duplicated()\n",
    "# imbd.duplicated()\n",
    "# yelp.duplicated()"
   ]
  },
  {
   "cell_type": "code",
   "execution_count": 17,
   "metadata": {},
   "outputs": [
    {
     "name": "stdout",
     "output_type": "stream",
     "text": [
      "Duplicated number of amazon =  10\n",
      "Duplicated number of imbd =  3\n",
      "Duplicated number of yelp =  4\n"
     ]
    }
   ],
   "source": [
    "# use sum to verify how many true:\n",
    "print('Duplicated number of amazon = ', sum(amazon.duplicated('sentence')))\n",
    "print('Duplicated number of imbd = ', sum(imbd.duplicated('sentence')))\n",
    "print('Duplicated number of yelp = ', sum(yelp.duplicated('sentence')))"
   ]
  },
  {
   "cell_type": "markdown",
   "metadata": {},
   "source": [
    "##### Exercise 1: \n",
    "Code for how to calculate the missing values for every record instead of every column. Hint axis parameter. Check the documentation for more information.\n",
    "\n",
    "changing to check for duplicate data...(below)"
   ]
  },
  {
   "cell_type": "code",
   "execution_count": 18,
   "metadata": {},
   "outputs": [
    {
     "name": "stdout",
     "output_type": "stream",
     "text": [
      "\n",
      "Order_list_amazon[0][ 285 ] =  1\n",
      "Order_list_amazon[ 285 ] = \n",
      "           sentence  label label_name\n",
      "285  Great phone!.      1   positive\n",
      "\n",
      "Order_list_amazon[0][ 407 ] =  1\n",
      "Order_list_amazon[ 407 ] = \n",
      "          sentence  label label_name\n",
      "407  Works great.      1   positive\n",
      "\n",
      "Order_list_amazon[0][ 524 ] =  1\n",
      "Order_list_amazon[ 524 ] = \n",
      "           sentence  label label_name\n",
      "524  Works great!.      1   positive\n",
      "\n",
      "Order_list_amazon[0][ 543 ] =  1\n",
      "Order_list_amazon[ 543 ] = \n",
      "                     sentence  label label_name\n",
      "543  Don't buy this product.      0   negative\n",
      "\n",
      "Order_list_amazon[0][ 744 ] =  1\n",
      "Order_list_amazon[ 744 ] = \n",
      "                                               sentence  label label_name\n",
      "744  If you like a loud buzzing to override all you...      0   negative\n",
      "\n",
      "Order_list_amazon[0][ 748 ] =  1\n",
      "Order_list_amazon[ 748 ] = \n",
      "           sentence  label label_name\n",
      "748  Does not fit.      0   negative\n",
      "\n",
      "Order_list_amazon[0][ 778 ] =  1\n",
      "Order_list_amazon[ 778 ] = \n",
      "                   sentence  label label_name\n",
      "778  This is a great deal.      1   positive\n",
      "\n",
      "Order_list_amazon[0][ 792 ] =  1\n",
      "Order_list_amazon[ 792 ] = \n",
      "          sentence  label label_name\n",
      "792  Great Phone.      1   positive\n",
      "\n",
      "Order_list_amazon[0][ 892 ] =  1\n",
      "Order_list_amazon[ 892 ] = \n",
      "                              sentence  label label_name\n",
      "892  Excellent product for the price.      1   positive\n",
      "\n",
      "Order_list_amazon[0][ 896 ] =  1\n",
      "Order_list_amazon[ 896 ] = \n",
      "          sentence  label label_name\n",
      "896  Great phone.      1   positive\n",
      "\n",
      "=> Duplicated number of amazon =  10\n",
      "\n",
      " --------------------------------------------------------------------- \n",
      "\n",
      "\n",
      "Order_list_imbd[0][ 363 ] =  1\n",
      "Order_list_imbd[ 363 ] = \n",
      "                              sentence  label label_name\n",
      "363  Definitely worth checking out.        1   positive\n",
      "\n",
      "Order_list_imbd[0][ 585 ] =  1\n",
      "Order_list_imbd[ 585 ] = \n",
      "                sentence  label label_name\n",
      "585  Not recommended.        0   negative\n",
      "\n",
      "Order_list_imbd[0][ 788 ] =  1\n",
      "Order_list_imbd[ 788 ] = \n",
      "     sentence  label label_name\n",
      "788  10/10        1   positive\n",
      "\n",
      "=> Duplicated number of imbd =  3\n",
      "\n",
      " --------------------------------------------------------------------- \n",
      "\n",
      "\n",
      "Order_list_yelp[0][ 814 ] =  1\n",
      "Order_list_yelp[ 814 ] = \n",
      "                sentence  label label_name\n",
      "814  I love this place.      1   positive\n",
      "\n",
      "Order_list_yelp[0][ 816 ] =  1\n",
      "Order_list_yelp[ 816 ] = \n",
      "                    sentence  label label_name\n",
      "816  The food was terrible.      0   negative\n",
      "\n",
      "Order_list_yelp[0][ 843 ] =  1\n",
      "Order_list_yelp[ 843 ] = \n",
      "              sentence  label label_name\n",
      "843  I won't be back.      0   negative\n",
      "\n",
      "Order_list_yelp[0][ 846 ] =  1\n",
      "Order_list_yelp[ 846 ] = \n",
      "                               sentence  label label_name\n",
      "846  I would not recommend this place.      0   negative\n",
      "\n",
      "=> Duplicated number of yelp =  4\n"
     ]
    }
   ],
   "source": [
    "##### find duplicated data place and data sentence:\n",
    "\n",
    "### amazon\n",
    "order_list_amazon = []\n",
    "order_list_amazon.append(amazon.duplicated().apply(lambda x: dmh.get_duplicated_place(x)))\n",
    "\n",
    "for i in range(0, len(order_list_amazon[0])):\n",
    "    if order_list_amazon[0][i] == True:\n",
    "        print('\\nOrder_list_amazon[0][', i, '] = ', order_list_amazon[0][i])\n",
    "        print('Order_list_amazon[', i, '] = \\n', amazon[i:i+1])\n",
    "\n",
    "# use sum to verify how many true:\n",
    "print('\\n=> Duplicated number of amazon = ', sum(amazon.duplicated('sentence')))\n",
    "print('\\n', '-----------------------'*3, '\\n')\n",
    "\n",
    "### imbd\n",
    "order_list_imbd = []\n",
    "order_list_imbd.append(imbd.duplicated().apply(lambda x: dmh.get_duplicated_place(x)))\n",
    "\n",
    "for i in range(0, len(order_list_imbd[0])):\n",
    "    if order_list_imbd[0][i] == True:\n",
    "        print('\\nOrder_list_imbd[0][', i, '] = ', order_list_imbd[0][i])\n",
    "        print('Order_list_imbd[', i, '] = \\n', imbd[i:i+1])\n",
    "\n",
    "# use sum to verify how many true:\n",
    "print('\\n=> Duplicated number of imbd = ', sum(imbd.duplicated('sentence')))\n",
    "print('\\n', '-----------------------'*3, '\\n')\n",
    "\n",
    "### yelp\n",
    "order_list_yelp = []\n",
    "order_list_yelp.append(yelp.duplicated().apply(lambda x: dmh.get_duplicated_place(x)))\n",
    "\n",
    "for i in range(0, len(order_list_yelp[0])):\n",
    "    if order_list_yelp[0][i] == True:\n",
    "        print('\\nOrder_list_yelp[0][', i, '] = ', order_list_yelp[0][i])\n",
    "        print('Order_list_yelp[', i, '] = \\n', yelp[i:i+1])\n",
    "\n",
    "# use sum to verify how many true:\n",
    "print('\\n=> Duplicated number of yelp = ', sum(yelp.duplicated('sentence')))"
   ]
  },
  {
   "cell_type": "code",
   "execution_count": 19,
   "metadata": {},
   "outputs": [
    {
     "name": "stdout",
     "output_type": "stream",
     "text": [
      "length of array =  1000\n",
      "dupl_index_info[:10] =  [False False False False False False False False False False]\n"
     ]
    }
   ],
   "source": [
    "### To find duplicates by index value:\n",
    "\n",
    "dupl_index_info = amazon.index.duplicated()\n",
    "print('length of array = ', len(dupl_index_info))\n",
    "print('dupl_index_info[:10] = ', dupl_index_info[:10])\n",
    "\n",
    "# dupl_index_info_first = amazon.index.duplicated(keep='first')\n",
    "# print('length of array = ', len(dupl_index_info_first))\n",
    "\n",
    "# dupl_index_info_last = amazon.index.duplicated(keep='last')\n",
    "# print('length of array = ', len(dupl_index_info_last))\n",
    "\n",
    "## List of columns to identify duplications:\n",
    "# print(amazon[~amazon.index.duplicated()])\n",
    "# print(amazon[~amazon.index.duplicated(keep='first')])\n",
    "\n",
    "## use column name to get column:\n",
    "# amazon.get('label')\n",
    "\n",
    "## uesing select function:\n",
    "# amazon.select(lambda x: x == 'label', axis=1)"
   ]
  },
  {
   "cell_type": "code",
   "execution_count": 4,
   "metadata": {},
   "outputs": [
    {
     "name": "stdout",
     "output_type": "stream",
     "text": [
      "\n",
      "Befor drop, len(amazon) =  1000\n",
      "After drop, len(amazon) =  990\n",
      "\n",
      "Befor drop, len(imbd) =  1000\n",
      "After drop, len(imbd) =  997\n",
      "\n",
      "Befor drop, len(yelp) =  1000\n",
      "After drop, len(yelp) =  996\n"
     ]
    }
   ],
   "source": [
    "# drop duplicated data: \n",
    "print('\\nBefor drop, len(amazon) = ', len(amazon))\n",
    "amazon.drop_duplicates(keep='first', inplace=True)\n",
    "print('After drop, len(amazon) = ', len(amazon))\n",
    "\n",
    "print('\\nBefor drop, len(imbd) = ', len(imbd))\n",
    "imbd.drop_duplicates(keep='first', inplace=True)\n",
    "print('After drop, len(imbd) = ', len(imbd))\n",
    "\n",
    "print('\\nBefor drop, len(yelp) = ', len(yelp))\n",
    "yelp.drop_duplicates(keep='first', inplace=True)\n",
    "print('After drop, len(yelp) = ', len(yelp))"
   ]
  },
  {
   "cell_type": "markdown",
   "metadata": {
    "collapsed": true
   },
   "source": [
    "### 5. Data Preprocessing\n",
    "\n",
    "    1. Sampling\n",
    "    2. Feature Creation\n",
    "    3. Feature Subset Selection\n",
    "    \n",
    "    4. Dimensionality Reduction\n",
    "    5. Aggregation\n",
    "    6. Discretization and Binarization\n",
    "    7. Attribute Transformation\n"
   ]
  },
  {
   "cell_type": "markdown",
   "metadata": {},
   "source": [
    "### 1. Sampling:"
   ]
  },
  {
   "cell_type": "code",
   "execution_count": 5,
   "metadata": {},
   "outputs": [
    {
     "name": "stdout",
     "output_type": "stream",
     "text": [
      "\n",
      " len(amazon_sample) =  500 , amazon_sample[0:3] = \n",
      "                                               sentence  label label_name\n",
      "229  I ordered this for sony Ericsson W810i but I t...      0   negative\n",
      "99             I'm very disappointed with my decision.      0   negative\n",
      "348  This little device has transformed my organiza...      1   positive\n",
      "\n",
      " len(imbd_sample) =  500 , imbd_sample[0:3] = \n",
      "                                               sentence  label label_name\n",
      "238                                 The poor actors.        0   negative\n",
      "578  With the originality and freshness of the firs...      0   negative\n",
      "423  Now we were chosen to be tortured with this di...      0   negative\n",
      "\n",
      " len(yelp_sample) =  500 , yelp_sample[0:3] = \n",
      "                                               sentence  label label_name\n",
      "477  The steaks are all well trimmed and also perfe...      1   positive\n",
      "756  I had to wait over 30 minutes to get my drink ...      0   negative\n",
      "737  Try them in the airport to experience some tas...      1   positive\n"
     ]
    }
   ],
   "source": [
    "amazon_sample = amazon.sample(n=500)\n",
    "print('\\n len(amazon_sample) = ', len(amazon_sample), ', amazon_sample[0:3] = \\n', amazon_sample[0:3])\n",
    "\n",
    "imbd_sample = imbd.sample(n=500)\n",
    "print('\\n len(imbd_sample) = ', len(imbd_sample), ', imbd_sample[0:3] = \\n', imbd_sample[0:3])\n",
    "\n",
    "yelp_sample = yelp.sample(n=500)\n",
    "print('\\n len(yelp_sample) = ', len(yelp_sample), ', yelp_sample[0:3] = \\n', yelp_sample[0:3])\n"
   ]
  },
  {
   "cell_type": "code",
   "execution_count": 6,
   "metadata": {},
   "outputs": [
    {
     "name": "stdout",
     "output_type": "stream",
     "text": [
      "\n",
      "amazon.lable distribution:  OrderedDict([(0, 497), (1, 493)])\n",
      "length of amazon.query('label == 0') :  497\n",
      "length of amazon.query('label == 1') :  493\n",
      "\n",
      "amazon_sample.lable distribution:  OrderedDict([(0, 253), (1, 247)])\n",
      "length of amazon_sample.query('label == 0') :  253\n",
      "length of amazon_sample.query('label == 1') :  247\n",
      "------------------------------------------------------------------------\n",
      "\n",
      "imbd.lable distribution:  OrderedDict([(0, 499), (1, 498)])\n",
      "length of imbd.query('label == 0') :  499\n",
      "length of imbd.query('label == 1') :  498\n",
      "\n",
      "imbd_sample.lable distribution:  OrderedDict([(1, 253), (0, 247)])\n",
      "length of imbd_sample.query('label == 0') :  247\n",
      "length of imbd_sample.query('label == 1') :  253\n",
      "------------------------------------------------------------------------\n",
      "\n",
      "yelp.lable distribution:  OrderedDict([(1, 499), (0, 497)])\n",
      "length of yelp.query('label == 0') :  497\n",
      "length of yelp.query('label == 1') :  499\n",
      "\n",
      "yelp_sample.lable distribution:  OrderedDict([(0, 251), (1, 249)])\n",
      "length of yelp_sample.query('label == 0') :  251\n",
      "length of yelp_sample.query('label == 1') :  249\n"
     ]
    }
   ],
   "source": [
    "## amazon\n",
    "# cheack lable distribution:\n",
    "amazon_lable_counts = ta.get_type_and_frequency(list(amazon.label))\n",
    "print('\\namazon.lable distribution: ', amazon_lable_counts)\n",
    "# check positive or negative sentence:\n",
    "print(\"length of amazon.query('label == 0') : \", len(amazon.query('label == 0')))\n",
    "print(\"length of amazon.query('label == 1') : \", len(amazon.query('label == 1')))\n",
    "\n",
    "amazon_sample_lable_counts = ta.get_type_and_frequency(list(amazon_sample.label))\n",
    "print('\\namazon_sample.lable distribution: ', amazon_sample_lable_counts)\n",
    "print(\"length of amazon_sample.query('label == 0') : \", len(amazon_sample.query('label == 0')))\n",
    "print(\"length of amazon_sample.query('label == 1') : \", len(amazon_sample.query('label == 1')))\n",
    "\n",
    "print(\"------\"*12)\n",
    "\n",
    "## imbd\n",
    "imbd_lable_counts = ta.get_type_and_frequency(list(imbd.label))\n",
    "print('\\nimbd.lable distribution: ', imbd_lable_counts)\n",
    "print(\"length of imbd.query('label == 0') : \", len(imbd.query('label == 0')))\n",
    "print(\"length of imbd.query('label == 1') : \", len(imbd.query('label == 1')))\n",
    "\n",
    "imbd_sample_lable_counts = ta.get_type_and_frequency(list(imbd_sample.label))\n",
    "print('\\nimbd_sample.lable distribution: ', imbd_sample_lable_counts)\n",
    "print(\"length of imbd_sample.query('label == 0') : \", len(imbd_sample.query('label == 0')))\n",
    "print(\"length of imbd_sample.query('label == 1') : \", len(imbd_sample.query('label == 1')))\n",
    "\n",
    "print(\"------\"*12)\n",
    "\n",
    "## yelp\n",
    "\n",
    "yelp_lable_counts = ta.get_type_and_frequency(list(yelp.label))\n",
    "print('\\nyelp.lable distribution: ', yelp_lable_counts)\n",
    "print(\"length of yelp.query('label == 0') : \", len(yelp.query('label == 0')))\n",
    "print(\"length of yelp.query('label == 1') : \", len(yelp.query('label == 1')))\n",
    "\n",
    "yelp_sample_lable_counts = ta.get_type_and_frequency(list(yelp_sample.label))\n",
    "print('\\nyelp_sample.lable distribution: ', yelp_sample_lable_counts)\n",
    "print(\"length of yelp_sample.query('label == 0') : \", len(yelp_sample.query('label == 0')))\n",
    "print(\"length of yelp_sample.query('label == 1') : \", len(yelp_sample.query('label == 1')))\n"
   ]
  },
  {
   "cell_type": "code",
   "execution_count": 23,
   "metadata": {},
   "outputs": [
    {
     "name": "stdout",
     "output_type": "stream",
     "text": [
      "High five! You successfully sent some data to your account on plotly. View your plot in your browser at https://plot.ly/~amberfu2017/0 or inside your plot.ly account where it is named 'plot from API'\n"
     ]
    },
    {
     "data": {
      "text/html": [
       "<iframe id=\"igraph\" scrolling=\"no\" style=\"border:none;\" seamless=\"seamless\" src=\"https://plot.ly/~amberfu2017/0.embed\" height=\"525px\" width=\"100%\"></iframe>"
      ],
      "text/plain": [
       "<plotly.tools.PlotlyDisplay object>"
      ]
     },
     "execution_count": 23,
     "metadata": {},
     "output_type": "execute_result"
    }
   ],
   "source": [
    "amazon_lable_count = ta.get_tokens_and_frequency(list(amazon.label))\n",
    "amazon_sample_lable_count = ta.get_tokens_and_frequency(list(amazon_sample.label))\n",
    "\n",
    "imbd_lable_count = ta.get_tokens_and_frequency(list(imbd.label))\n",
    "imbd_sample_lable_count = ta.get_tokens_and_frequency(list(imbd_sample.label))\n",
    "\n",
    "yelp_lable_count = ta.get_tokens_and_frequency(list(yelp.label))\n",
    "yelp_sample_lable_count = ta.get_tokens_and_frequency(list(yelp_sample.label))\n",
    "\n",
    "\n",
    "## check distribution:\n",
    "\n",
    "py.iplot(ta.plot_word_frequency(amazon_lable_count, \"Amazon Lable distribution\"))\n",
    "# py.iplot(ta.plot_word_frequency(amazon_sample_lable_count, \"Amazon_sample Lable distribution\"))\n",
    "\n",
    "# py.iplot(ta.plot_word_frequency(imbd_lable_count, \"imbd Lable distribution\"))\n",
    "# py.iplot(ta.plot_word_frequency(imbd_sample_lable_count, \"imbd_sample Lable distribution\"))\n",
    "\n",
    "# py.iplot(ta.plot_word_frequency(yelp_lable_count, \"yelp Lable distribution\"))\n",
    "# py.iplot(ta.plot_word_frequency(yelp_sample_lable_count, \"yelp_sample Lable distribution\"))"
   ]
  },
  {
   "cell_type": "markdown",
   "metadata": {},
   "source": [
    "##### Exercise 2: \n",
    "We can also do a side by side comparison of the distribution between the two datasets, but maybe you can try that as an excerise. Look at the Plotly documents for tons of examples and ways to visualizing groups bar charts."
   ]
  },
  {
   "cell_type": "code",
   "execution_count": 24,
   "metadata": {},
   "outputs": [
    {
     "data": {
      "text/html": [
       "<iframe id=\"igraph\" scrolling=\"no\" style=\"border:none;\" seamless=\"seamless\" src=\"https://plot.ly/~amberfu2017/2.embed\" height=\"525px\" width=\"100%\"></iframe>"
      ],
      "text/plain": [
       "<plotly.tools.PlotlyDisplay object>"
      ]
     },
     "execution_count": 24,
     "metadata": {},
     "output_type": "execute_result"
    }
   ],
   "source": [
    "# plotly of dataset:\n",
    "\n",
    "import plotly.graph_objs as go\n",
    "\n",
    "trace1 = go.Bar(\n",
    "    x=['amazon', 'amazon_sample', 'imbd', 'imbd_sample', 'yelp', 'yelp_sample'],\n",
    "    y=[amazon_lable_counts[0], amazon_sample_lable_counts[0],\n",
    "       imbd_lable_counts[0], imbd_sample_lable_counts[0],\n",
    "       yelp_lable_counts[0], yelp_sample_lable_counts[0]],\n",
    "    text=[\"{:.2%}\".format(amazon_lable_counts[0]/len(amazon)),\n",
    "         \"{:.2%}\".format(amazon_sample_lable_counts[0]/len(amazon_sample)),\n",
    "         \"{:.2%}\".format(imbd_lable_counts[0]/len(imbd)),\n",
    "         \"{:.2%}\".format(imbd_sample_lable_counts[0]/len(imbd_sample)),\n",
    "         \"{:.2%}\".format(yelp_lable_counts[0]/len(yelp)),\n",
    "         \"{:.2%}\".format(yelp_sample_lable_counts[0]/len(yelp_sample))],\n",
    "    name='Negative'\n",
    ")\n",
    "trace2 = go.Bar(\n",
    "    x=['amazon', 'amazon_sample', 'imbd', 'imbd_sample', 'yelp', 'yelp_sample'],\n",
    "    y=[amazon_lable_counts[1], amazon_sample_lable_counts[1],\n",
    "       imbd_lable_counts[1], imbd_sample_lable_counts[1],\n",
    "       yelp_lable_counts[1], yelp_sample_lable_counts[1]],\n",
    "    text=[\"{:.2%}\".format(amazon_lable_counts[1]/len(amazon)),\n",
    "         \"{:.2%}\".format(amazon_sample_lable_counts[1]/len(amazon_sample)),\n",
    "         \"{:.2%}\".format(imbd_lable_counts[1]/len(imbd)),\n",
    "         \"{:.2%}\".format(imbd_sample_lable_counts[1]/len(imbd_sample)),\n",
    "         \"{:.2%}\".format(yelp_lable_counts[1]/len(yelp)),\n",
    "         \"{:.2%}\".format(yelp_sample_lable_counts[1]/len(yelp_sample))],\n",
    "    name='Positive'\n",
    ")\n",
    "\n",
    "data = [trace1, trace2]\n",
    "layout = go.Layout(\n",
    "    barmode='stack'\n",
    ")\n",
    "\n",
    "fig = go.Figure(data=data, layout=layout)\n",
    "py.iplot(fig, filename='stacked-bar')\n"
   ]
  },
  {
   "cell_type": "code",
   "execution_count": 25,
   "metadata": {},
   "outputs": [
    {
     "data": {
      "text/plain": [
       "<matplotlib.axes._subplots.AxesSubplot at 0x7f2ea49bd9b0>"
      ]
     },
     "execution_count": 25,
     "metadata": {},
     "output_type": "execute_result"
    },
    {
     "data": {
      "image/png": "[encoded data removed]",
      "text/plain": [
       "<matplotlib.figure.Figure at 0x7f2ea4511588>"
      ]
     },
     "metadata": {},
     "output_type": "display_data"
    }
   ],
   "source": [
    "# Using matplotlib library:\n",
    "amazon.label.value_counts().plot(kind=\"bar\", rot=0)"
   ]
  },
  {
   "cell_type": "code",
   "execution_count": 26,
   "metadata": {},
   "outputs": [
    {
     "data": {
      "text/plain": [
       "<matplotlib.axes._subplots.AxesSubplot at 0x7f2ea160e240>"
      ]
     },
     "execution_count": 26,
     "metadata": {},
     "output_type": "execute_result"
    },
    {
     "data": {
      "image/png": "[encoded data removed]",
      "text/plain": [
       "<matplotlib.figure.Figure at 0x7f2ea3a97b38>"
      ]
     },
     "metadata": {},
     "output_type": "display_data"
    }
   ],
   "source": [
    "amazon_sample.label.value_counts().plot(kind=\"bar\", rot=0)"
   ]
  },
  {
   "cell_type": "code",
   "execution_count": 27,
   "metadata": {},
   "outputs": [
    {
     "data": {
      "image/png": "[encoded data removed]",
      "text/plain": [
       "<matplotlib.figure.Figure at 0x7f2ea15f5940>"
      ]
     },
     "metadata": {},
     "output_type": "display_data"
    }
   ],
   "source": [
    "import matplotlib.pyplot as plt\n",
    "\n",
    "labels = ['Negative', 'Positive']\n",
    "sizes = [amazon_lable_counts[0], amazon_lable_counts[1]]\n",
    "\n",
    "fig1, ax1 = plt.subplots()\n",
    "\n",
    "ax1.pie(sizes, labels=labels, autopct='%1.1f%%',\n",
    "        shadow=True, startangle=90)\n",
    "\n",
    "ax1.axis('equal')  # Equal aspect ratio ensures that pie is drawn as a circle.\n",
    "\n",
    "plt.title('Amazon dataset distribution')\n",
    "\n",
    "plt.show()"
   ]
  },
  {
   "cell_type": "code",
   "execution_count": 28,
   "metadata": {},
   "outputs": [
    {
     "data": {
      "image/png": "[encoded data removed]",
      "text/plain": [
       "<matplotlib.figure.Figure at 0x7f2ea14fc550>"
      ]
     },
     "metadata": {},
     "output_type": "display_data"
    }
   ],
   "source": [
    "# Use function to \n",
    "def dataset_piechar(labels_list, data, title):\n",
    "    labels = labels_list[0], labels_list[1]\n",
    "    sizes = [data[labels_list[0]], data[labels_list[1]]]\n",
    "    fig1, ax1 = plt.subplots()\n",
    "    ax1.pie(sizes, labels=labels, autopct='%1.1f%%',\n",
    "        shadow=True, startangle=90)\n",
    "    ax1.axis('equal')  # Equal aspect ratio ensures that pie is drawn as a circle.\n",
    "    plt.title(title)\n",
    "    return plt.show()\n",
    "\n",
    "# labels = 'Negative', 'Positive'\n",
    "# print(labels)\n",
    "from collections import Counter\n",
    "\n",
    "labels_list = list(Counter(imbd.label_name).keys())\n",
    "amazon_lableName_counts = ta.get_type_and_frequency(list(imbd.label_name))\n",
    "title = 'Imbd dataset distribution'\n",
    "\n",
    "dataset_piechar(labels_list, amazon_lableName_counts, title)"
   ]
  },
  {
   "cell_type": "markdown",
   "metadata": {},
   "source": [
    "### 2 .Feature Creation"
   ]
  },
  {
   "cell_type": "code",
   "execution_count": 7,
   "metadata": {
    "collapsed": true
   },
   "outputs": [],
   "source": [
    "# text = imbd.sentence[0]\n",
    "# # type(text)\n",
    "# tokens = nltk.word_tokenize(text)\n",
    "# tokens\n",
    "amazon['uni_grams'] = amazon['sentence'].apply(lambda x: dmh.tokenize_text(x))\n",
    "imbd['uni_grams'] = imbd['sentence'].apply(lambda x: dmh.tokenize_text(x))\n",
    "yelp['uni_grams'] = yelp['sentence'].apply(lambda x: dmh.tokenize_text(x))"
   ]
  },
  {
   "cell_type": "code",
   "execution_count": 8,
   "metadata": {},
   "outputs": [
    {
     "name": "stdout",
     "output_type": "stream",
     "text": [
      "\n",
      " amazon[0:10] = \n",
      "                                             sentence  label label_name  \\\n",
      "0  So there is no way for me to plug it in here i...      0   negative   \n",
      "1                        Good case, Excellent value.      1   positive   \n",
      "2                             Great for the jawbone.      1   positive   \n",
      "3  Tied to charger for conversations lasting more...      0   negative   \n",
      "4                                  The mic is great.      1   positive   \n",
      "5  I have to jiggle the plug to get it to line up...      0   negative   \n",
      "6  If you have several dozen or several hundred c...      0   negative   \n",
      "7        If you are Razr owner...you must have this!      1   positive   \n",
      "8                Needless to say, I wasted my money.      0   negative   \n",
      "9                   What a waste of money and time!.      0   negative   \n",
      "\n",
      "                                           uni_grams  \n",
      "0  [So, there, is, no, way, for, me, to, plug, it...  \n",
      "1                     [Good, case, Excellent, value]  \n",
      "2                         [Great, for, the, jawbone]  \n",
      "3  [Tied, to, charger, for, conversations, lastin...  \n",
      "4                              [The, mic, is, great]  \n",
      "5  [I, have, to, jiggle, the, plug, to, get, it, ...  \n",
      "6  [If, you, have, several, dozen, or, several, h...  \n",
      "7  [If, you, are, Razr, owner, you, must, have, t...  \n",
      "8          [Needless, to, say, I, wasted, my, money]  \n",
      "9             [What, a, waste, of, money, and, time]  \n",
      "\n",
      " imbd[0:10] = \n",
      "                                             sentence  label label_name  \\\n",
      "0  A very, very, very slow-moving, aimless movie ...      0   negative   \n",
      "1  Not sure who was more lost - the flat characte...      0   negative   \n",
      "2  Attempting artiness with black & white and cle...      0   negative   \n",
      "3       Very little music or anything to speak of.        0   negative   \n",
      "4  The best scene in the movie was when Gerardo i...      1   positive   \n",
      "5  The rest of the movie lacks art, charm, meanin...      0   negative   \n",
      "6                                Wasted two hours.        0   negative   \n",
      "7  Saw the movie today and thought it was a good ...      1   positive   \n",
      "8                               A bit predictable.        0   negative   \n",
      "9  Loved the casting of Jimmy Buffet as the scien...      1   positive   \n",
      "\n",
      "                                           uni_grams  \n",
      "0  [A, very, very, very, slow-moving, aimless, mo...  \n",
      "1  [Not, sure, who, was, more, lost, the, flat, c...  \n",
      "2  [Attempting, artiness, with, black, white, and...  \n",
      "3  [Very, little, music, or, anything, to, speak,...  \n",
      "4  [The, best, scene, in, the, movie, was, when, ...  \n",
      "5  [The, rest, of, the, movie, lacks, art, charm,...  \n",
      "6                               [Wasted, two, hours]  \n",
      "7  [Saw, the, movie, today, and, thought, it, was...  \n",
      "8                              [A, bit, predictable]  \n",
      "9  [Loved, the, casting, of, Jimmy, Buffet, as, t...  \n",
      "\n",
      " yelp[0:10] = \n",
      "                                             sentence  label label_name  \\\n",
      "0                           Wow... Loved this place.      1   positive   \n",
      "1                                 Crust is not good.      0   negative   \n",
      "2          Not tasty and the texture was just nasty.      0   negative   \n",
      "3  Stopped by during the late May bank holiday of...      1   positive   \n",
      "4  The selection on the menu was great and so wer...      1   positive   \n",
      "5     Now I am getting angry and I want my damn pho.      0   negative   \n",
      "6              Honeslty it didn't taste THAT fresh.)      0   negative   \n",
      "7  The potatoes were like rubber and you could te...      0   negative   \n",
      "8                          The fries were great too.      1   positive   \n",
      "9                                     A great touch.      1   positive   \n",
      "\n",
      "                                           uni_grams  \n",
      "0                          [Wow, Loved, this, place]  \n",
      "1                             [Crust, is, not, good]  \n",
      "2  [Not, tasty, and, the, texture, was, just, nasty]  \n",
      "3  [Stopped, by, during, the, late, May, bank, ho...  \n",
      "4  [The, selection, on, the, menu, was, great, an...  \n",
      "5  [Now, I, am, getting, angry, and, I, want, my,...  \n",
      "6       [Honeslty, it, did, n't, taste, THAT, fresh]  \n",
      "7  [The, potatoes, were, like, rubber, and, you, ...  \n",
      "8                     [The, fries, were, great, too]  \n",
      "9                                  [A, great, touch]  \n"
     ]
    }
   ],
   "source": [
    "# first 10 rows:\n",
    "print('\\n amazon[0:10] = \\n', amazon[0:10])\n",
    "print('\\n imbd[0:10] = \\n', imbd[0:10])\n",
    "print('\\n yelp[0:10] = \\n', yelp[0:10])"
   ]
  },
  {
   "cell_type": "markdown",
   "metadata": {},
   "source": [
    "### 3. Feature subset selection"
   ]
  },
  {
   "cell_type": "code",
   "execution_count": 9,
   "metadata": {
    "collapsed": true
   },
   "outputs": [],
   "source": [
    "# Create a document-term matrix:\n",
    "# fit_transform(): Learn the vocabulary dictionary and return term-document matrix.\n",
    "# fit_transform() = fit() + transform()\n",
    "\n",
    "count_vect = CountVectorizer()\n",
    "amazon_counts = count_vect.fit_transform(amazon['sentence'])\n",
    "# imbd_counts = count_vect.fit_transform(imbd['sentence'])\n",
    "# yelp_counts = count_vect.fit_transform(yelp['sentence'])"
   ]
  },
  {
   "cell_type": "code",
   "execution_count": 10,
   "metadata": {},
   "outputs": [
    {
     "data": {
      "text/plain": [
       "['so',\n",
       " 'there',\n",
       " 'is',\n",
       " 'no',\n",
       " 'way',\n",
       " 'for',\n",
       " 'me',\n",
       " 'to',\n",
       " 'plug',\n",
       " 'it',\n",
       " 'in',\n",
       " 'here',\n",
       " 'in',\n",
       " 'the',\n",
       " 'us',\n",
       " 'unless',\n",
       " 'go',\n",
       " 'by',\n",
       " 'converter',\n",
       " 'good',\n",
       " 'case',\n",
       " 'excellent',\n",
       " 'value']"
      ]
     },
     "execution_count": 10,
     "metadata": {},
     "output_type": "execute_result"
    }
   ],
   "source": [
    "# Handles preprocessing and tokenization:\n",
    "# build_analyzer() => build_preprocessor() + build_tokenizer()\n",
    "analyze = count_vect.build_analyzer()\n",
    "analyze(\" \".join(list(amazon[0:2].sentence)))"
   ]
  },
  {
   "cell_type": "markdown",
   "metadata": {},
   "source": [
    "##### 試試其他 CountVectorizer function:"
   ]
  },
  {
   "cell_type": "code",
   "execution_count": 31,
   "metadata": {},
   "outputs": [
    {
     "data": {
      "text/plain": [
       "CountVectorizer(analyzer='word', binary=False, decode_error='strict',\n",
       "        dtype=<class 'numpy.int64'>, encoding='utf-8', input='content',\n",
       "        lowercase=True, max_df=1.0, max_features=None, min_df=1,\n",
       "        ngram_range=(1, 1), preprocessor=None, stop_words=None,\n",
       "        strip_accents=None, token_pattern='(?u)\\\\b\\\\w\\\\w+\\\\b',\n",
       "        tokenizer=None, vocabulary=None)"
      ]
     },
     "execution_count": 31,
     "metadata": {},
     "output_type": "execute_result"
    }
   ],
   "source": [
    "# fit(): Learn a vocabulary dictionary of all tokens in the raw documents.\n",
    "count_vect.fit(amazon['sentence'])"
   ]
  },
  {
   "cell_type": "code",
   "execution_count": 32,
   "metadata": {},
   "outputs": [
    {
     "data": {
      "text/plain": [
       "<990x1847 sparse matrix of type '<class 'numpy.int64'>'\n",
       "\twith 9089 stored elements in Compressed Sparse Row format>"
      ]
     },
     "execution_count": 32,
     "metadata": {},
     "output_type": "execute_result"
    }
   ],
   "source": [
    "# transform(): Transform documents to document-term matrix.\n",
    "count_vect.transform(amazon['sentence'])"
   ]
  },
  {
   "cell_type": "code",
   "execution_count": 33,
   "metadata": {},
   "outputs": [
    {
     "data": {
      "text/plain": [
       "[array(['10', '100', '11', '12', '13', '15', '15g', '18', '20', '2000',\n",
       "        '2005', '2160', '24', '2mp', '325', '350', '375', '3o', '42', '44',\n",
       "        '45', '4s', '50', '5020', '510', '5320', '680', '700w', '8125',\n",
       "        '8525', '8530', 'abhor', 'ability', 'able', 'abound', 'about',\n",
       "        'above', 'absolutel', 'absolutely', 'ac', 'accept', 'acceptable',\n",
       "        'access', 'accessable', 'accessing', 'accessory', 'accessoryone',\n",
       "        'accidentally', 'accompanied', 'according', 'activate', 'activated',\n",
       "        'activesync', 'actually', 'ad', 'adapter', 'adapters', 'add',\n",
       "        'addition', 'additional', 'address', 'adhesive', 'adorable',\n",
       "        'advertised', 'advise', 'after', 'again', 'against', 'aggravating',\n",
       "        'ago', 'alarm', 'all', 'allot', 'allow', 'allowing', 'allows',\n",
       "        'almost', 'alone', 'along', 'alot', 'also', 'although', 'aluminum',\n",
       "        'always', 'am', 'amazed', 'amazing', 'amazon', 'amp', 'ample', 'an',\n",
       "        'and', 'angeles', 'angle', 'another', 'answer', 'ant', 'antena',\n",
       "        'anti', 'any', 'anyone', 'anything', 'anyway', 'anywhere', 'apart',\n",
       "        'apartment', 'apparently', 'appealing', 'appearance', 'appears',\n",
       "        'applifies', 'appointments', 'are', 'area', 'arguing', 'armband',\n",
       "        'around', 'arrival', 'arrived', 'as', 'asia', 'ask', 'aspect',\n",
       "        'assumed', 'at', 'atleast', 'att', 'attacked', 'attractive',\n",
       "        'audio', 'authentic', 'auto', 'available', 'average', 'avoid',\n",
       "        'avoiding', 'away', 'awesome', 'awful', 'awkward', 'awsome', 'back',\n",
       "        'background', 'backlight', 'bad', 'balance', 'bar', 'barely',\n",
       "        'bargain', 'bars', 'basement', 'basic', 'basically', 'batteries',\n",
       "        'battery', 'be', 'beat', 'beats', 'beautiful', 'because', 'bed',\n",
       "        'been', 'beep', 'beeping', 'before', 'behing', 'being', 'believe',\n",
       "        'bells', 'below', 'belt', 'bend', 'best', 'better', 'between',\n",
       "        'beware', 'big', 'biggest', 'bills', 'bit', 'bitpim', 'black',\n",
       "        'blackberry', 'blacktop', 'bland', 'blew', 'blue', 'blueant',\n",
       "        'bluetoooth', 'bluetooth', 'bluetooths', 'bmw', 'book', 'booking',\n",
       "        'boost', 'boot', 'bose', 'both', 'bother', 'bottom', 'bottowm',\n",
       "        'bought', 'bougth', 'boy', 'brand', 'break', 'breakage', 'breaking',\n",
       "        'breaks', 'brilliant', 'broke', 'broken', 'browser', 'browsing',\n",
       "        'bt', 'bt250v', 'bt50', 'bubbling', 'bucks', 'buds', 'build',\n",
       "        'built', 'bulky', 'bumpers', 'but', 'button', 'buttons', 'buy',\n",
       "        'buyer', 'buyers', 'buying', 'buyit', 'buzzing', 'by', 'ca',\n",
       "        'cable', 'cables', 'calendar', 'call', 'called', 'calls', 'came',\n",
       "        'camera', 'can', 'canal', 'cancellation', 'cancelling', 'cannot',\n",
       "        'cant', 'capability', 'capacity', 'car', 'card', 'care', 'careful',\n",
       "        'carried', 'carriers', 'carries', 'carry', 'case', 'cases',\n",
       "        'casing', 'cassette', 'cat', 'catching', 'caused', 'causing', 'cbr',\n",
       "        'cds', 'cell', 'cellphone', 'cellphones', 'cellular', 'cent',\n",
       "        'center', 'certain', 'certainly', 'changing', 'channel', 'charge',\n",
       "        'charged', 'charger', 'chargers', 'charges', 'charging', 'charm',\n",
       "        'cheap', 'cheaper', 'cheaply', 'cheapy', 'check', 'checked',\n",
       "        'child', 'china', 'chinese', 'choice', 'choices', 'christmas',\n",
       "        'cingulair', 'cingular', 'clarity', 'classy', 'clear', 'clearer',\n",
       "        'clearly', 'clever', 'clicks', 'clip', 'clipping', 'clips', 'clock',\n",
       "        'colleague', 'color', 'colored', 'colors', 'combination', 'come',\n",
       "        'comes', 'comfort', 'comfortable', 'comfortably', 'comfortible',\n",
       "        'coming', 'comments', 'commercials', 'communicate', 'communication',\n",
       "        'communications', 'commuter', 'company', 'comparably', 'compared',\n",
       "        'compete', 'competitors', 'complain', 'complained', 'complaint',\n",
       "        'complaints', 'completely', 'compliments', 'compromise', 'computer',\n",
       "        'concrete', 'conditions', 'confortable', 'confusing', 'connect',\n",
       "        'connected', 'connecting', 'connection', 'constantly',\n",
       "        'constructed', 'construction', 'consumer', 'contact', 'contacted',\n",
       "        'contacting', 'contacts', 'continue', 'continues', 'contract',\n",
       "        'control', 'controls', 'contstruct', 'convenient', 'conversation',\n",
       "        'conversations', 'converter', 'cool', 'copier', 'copy', 'corded',\n",
       "        'correctly', 'cost', 'costs', 'could', 'couldn', 'couldnt',\n",
       "        'counter', 'counterfeit', 'couple', 'coupon', 'course', 'cover',\n",
       "        'coverage', 'covered', 'crack', 'cracked', 'cradle', 'cradles',\n",
       "        'crap', 'crappy', 'crashed', 'crawl', 'creaks', 'crisp',\n",
       "        'cumbersome', 'current', 'currently', 'curve', 'customer', 'cut',\n",
       "        'cute', 'cutouts', 'cuts', 'd807', 'damage', 'darn', 'data', 'date',\n",
       "        'day', 'days', 'dead', 'deaf', 'deal', 'decade', 'decent',\n",
       "        'decision', 'defeats', 'defect', 'defective', 'deffinitely',\n",
       "        'definitely', 'definitly', 'delay', 'delivery', 'describe',\n",
       "        'described', 'description', 'design', 'designed', 'designs',\n",
       "        'despite', 'destination', 'destroying', 'detachable', 'detailed',\n",
       "        'development', 'device', 'devices', 'dialing', 'did', 'didn',\n",
       "        'died', 'dieing', 'different', 'difficult', 'directed',\n",
       "        'directions', 'directly', 'dirty', 'disapoinment', 'disapointing',\n",
       "        'disappoint', 'disappointed', 'disappointing', 'disappointment',\n",
       "        'discarded', 'discomfort', 'disconnected', 'discount', 'disgusting',\n",
       "        'display', 'displeased', 'disposable', 'dissapointed',\n",
       "        'dissapointing', 'distorted', 'distracting', 'dit', 'division',\n",
       "        'dna', 'do', 'docking', 'does', 'doesn', 'doing', 'dollar', 'don',\n",
       "        'done', 'dont', 'double', 'down', 'download', 'downloading',\n",
       "        'dozen', 'dozens', 'drain', 'drained', 'drains', 'drawback',\n",
       "        'driving', 'drivng', 'droid', 'drop', 'dropped', 'dropping',\n",
       "        'drops', 'dual', 'due', 'durable', 'during', 'dustpan', 'dying',\n",
       "        'e2', 'e715', 'each', 'ear', 'earbud', 'earbuds', 'earbugs',\n",
       "        'eargels', 'earlier', 'earpad', 'earphone', 'earphones', 'earpiece',\n",
       "        'earpieces', 'ears', 'earset', 'ease', 'easier', 'easily', 'easy',\n",
       "        'echo', 'edge', 'effect', 'effective', 'effects', 'effort',\n",
       "        'either', 'electronics', 'elegant', 'else', 'elsewhere',\n",
       "        'embarassing', 'embarrassing', 'embedded', 'encourage', 'end',\n",
       "        'ended', 'ends', 'engineered', 'enjoy', 'enough', 'enter',\n",
       "        'entertainment', 'entire', 'env', 'equipment', 'era', 'ergonomic',\n",
       "        'ericson', 'ericsson', 'especially', 'essentially', 'etc', 'europe',\n",
       "        'even', 'eventually', 'ever', 'every', 'everyday', 'everyone',\n",
       "        'everything', 'everywhere', 'exactly', 'exceeds', 'excelent',\n",
       "        'excellent', 'excels', 'except', 'exceptional', 'excessive',\n",
       "        'exchange', 'exchanged', 'excited', 'exclaim', 'excrutiatingly',\n",
       "        'exercise', 'existing', 'expect', 'expectations', 'expected',\n",
       "        'expensive', 'experience', 'experienced', 'explain', 'extended',\n",
       "        'exterior', 'external', 'extra', 'extremely', 'eye', 'fabulous',\n",
       "        'face', 'faceplates', 'fact', 'factor', 'failed', 'fails', 'fairly',\n",
       "        'fall', 'falling', 'falls', 'family', 'fantastic', 'far', 'fast',\n",
       "        'faster', 'father', 'favorite', 'feature', 'features', 'fee',\n",
       "        'feel', 'feels', 'feet', 'felt', 'few', 'fi', 'figure', 'file',\n",
       "        'finally', 'find', 'finds', 'fine', 'fingers', 'finished', 'fire',\n",
       "        'first', 'fit', 'fits', 'five', 'fixes', 'flash', 'flaw', 'flawed',\n",
       "        'flawless', 'flawlessly', 'flaws', 'flimsy', 'flip', 'flipphones',\n",
       "        'fliptop', 'floor', 'floppy', 'flops', 'flush', 'fm', 'followed',\n",
       "        'fond', 'fooled', 'for', 'forced', 'forever', 'forgeries', 'forget',\n",
       "        'forgot', 'form', 'found', 'four', 'fourth', 'fraction', 'free',\n",
       "        'freedom', 'freeway', 'freezes', 'frequently4', 'frequentyly',\n",
       "        'friendly', 'friends', 'frog', 'from', 'front', 'frustration',\n",
       "        'fry', 'ft', 'fulfills', 'full', 'fully', 'fun', 'function',\n",
       "        'functional', 'functionality', 'functions', 'funny', 'gadget',\n",
       "        'gadgets', 'games', 'garbage', 'garbled', 'gave', 'geeky', 'gels',\n",
       "        'generally', 'gentle', 'genuine', 'get', 'gets', 'getting',\n",
       "        'gimmick', 'girl', 'give', 'given', 'giving', 'glad', 'glare',\n",
       "        'glasses', 'glove', 'glued', 'go', 'goes', 'going', 'gonna', 'good',\n",
       "        'good7', 'gosh', 'got', 'gotten', 'graphics', 'great', 'greater',\n",
       "        'grey', 'grip', 'grtting', 'guess', 'gx2', 'h500', 'had', 'hair',\n",
       "        'hand', 'handheld', 'hands', 'handset', 'handsfree', 'handy',\n",
       "        'happened', 'happening', 'happens', 'happier', 'happy', 'hard',\n",
       "        'hardly', 'has', 'hat', 'hate', 'hated', 'haul', 'have', 'haven',\n",
       "        'having', 'he', 'headbands', 'headphones', 'headset', 'headsets',\n",
       "        'hear', 'hearing', 'heavy', 'help', 'helpful', 'here', 'hey',\n",
       "        'high', 'highest', 'highly', 'highy', 'hinge', 'hit', 'hitch',\n",
       "        'hold', 'holder', 'holding', 'holds', 'holster', 'home', 'hook',\n",
       "        'hoped', 'hoping', 'horrible', 'hot', 'hour', 'hours', 'hoursthe',\n",
       "        'house', 'how', 'however', 'hs850', 'huge', 'humans', 'humming',\n",
       "        'hundred', 'hurt', 'hybrid', 'hype', 'iam', 'idea', 'ideal', 'if',\n",
       "        'igo', 'ill', 'im', 'imac', 'images', 'imagine', 'immediately',\n",
       "        'important', 'impossible', 'impressed', 'impressive', 'improper',\n",
       "        'improve', 'improvement', 'in', 'inches', 'included', 'incoming',\n",
       "        'inconspicuous', 'increase', 'incrediable', 'incredible',\n",
       "        'incredibly', 'indoors', 'industrial', 'inexcusable', 'inexpensive',\n",
       "        'infatuated', 'inform', 'infra', 'infuriating', 'insert', 'inside',\n",
       "        'install', 'installed', 'instance', 'instead', 'instruction',\n",
       "        'instructions', 'integrated', 'intended', 'interested', 'interface',\n",
       "        'intermittently', 'internet', 'into', 'invented', 'investment',\n",
       "        'iphone', 'ipod', 'ipods', 'ir', 'irda', 'iriver', 'is', 'isn',\n",
       "        'issues', 'it', 'item', 'items', 'its', 'jabra', 'jabra350', 'jack',\n",
       "        'jawbone', 'jerks', 'jiggle', 'job', 'joke', 'joy', 'juice', 'junk',\n",
       "        'just', 'jx', 'keen', 'keep', 'keeping', 'keeps', 'kept', 'key',\n",
       "        'keyboard', 'keypad', 'keypads', 'keys', 'killer', 'kind', 'kindle',\n",
       "        'kitchen', 'kits', 'knock', 'know', 'knows', 'krussel', 'l7c',\n",
       "        'lacking', 'land', 'lap', 'laptop', 'large', 'last', 'lasted',\n",
       "        'lasting', 'lasts', 'latch', 'lately', 'later', 'latest',\n",
       "        'laughing', 'leaf', 'leaks', 'learned', 'least', 'leather', 'left',\n",
       "        'lense', 'leopard', 'less', 'lesson', 'let', 'letting', 'lg',\n",
       "        'life', 'light', 'lightly', 'lights', 'lightweight', 'like',\n",
       "        'liked', 'likes', 'line', 'linked', 'linking', 'linksys',\n",
       "        'listener', 'listening', 'lit', 'literally', 'little', 'living',\n",
       "        'll', 'loads', 'lock', 'locked', 'locks', 'logitech', 'long',\n",
       "        'longer', 'look', 'looking', 'looks', 'loop', 'loops', 'loose',\n",
       "        'looses', 'los', 'lose', 'lost', 'lot', 'lots', 'loud', 'louder',\n",
       "        'loudest', 'loudspeaker', 'lousy', 'love', 'loved', 'loves', 'low',\n",
       "        'luck', 'machine', 'made', 'magical', 'magnetic', 'mail', 'mainly',\n",
       "        'maintain', 'maintains', 'major', 'majority', 'make', 'makes',\n",
       "        'making', 'managed', 'management', 'manual', 'manufacturer', 'many',\n",
       "        'mark', 'market', 'match'], \n",
       "       dtype='<U15')]"
      ]
     },
     "execution_count": 33,
     "metadata": {},
     "output_type": "execute_result"
    }
   ],
   "source": [
    "# inverse_transform(X): Return terms per document with nonzero entries in X\n",
    "count_vect.inverse_transform(amazon['sentence'])"
   ]
  },
  {
   "cell_type": "code",
   "execution_count": 34,
   "metadata": {},
   "outputs": [
    {
     "data": {
      "text/plain": [
       "{'analyzer': 'word',\n",
       " 'binary': False,\n",
       " 'decode_error': 'strict',\n",
       " 'dtype': numpy.int64,\n",
       " 'encoding': 'utf-8',\n",
       " 'input': 0      So there is no way for me to plug it in here i...\n",
       " 1                            Good case, Excellent value.\n",
       " 2                                 Great for the jawbone.\n",
       " 3      Tied to charger for conversations lasting more...\n",
       " 4                                      The mic is great.\n",
       " 5      I have to jiggle the plug to get it to line up...\n",
       " 6      If you have several dozen or several hundred c...\n",
       " 7            If you are Razr owner...you must have this!\n",
       " 8                    Needless to say, I wasted my money.\n",
       " 9                       What a waste of money and time!.\n",
       " 10                       And the sound quality is great.\n",
       " 11     He was very impressed when going from the orig...\n",
       " 12     If the two were seperated by a mere 5+ ft I st...\n",
       " 13                              Very good quality though\n",
       " 14     The design is very odd, as the ear \"clip\" is n...\n",
       " 15     Highly recommend for any one who has a blue to...\n",
       " 16                   I advise EVERYONE DO NOT BE FOOLED!\n",
       " 17                                      So Far So Good!.\n",
       " 18                                         Works great!.\n",
       " 19     It clicks into place in a way that makes you w...\n",
       " 20     I went on Motorola's website and followed all ...\n",
       " 21     I bought this to use with my Kindle Fire and a...\n",
       " 22              The commercials are the most misleading.\n",
       " 23     I have yet to run this new battery below two b...\n",
       " 24     I bought it for my mother and she had a proble...\n",
       " 25                  Great Pocket PC / phone combination.\n",
       " 26     I've owned this phone for 7 months now and can...\n",
       " 27     I didn't think that the instructions provided ...\n",
       " 28     People couldnt hear me talk and I had to pull ...\n",
       " 29                                  Doesn't hold charge.\n",
       "                              ...                        \n",
       " 970    I plugged it in only to find out not a darn th...\n",
       " 971                                   Excellent product.\n",
       " 972                          Earbud piece breaks easily.\n",
       " 973                                       Lousy product.\n",
       " 974    This phone tries very hard to do everything bu...\n",
       " 975    It is the best charger I have seen on the mark...\n",
       " 976                                    SWEETEST PHONE!!!\n",
       " 977               :-)Oh, the charger seems to work fine.\n",
       " 978    It fits so securely that the ear hook does not...\n",
       " 979                                   Not enough volume.\n",
       " 980                  Echo Problem....Very unsatisfactory\n",
       " 981    you could only take 2 videos at a time and the...\n",
       " 982                              don't waste your money.\n",
       " 983    I am going to have to be the first to negative...\n",
       " 984    Adapter does not provide enough charging current.\n",
       " 985    There was so much hype over this phone that I ...\n",
       " 986    You also cannot take pictures with it in the c...\n",
       " 987                              Phone falls out easily.\n",
       " 988    It didn't work, people can not hear me when I ...\n",
       " 989    The text messaging feature is really tricky to...\n",
       " 990    I'm really disappointed all I have now is a ch...\n",
       " 991                                  Painful on the ear.\n",
       " 992                     Lasted one day and then blew up.\n",
       " 993                                        disappointed.\n",
       " 994                                Kind of flops around.\n",
       " 995    The screen does get smudged easily because it ...\n",
       " 996    What a piece of junk.. I lose more calls on th...\n",
       " 997                         Item Does Not Match Picture.\n",
       " 998    The only thing that disappoint me is the infra...\n",
       " 999    You can not answer calls with the unit, never ...\n",
       " Name: sentence, Length: 990, dtype: object,\n",
       " 'lowercase': True,\n",
       " 'max_df': 1.0,\n",
       " 'max_features': None,\n",
       " 'min_df': 1,\n",
       " 'ngram_range': (1, 1),\n",
       " 'preprocessor': None,\n",
       " 'stop_words': None,\n",
       " 'strip_accents': None,\n",
       " 'token_pattern': '(?u)\\\\b\\\\w\\\\w+\\\\b',\n",
       " 'tokenizer': None,\n",
       " 'vocabulary': None}"
      ]
     },
     "execution_count": 34,
     "metadata": {},
     "output_type": "execute_result"
    }
   ],
   "source": [
    "# get_params(): Get parameters for this estimator.\n",
    "CountVectorizer(amazon['sentence']).get_params()"
   ]
  },
  {
   "cell_type": "code",
   "execution_count": 35,
   "metadata": {},
   "outputs": [
    {
     "data": {
      "text/plain": [
       "['10', '100', '11', '12', '13', '15', '15g', '18', '20', '2000']"
      ]
     },
     "execution_count": 35,
     "metadata": {},
     "output_type": "execute_result"
    }
   ],
   "source": [
    "# get_feature_names(): Array mapping from feature integer indices to feature name\n",
    "count_vect.get_feature_names()[:10]"
   ]
  },
  {
   "cell_type": "code",
   "execution_count": 11,
   "metadata": {},
   "outputs": [
    {
     "data": {
      "text/plain": [
       "'so there is no way for me to plug it in here in the us unless i go by a converter. good case, excellent value.'"
      ]
     },
     "execution_count": 11,
     "metadata": {},
     "output_type": "execute_result"
    }
   ],
   "source": [
    "# build_preprocessor(): To lowercase.\n",
    "proce = count_vect.build_preprocessor()\n",
    "proce(\" \".join(list(amazon[0:2].sentence)))"
   ]
  },
  {
   "cell_type": "code",
   "execution_count": 12,
   "metadata": {},
   "outputs": [
    {
     "data": {
      "text/plain": [
       "['So',\n",
       " 'there',\n",
       " 'is',\n",
       " 'no',\n",
       " 'way',\n",
       " 'for',\n",
       " 'me',\n",
       " 'to',\n",
       " 'plug',\n",
       " 'it',\n",
       " 'in',\n",
       " 'here',\n",
       " 'in',\n",
       " 'the',\n",
       " 'US',\n",
       " 'unless',\n",
       " 'go',\n",
       " 'by',\n",
       " 'converter',\n",
       " 'Good',\n",
       " 'case',\n",
       " 'Excellent',\n",
       " 'value']"
      ]
     },
     "execution_count": 12,
     "metadata": {},
     "output_type": "execute_result"
    }
   ],
   "source": [
    "# build_tokenizer(): To splits a string into a sequence of tokens.\n",
    "tokenizer = count_vect.build_tokenizer()\n",
    "tokenizer(\" \".join(list(amazon[0:2].sentence)))"
   ]
  },
  {
   "cell_type": "code",
   "execution_count": 13,
   "metadata": {
    "collapsed": true
   },
   "outputs": [],
   "source": [
    "# get_feature_names(): Array mapping from feature integer indices to feature name\n",
    "amazon_feature_names = count_vect.get_feature_names()"
   ]
  },
  {
   "cell_type": "code",
   "execution_count": 14,
   "metadata": {},
   "outputs": [
    {
     "data": {
      "text/html": [
       "<div>\n",
       "<style>\n",
       "    .dataframe thead tr:only-child th {\n",
       "        text-align: right;\n",
       "    }\n",
       "\n",
       "    .dataframe thead th {\n",
       "        text-align: left;\n",
       "    }\n",
       "\n",
       "    .dataframe tbody tr th {\n",
       "        vertical-align: top;\n",
       "    }\n",
       "</style>\n",
       "<table border=\"1\" class=\"dataframe\">\n",
       "  <thead>\n",
       "    <tr style=\"text-align: right;\">\n",
       "      <th></th>\n",
       "      <th>sentence</th>\n",
       "      <th>label</th>\n",
       "      <th>label_name</th>\n",
       "      <th>uni_grams</th>\n",
       "    </tr>\n",
       "  </thead>\n",
       "  <tbody>\n",
       "    <tr>\n",
       "      <th>0</th>\n",
       "      <td>So there is no way for me to plug it in here i...</td>\n",
       "      <td>0</td>\n",
       "      <td>negative</td>\n",
       "      <td>[So, there, is, no, way, for, me, to, plug, it...</td>\n",
       "    </tr>\n",
       "    <tr>\n",
       "      <th>1</th>\n",
       "      <td>Good case, Excellent value.</td>\n",
       "      <td>1</td>\n",
       "      <td>positive</td>\n",
       "      <td>[Good, case, Excellent, value]</td>\n",
       "    </tr>\n",
       "    <tr>\n",
       "      <th>2</th>\n",
       "      <td>Great for the jawbone.</td>\n",
       "      <td>1</td>\n",
       "      <td>positive</td>\n",
       "      <td>[Great, for, the, jawbone]</td>\n",
       "    </tr>\n",
       "    <tr>\n",
       "      <th>3</th>\n",
       "      <td>Tied to charger for conversations lasting more...</td>\n",
       "      <td>0</td>\n",
       "      <td>negative</td>\n",
       "      <td>[Tied, to, charger, for, conversations, lastin...</td>\n",
       "    </tr>\n",
       "    <tr>\n",
       "      <th>4</th>\n",
       "      <td>The mic is great.</td>\n",
       "      <td>1</td>\n",
       "      <td>positive</td>\n",
       "      <td>[The, mic, is, great]</td>\n",
       "    </tr>\n",
       "  </tbody>\n",
       "</table>\n",
       "</div>"
      ],
      "text/plain": [
       "                                            sentence  label label_name  \\\n",
       "0  So there is no way for me to plug it in here i...      0   negative   \n",
       "1                        Good case, Excellent value.      1   positive   \n",
       "2                             Great for the jawbone.      1   positive   \n",
       "3  Tied to charger for conversations lasting more...      0   negative   \n",
       "4                                  The mic is great.      1   positive   \n",
       "\n",
       "                                           uni_grams  \n",
       "0  [So, there, is, no, way, for, me, to, plug, it...  \n",
       "1                     [Good, case, Excellent, value]  \n",
       "2                         [Great, for, the, jawbone]  \n",
       "3  [Tied, to, charger, for, conversations, lastin...  \n",
       "4                              [The, mic, is, great]  "
      ]
     },
     "execution_count": 14,
     "metadata": {},
     "output_type": "execute_result"
    }
   ],
   "source": [
    "amazon[:5]"
   ]
  },
  {
   "cell_type": "code",
   "execution_count": 15,
   "metadata": {},
   "outputs": [
    {
     "data": {
      "text/plain": [
       "(990, 1847)"
      ]
     },
     "execution_count": 15,
     "metadata": {},
     "output_type": "execute_result"
    }
   ],
   "source": [
    "# check the shape of this matrix:\n",
    "amazon_counts.shape"
   ]
  },
  {
   "cell_type": "code",
   "execution_count": 16,
   "metadata": {},
   "outputs": [
    {
     "data": {
      "text/plain": [
       "array([[0, 0, 0, 0, 0, 0, 0, 0, 0, 0, 0, 0, 0, 0, 0, 0, 0, 0, 0, 0, 0, 0,\n",
       "        0, 0, 0, 0, 0, 0, 0, 0, 0, 0, 0, 0, 0, 0, 0, 0, 0, 0, 0, 0, 0, 0,\n",
       "        0, 0, 0, 0, 0, 0],\n",
       "       [0, 0, 0, 0, 0, 0, 0, 0, 0, 0, 0, 0, 0, 0, 0, 0, 0, 0, 0, 0, 0, 0,\n",
       "        0, 0, 0, 0, 0, 0, 0, 0, 0, 0, 0, 0, 0, 0, 0, 0, 0, 0, 0, 0, 0, 0,\n",
       "        0, 0, 0, 0, 0, 0],\n",
       "       [0, 0, 0, 0, 0, 0, 0, 0, 0, 0, 0, 0, 0, 0, 0, 0, 0, 0, 0, 0, 0, 0,\n",
       "        0, 0, 0, 0, 0, 0, 0, 0, 0, 0, 0, 0, 0, 0, 0, 0, 0, 0, 0, 0, 0, 0,\n",
       "        0, 0, 0, 0, 0, 0],\n",
       "       [0, 0, 0, 0, 0, 0, 0, 0, 0, 0, 0, 0, 0, 0, 0, 0, 0, 0, 0, 0, 1, 0,\n",
       "        0, 0, 0, 0, 0, 0, 0, 0, 0, 0, 0, 0, 0, 0, 0, 0, 0, 0, 0, 0, 0, 0,\n",
       "        0, 0, 0, 0, 0, 0],\n",
       "       [0, 0, 0, 0, 0, 0, 0, 0, 0, 0, 0, 0, 0, 0, 0, 0, 0, 0, 0, 0, 0, 0,\n",
       "        0, 0, 0, 0, 0, 0, 0, 0, 0, 0, 0, 0, 0, 0, 0, 0, 0, 0, 0, 0, 0, 0,\n",
       "        0, 0, 0, 0, 0, 0]])"
      ]
     },
     "execution_count": 16,
     "metadata": {},
     "output_type": "execute_result"
    }
   ],
   "source": [
    "# amazon_counts has 990 rows and 1847 column, we just use 5 x 50 to take a look:\n",
    "amazon_counts[0:5, 0:50].toarray()"
   ]
  },
  {
   "cell_type": "code",
   "execution_count": 17,
   "metadata": {},
   "outputs": [
    {
     "data": {
      "text/plain": [
       "['10',\n",
       " '100',\n",
       " '11',\n",
       " '12',\n",
       " '13',\n",
       " '15',\n",
       " '15g',\n",
       " '18',\n",
       " '20',\n",
       " '2000',\n",
       " '2005',\n",
       " '2160',\n",
       " '24',\n",
       " '2mp',\n",
       " '325',\n",
       " '350',\n",
       " '375',\n",
       " '3o',\n",
       " '42',\n",
       " '44',\n",
       " '45',\n",
       " '4s',\n",
       " '50',\n",
       " '5020',\n",
       " '510',\n",
       " '5320',\n",
       " '680',\n",
       " '700w',\n",
       " '8125',\n",
       " '8525',\n",
       " '8530',\n",
       " 'abhor',\n",
       " 'ability',\n",
       " 'able',\n",
       " 'abound',\n",
       " 'about',\n",
       " 'above',\n",
       " 'absolutel',\n",
       " 'absolutely',\n",
       " 'ac',\n",
       " 'accept',\n",
       " 'acceptable',\n",
       " 'access',\n",
       " 'accessable',\n",
       " 'accessing',\n",
       " 'accessory',\n",
       " 'accessoryone',\n",
       " 'accidentally',\n",
       " 'accompanied',\n",
       " 'according']"
      ]
     },
     "execution_count": 17,
     "metadata": {},
     "output_type": "execute_result"
    }
   ],
   "source": [
    "# 列出使用的 0 - 50 的 feature:\n",
    "count_vect.get_feature_names()[0:50]"
   ]
  },
  {
   "cell_type": "code",
   "execution_count": 18,
   "metadata": {},
   "outputs": [
    {
     "data": {
      "text/plain": [
       "array([[3, 0, 0, ..., 0, 0, 0]])"
      ]
     },
     "execution_count": 18,
     "metadata": {},
     "output_type": "execute_result"
    }
   ],
   "source": [
    "# 簡化版測試：因為有一個值是 '10'，因此放入 10 ＆ 其他字串去比對，則第三個位置會比對到，是為 3 其他則是 0.\n",
    "count_vect.transform(['10 10 10 and A new sentence.']).toarray()"
   ]
  },
  {
   "cell_type": "markdown",
   "metadata": {},
   "source": [
    "### Use heat map to take a look and fine out how to deal with our term-document matrix:"
   ]
  },
  {
   "cell_type": "code",
   "execution_count": 52,
   "metadata": {
    "collapsed": true
   },
   "outputs": [],
   "source": [
    "# Setting X-axis:\n",
    "plot_x = [\"term_\" + str(i) for i in count_vect.get_feature_names()[0:50]]\n",
    "# plot_x"
   ]
  },
  {
   "cell_type": "code",
   "execution_count": 53,
   "metadata": {
    "collapsed": true
   },
   "outputs": [],
   "source": [
    "# Setting Y-axis:\n",
    "plot_y = [\"doc_\" + str(i) for i in list(amazon.index)[0:50]]\n",
    "# plot_y"
   ]
  },
  {
   "cell_type": "code",
   "execution_count": 54,
   "metadata": {
    "collapsed": true
   },
   "outputs": [],
   "source": [
    "# Setting Y-axis:\n",
    "plot_z = amazon_counts[0:50, 0:50].toarray()\n",
    "# plot_z"
   ]
  },
  {
   "cell_type": "code",
   "execution_count": 55,
   "metadata": {},
   "outputs": [
    {
     "data": {
      "text/html": [
       "<iframe id=\"igraph\" scrolling=\"no\" style=\"border:none;\" seamless=\"seamless\" src=\"https://plot.ly/~amberfu2017/4.embed\" height=\"525px\" width=\"100%\"></iframe>"
      ],
      "text/plain": [
       "<plotly.tools.PlotlyDisplay object>"
      ]
     },
     "execution_count": 55,
     "metadata": {},
     "output_type": "execute_result"
    }
   ],
   "source": [
    "# Use TA's function to plot:\n",
    "py.iplot(ta.plot_heat_map(plot_x, plot_y, plot_z))"
   ]
  },
  {
   "cell_type": "markdown",
   "metadata": {},
   "source": [
    "##### Exercise 3: \n",
    "From the chart above, we can see how sparse the term-document matrix is; i.e., there is only one terms with frequency of 1 in the subselection of the matrix. By the way, you may have noticed that we only selected 20 articles and 20 terms to plot the histrogram. As an excersise you can try to modify the code above to plot the entire term-document matrix or just a sample of it."
   ]
  },
  {
   "cell_type": "code",
   "execution_count": 56,
   "metadata": {},
   "outputs": [
    {
     "data": {
      "text/html": [
       "<iframe id=\"igraph\" scrolling=\"no\" style=\"border:none;\" seamless=\"seamless\" src=\"https://plot.ly/~amberfu2017/6.embed\" height=\"525px\" width=\"100%\"></iframe>"
      ],
      "text/plain": [
       "<plotly.tools.PlotlyDisplay object>"
      ]
     },
     "execution_count": 56,
     "metadata": {},
     "output_type": "execute_result"
    }
   ],
   "source": [
    "plot_x = [\"term_\" + str(i) for i in count_vect.get_feature_names()[0:300]]\n",
    "plot_y = [\"doc_\" + str(i) for i in list(amazon.index)[0:300]]\n",
    "plot_z = amazon_counts[0:300, 0:300].toarray()\n",
    "\n",
    "data = [\n",
    "    go.Heatmap(\n",
    "        z=plot_z,\n",
    "        x=plot_x,\n",
    "        y=plot_y,\n",
    "        colorscale='Viridis',\n",
    "    )\n",
    "]\n",
    "\n",
    "layout = go.Layout(\n",
    "    title='Amazon Sentence Heatmap',\n",
    "    xaxis = dict(ticks=''),\n",
    "    yaxis = dict(ticks='')\n",
    ")\n",
    "\n",
    "fig = go.Figure(data=data, layout=layout)\n",
    "\n",
    "py.iplot(fig, filename='Amazon sentence-heatmap')"
   ]
  },
  {
   "cell_type": "markdown",
   "metadata": {},
   "source": [
    "#### 4. Dimensionality Reduction"
   ]
  },
  {
   "cell_type": "code",
   "execution_count": 19,
   "metadata": {
    "collapsed": true
   },
   "outputs": [],
   "source": [
    "from sklearn.decomposition import PCA\n",
    "amazon_reduced = PCA(n_components=3).fit_transform(amazon_counts.toarray())"
   ]
  },
  {
   "cell_type": "code",
   "execution_count": 58,
   "metadata": {},
   "outputs": [
    {
     "data": {
      "text/plain": [
       "array([[ 0.87832807,  0.4570543 , -0.32747237],\n",
       "       [-0.79371454, -0.3272591 , -0.08619132],\n",
       "       [ 0.08508893, -0.66433682, -0.21004703],\n",
       "       ..., \n",
       "       [-0.7700011 , -0.22274937, -0.24600692],\n",
       "       [ 1.24729262, -1.04346992, -0.01238541],\n",
       "       [ 0.22053714, -0.61493859, -0.49440892]])"
      ]
     },
     "execution_count": 58,
     "metadata": {},
     "output_type": "execute_result"
    }
   ],
   "source": [
    "amazon_reduced"
   ]
  },
  {
   "cell_type": "code",
   "execution_count": 59,
   "metadata": {},
   "outputs": [
    {
     "data": {
      "text/plain": [
       "(990, 3)"
      ]
     },
     "execution_count": 59,
     "metadata": {},
     "output_type": "execute_result"
    }
   ],
   "source": [
    "amazon_reduced.shape"
   ]
  },
  {
   "cell_type": "code",
   "execution_count": 60,
   "metadata": {
    "collapsed": true
   },
   "outputs": [],
   "source": [
    "trace1 = ta.get_trace(amazon_reduced, amazon[\"label_name\"], \"negative\", \"rgb(71,233,163)\")\n",
    "trace2 = ta.get_trace(amazon_reduced, amazon[\"label_name\"], \"positive\", \"rgb(52,133,252)\")\n",
    "data = [trace1, trace2]"
   ]
  },
  {
   "cell_type": "code",
   "execution_count": 61,
   "metadata": {},
   "outputs": [
    {
     "data": {
      "text/html": [
       "<iframe id=\"igraph\" scrolling=\"no\" style=\"border:none;\" seamless=\"seamless\" src=\"https://plot.ly/~amberfu2017/8.embed\" height=\"525px\" width=\"100%\"></iframe>"
      ],
      "text/plain": [
       "<plotly.tools.PlotlyDisplay object>"
      ]
     },
     "execution_count": 61,
     "metadata": {},
     "output_type": "execute_result"
    }
   ],
   "source": [
    "layout = go.Layout(\n",
    "    margin=dict(\n",
    "        l=0,\n",
    "        r=0,\n",
    "        b=0,\n",
    "        t=0\n",
    "    )\n",
    ")\n",
    "fig = go.Figure(data=data, layout=layout)\n",
    "py.iplot(fig, filename='simple-3d-scatter')"
   ]
  },
  {
   "cell_type": "markdown",
   "metadata": {},
   "source": [
    "Because scikit-learn's document says: \n",
    "> Notice that this class does not support sparse input. See TruncatedSVD for an alternative with sparse data.\n",
    ">\n",
    "\n",
    "So I try to use TruncatedSVD below."
   ]
  },
  {
   "cell_type": "code",
   "execution_count": 20,
   "metadata": {},
   "outputs": [
    {
     "data": {
      "text/plain": [
       "(990, 5)"
      ]
     },
     "execution_count": 20,
     "metadata": {},
     "output_type": "execute_result"
    }
   ],
   "source": [
    "# Try TruncatedSVD:\n",
    "\n",
    "from sklearn.decomposition import TruncatedSVD\n",
    "svd = TruncatedSVD(n_components=5, n_iter=7, random_state=42)\n",
    "amazon_reduced_Tsvd = svd.fit_transform(amazon_counts.toarray())\n",
    "amazon_reduced_Tsvd.shape"
   ]
  },
  {
   "cell_type": "code",
   "execution_count": 63,
   "metadata": {
    "scrolled": true
   },
   "outputs": [
    {
     "data": {
      "text/html": [
       "<iframe id=\"igraph\" scrolling=\"no\" style=\"border:none;\" seamless=\"seamless\" src=\"https://plot.ly/~amberfu2017/8.embed\" height=\"525px\" width=\"100%\"></iframe>"
      ],
      "text/plain": [
       "<plotly.tools.PlotlyDisplay object>"
      ]
     },
     "execution_count": 63,
     "metadata": {},
     "output_type": "execute_result"
    }
   ],
   "source": [
    "trace1_Tsvd = ta.get_trace(amazon_reduced_Tsvd, amazon[\"label_name\"], \"negative\", \"rgb(71,233,163)\")\n",
    "trace2_Tsvd = ta.get_trace(amazon_reduced_Tsvd, amazon[\"label_name\"], \"positive\", \"rgb(52,133,252)\")\n",
    "data = [trace1_Tsvd, trace2_Tsvd]\n",
    "\n",
    "layout = go.Layout(\n",
    "    margin=dict(\n",
    "        l=0,\n",
    "        r=0,\n",
    "        b=0,\n",
    "        t=0\n",
    "    )\n",
    ")\n",
    "\n",
    "fig = go.Figure(data=data, layout=layout)\n",
    "py.iplot(fig, filename='simple-3d-scatter')"
   ]
  },
  {
   "cell_type": "markdown",
   "metadata": {},
   "source": [
    "#### 5. Atrribute Transformation / Aggregation"
   ]
  },
  {
   "cell_type": "code",
   "execution_count": 21,
   "metadata": {
    "collapsed": true
   },
   "outputs": [],
   "source": [
    "# press 3D to 2D:\n",
    "# sum of column number: sum column value one by one.\n",
    "term_frequencies = []\n",
    "columns_number = amazon_counts.shape[1]\n",
    "for j in range(0, columns_number):\n",
    "    term_frequencies.append(sum(amazon_counts[:,j].toarray()))"
   ]
  },
  {
   "cell_type": "code",
   "execution_count": 22,
   "metadata": {},
   "outputs": [
    {
     "data": {
      "text/plain": [
       "[array([4]),\n",
       " array([1]),\n",
       " array([1]),\n",
       " array([1]),\n",
       " array([1]),\n",
       " array([1]),\n",
       " array([1]),\n",
       " array([1]),\n",
       " array([2]),\n",
       " array([1])]"
      ]
     },
     "execution_count": 22,
     "metadata": {},
     "output_type": "execute_result"
    }
   ],
   "source": [
    "term_frequencies[:10]"
   ]
  },
  {
   "cell_type": "code",
   "execution_count": 66,
   "metadata": {},
   "outputs": [
    {
     "name": "stdout",
     "output_type": "stream",
     "text": [
      "feature_names :  ['10', '100', '11', '12', '13', '15', '15g', '18', '20', '2000', '2005', '2160', '24', '2mp', '325']\n",
      "feature_frequencies :  [array([4]), array([1]), array([1]), array([1]), array([1]), array([1]), array([1]), array([1]), array([2]), array([1]), array([1]), array([1]), array([1]), array([1]), array([1])]\n"
     ]
    }
   ],
   "source": [
    "# get all feature:\n",
    "print('feature_names : ', count_vect.get_feature_names()[:15])\n",
    "\n",
    "# get feature appear times:\n",
    "print('feature_frequencies : ', term_frequencies[:15])"
   ]
  },
  {
   "cell_type": "code",
   "execution_count": 67,
   "metadata": {},
   "outputs": [
    {
     "data": {
      "text/html": [
       "<iframe id=\"igraph\" scrolling=\"no\" style=\"border:none;\" seamless=\"seamless\" src=\"https://plot.ly/~amberfu2017/10.embed\" height=\"525px\" width=\"100%\"></iframe>"
      ],
      "text/plain": [
       "<plotly.tools.PlotlyDisplay object>"
      ]
     },
     "execution_count": 67,
     "metadata": {},
     "output_type": "execute_result"
    }
   ],
   "source": [
    "py.iplot(ta.plot_word_frequency([count_vect.get_feature_names(), term_frequencies], \"Term Frequency Distribution\"))"
   ]
  },
  {
   "cell_type": "markdown",
   "metadata": {},
   "source": [
    "##### Exercise 4: \n",
    "The chart above contains all the vocabulary, and it's computationally intensive to both compute and visualize. You can try to reduce the number of terms you want to visualize as an exercise. "
   ]
  },
  {
   "cell_type": "code",
   "execution_count": 36,
   "metadata": {},
   "outputs": [
    {
     "name": "stdout",
     "output_type": "stream",
     "text": [
      "term_frequencies_tuple =  [('100', 1), ('11', 1), ('12', 1), ('13', 1), ('15', 1), ('15g', 1), ('18', 1), ('2000', 1), ('2005', 1), ('2160', 1), ('24', 1), ('2mp', 1), ('325', 1), ('350', 1), ('375', 1), ('3o', 1), ('42', 1), ('44', 1), ('45', 1), ('4s', 1), ('5020', 1), ('5320', 1), ('680', 1), ('700w', 1), ('8125', 1), ('8525', 1), ('8530', 1), ('abhor', 1), ('abound', 1), ('absolutel', 1), ('ac', 1), ('acceptable', 1), ('accessable', 1), ('accessing', 1), ('accessory', 1), ('accessoryone', 1), ('accompanied', 1), ('according', 1), ('activate', 1), ('activated', 1), ('activesync', 1), ('ad', 1), ('adapter', 1), ('adapters', 1), ('add', 1), ('addition', 1), ('address', 1), ('adhesive', 1), ('against', 1), ('aggravating', 1), ('alarm', 1), ('allot', 1), ('allow', 1), ('allowing', 1), ('alot', 1), ('aluminum', 1), ('amazing', 1), ('amp', 1), ('ample', 1), ('angeles', 1), ('angle', 1), ('ant', 1), ('antena', 1), ('anti', 1), ('anyway', 1), ('anywhere', 1), ('apart', 1), ('apartment', 1), ('apparently', 1), ('appealing', 1), ('appearance', 1), ('applifies', 1), ('appointments', 1), ('arguing', 1), ('armband', 1), ('arrival', 1), ('asia', 1), ('aspect', 1), ('assumed', 1), ('atleast', 1), ('attacked', 1), ('attractive', 1), ('authentic', 1), ('available', 1), ('average', 1), ('avoiding', 1), ('awkward', 1), ('awsome', 1), ('backlight', 1), ('balance', 1), ('basement', 1), ('basic', 1), ('beat', 1), ('beats', 1), ('bed', 1), ('beeping', 1), ('behing', 1), ('believe', 1), ('bells', 1), ('bend', 1), ('biggest', 1), ('bills', 1), ('bitpim', 1), ('blacktop', 1), ('bland', 1), ('blew', 1), ('blueant', 1), ('bluetoooth', 1), ('bluetooths', 1), ('bmw', 1), ('booking', 1), ('boost', 1), ('boot', 1), ('bose', 1), ('bottowm', 1), ('bougth', 1), ('boy', 1), ('breakage', 1), ('brilliant', 1), ('browser', 1), ('browsing', 1), ('bt250v', 1), ('bt50', 1), ('bubbling', 1), ('bucks', 1), ('buds', 1), ('build', 1), ('built', 1), ('bulky', 1), ('bumpers', 1), ('buyers', 1), ('buyit', 1), ('buzzing', 1), ('ca', 1), ('cables', 1), ('calendar', 1), ('called', 1), ('canal', 1), ('cancellation', 1), ('cancelling', 1), ('capability', 1), ('capacity', 1), ('card', 1), ('carried', 1), ('carriers', 1), ('carries', 1), ('carry', 1), ('casing', 1), ('cassette', 1), ('cat', 1), ('causing', 1), ('cbr', 1), ('cds', 1), ('cellphones', 1), ('cellular', 1), ('cent', 1), ('center', 1), ('certain', 1), ('changing', 1), ('channel', 1), ('charges', 1), ('cheaply', 1), ('cheapy', 1), ('check', 1), ('checked', 1), ('child', 1), ('china', 1), ('choices', 1), ('christmas', 1), ('cingulair', 1), ('classy', 1), ('clearer', 1), ('clever', 1), ('clicks', 1), ('clipping', 1), ('clips', 1), ('clock', 1), ('colleague', 1), ('colored', 1), ('colors', 1), ('combination', 1), ('comfortible', 1), ('comments', 1), ('commercials', 1), ('communicate', 1), ('communication', 1), ('communications', 1), ('commuter', 1), ('comparably', 1), ('compared', 1), ('compete', 1), ('competitors', 1), ('complain', 1), ('complained', 1), ('complaints', 1), ('compliments', 1), ('compromise', 1), ('concrete', 1), ('conditions', 1), ('confortable', 1), ('confusing', 1), ('connect', 1), ('connecting', 1), ('constantly', 1), ('constructed', 1), ('contact', 1), ('contacted', 1), ('contacting', 1), ('continue', 1), ('continues', 1), ('contract', 1), ('control', 1), ('controls', 1), ('contstruct', 1), ('convenient', 1), ('converter', 1), ('copier', 1), ('copy', 1), ('corded', 1), ('correctly', 1), ('cost', 1), ('couldnt', 1), ('counter', 1), ('counterfeit', 1), ('coupon', 1), ('course', 1), ('covered', 1), ('crack', 1), ('cracked', 1), ('cradle', 1), ('cradles', 1), ('crappy', 1), ('crashed', 1), ('crawl', 1), ('creaks', 1), ('currently', 1), ('curve', 1), ('cute', 1), ('cutouts', 1), ('cuts', 1), ('damage', 1), ('darn', 1), ('deaf', 1), ('decade', 1), ('defeats', 1), ('defect', 1), ('deffinitely', 1), ('definitly', 1), ('delay', 1), ('delivery', 1), ('describe', 1), ('designed', 1), ('designs', 1), ('destination', 1), ('destroying', 1), ('detachable', 1), ('detailed', 1), ('development', 1), ('devices', 1), ('dieing', 1), ('directed', 1), ('directions', 1), ('directly', 1), ('dirty', 1), ('disapoinment', 1), ('disapointing', 1), ('disappoint', 1), ('discarded', 1), ('discomfort', 1), ('disconnected', 1), ('discount', 1), ('disgusting', 1), ('displeased', 1), ('disposable', 1), ('dissapointed', 1), ('dissapointing', 1), ('distorted', 1), ('distracting', 1), ('dit', 1), ('division', 1), ('dna', 1), ('doing', 1), ('dollar', 1), ('double', 1), ('downloading', 1), ('dozen', 1), ('dozens', 1), ('drained', 1), ('drains', 1), ('drawback', 1), ('drivng', 1), ('droid', 1), ('dual', 1), ('due', 1), ('durable', 1), ('dustpan', 1), ('e2', 1), ('e715', 1), ('each', 1), ('earbuds', 1), ('earbugs', 1), ('earlier', 1), ('earpad', 1), ('earphone', 1), ('earphones', 1), ('earset', 1), ('edge', 1), ('effective', 1), ('effects', 1), ('effort', 1), ('electronics', 1), ('elegant', 1), ('else', 1), ('elsewhere', 1), ('embarassing', 1), ('embedded', 1), ('encourage', 1), ('ends', 1), ('engineered', 1), ('enjoy', 1), ('enter', 1), ('entertainment', 1), ('entire', 1), ('env', 1), ('equipment', 1), ('era', 1), ('ergonomic', 1), ('ericson', 1), ('ericsson', 1), ('europe', 1), ('eventually', 1), ('everyday', 1), ('everywhere', 1), ('exceeds', 1), ('excelent', 1), ('excels', 1), ('except', 1), ('exceptional', 1), ('excessive', 1), ('exchange', 1), ('exclaim', 1), ('excrutiatingly', 1), ('exercise', 1), ('existing', 1), ('expectations', 1), ('explain', 1), ('exterior', 1), ('external', 1), ('eye', 1), ('fabulous', 1), ('faceplates', 1), ('fact', 1), ('factor', 1), ('fairly', 1), ('falling', 1), ('falls', 1), ('faster', 1), ('father', 1), ('favorite', 1), ('fee', 1), ('fi', 1), ('file', 1), ('finds', 1), ('fingers', 1), ('finished', 1), ('five', 1), ('fixes', 1), ('flawed', 1), ('flawless', 1), ('flaws', 1), ('flipphones', 1), ('fliptop', 1), ('floor', 1), ('floppy', 1), ('flops', 1), ('flush', 1), ('fm', 1), ('followed', 1), ('fond', 1), ('fooled', 1), ('forgeries', 1), ('forgot', 1), ('four', 1), ('fourth', 1), ('fraction', 1), ('freedom', 1), ('freeway', 1), ('freezes', 1), ('frequently4', 1), ('frequentyly', 1), ('friends', 1), ('frog', 1), ('frustration', 1), ('fry', 1), ('ft', 1), ('fulfills', 1), ('fully', 1), ('fun', 1), ('function', 1), ('functional', 1), ('functions', 1), ('funny', 1), ('gadget', 1), ('gadgets', 1), ('garbage', 1), ('garbled', 1), ('gave', 1), ('geeky', 1), ('generally', 1), ('gentle', 1), ('genuine', 1), ('gimmick', 1), ('girl', 1), ('giving', 1), ('glare', 1), ('glove', 1), ('glued', 1), ('gonna', 1), ('good7', 1), ('gosh', 1), ('greater', 1), ('grey', 1), ('grip', 1), ('grtting', 1), ('guess', 1), ('gx2', 1), ('h500', 1), ('hair', 1), ('handheld', 1), ('handset', 1), ('happened', 1), ('happening', 1), ('happens', 1), ('hardly', 1), ('hat', 1), ('hated', 1), ('haul', 1), ('haven', 1), ('headbands', 1), ('hearing', 1), ('heavy', 1), ('help', 1), ('hey', 1), ('highest', 1), ('highy', 1), ('hinge', 1), ('hit', 1), ('hitch', 1), ('holder', 1), ('hook', 1), ('hoped', 1), ('hot', 1), ('hoursthe', 1), ('hs850', 1), ('humans', 1), ('humming', 1), ('hundred', 1), ('hurt', 1), ('hybrid', 1), ('hype', 1), ('iam', 1), ('idea', 1), ('ideal', 1), ('ill', 1), ('imac', 1), ('images', 1), ('imagine', 1), ('immediately', 1), ('impossible', 1), ('improper', 1), ('improve', 1), ('improvement', 1), ('inches', 1), ('incoming', 1), ('inconspicuous', 1), ('increase', 1), ('incrediable', 1), ('incredibly', 1), ('indoors', 1), ('industrial', 1), ('inexcusable', 1), ('inexpensive', 1), ('infatuated', 1), ('inform', 1), ('infra', 1), ('infuriating', 1), ('insert', 1), ('installed', 1), ('instance', 1), ('instruction', 1), ('integrated', 1), ('intended', 1), ('interested', 1), ('interface', 1), ('intermittently', 1), ('invented', 1), ('investment', 1), ('ipods', 1), ('ir', 1), ('irda', 1), ('iriver', 1), ('isn', 1), ('items', 1), ('jabra350', 1), ('jack', 1), ('jerks', 1), ('jiggle', 1), ('joy', 1), ('juice', 1), ('jx', 1), ('keen', 1), ('keeping', 1), ('keeps', 1), ('key', 1), ('keypads', 1), ('keys', 1), ('killer', 1), ('kindle', 1), ('kitchen', 1), ('kits', 1), ('knock', 1), ('knows', 1), ('krussel', 1), ('l7c', 1), ('land', 1), ('lap', 1), ('lasted', 1), ('latch', 1), ('lately', 1), ('latest', 1), ('laughing', 1), ('leaf', 1), ('leaks', 1), ('learned', 1), ('lense', 1), ('leopard', 1), ('lesson', 1), ('letting', 1), ('lightly', 1), ('lights', 1), ('liked', 1), ('likes', 1), ('linked', 1), ('linking', 1), ('linksys', 1), ('listener', 1), ('lit', 1), ('living', 1), ('loads', 1), ('locked', 1), ('locks', 1), ('loop', 1), ('loops', 1), ('loose', 1), ('looses', 1), ('los', 1), ('lots', 1), ('louder', 1), ('loudest', 1), ('loudspeaker', 1), ('lousy', 1), ('loved', 1), ('luck', 1), ('machine', 1), ('magical', 1), ('magnetic', 1), ('mail', 1), ('mainly', 1), ('maintains', 1), ('major', 1), ('majority', 1), ('managed', 1), ('management', 1), ('manual', 1), ('manufacturer', 1), ('mark', 1), ('material', 1), ('max', 1), ('means', 1), ('mechanism', 1), ('media', 1), ('mediocre', 1), ('mega', 1), ('megapixels', 1), ('memory', 1), ('mention', 1), ('mentioned', 1), ('menus', 1), ('mere', 1), ('message', 1), ('messages', 1), ('messaging', 1), ('messes', 1), ('metal', 1), ('metro', 1), ('microsoft', 1), ('mind', 1), ('mine', 1), ('mini', 1), ('mins', 1), ('minute', 1), ('misleading', 1), ('missed', 1), ('mode', 1), ('modest', 1), ('monkeys', 1), ('morning', 1), ('mostly', 1), ('mother', 1), ('motor', 1), ('motorolas', 1), ('moving', 1), ('mp3s', 1), ('muddy', 1), ('muffled', 1), ('multiple', 1), ('mute', 1), ('nano', 1), ('navigate', 1), ('near', 1), ('neat', 1), ('needless', 1), ('needs', 1), ('negatively', 1), ('ngage', 1), ('nicely', 1), ('nicer', 1), ('night', 1), ('nightmare', 1), ('noises', 1), ('normally', 1), ('note', 1), ('noted', 1), ('numbers', 1), ('nyc', 1), ('occupied', 1), ('odd', 1), ('oem', 1), ('offering', 1), ('offers', 1), ('official', 1), ('ones', 1), ('online', 1), ('oozes', 1), ('open', 1), ('opens', 1), ('operates', 1), ('optimal', 1), ('option', 1), ('options', 1), ('ordering', 1), ('orders', 1), ('organizational', 1), ('originally', 1), ('os', 1), ('otherwise', 1), ('our', 1), ('outgoing', 1), ('outperform', 1), ('outside', 1), ('overly', 1), ('overnight', 1), ('overnite', 1), ('override', 1), ('owner', 1), ('owning', 1), ('pack', 1), ('package', 1), ('pad', 1), ('pads', 1), ('pain', 1), ('painful', 1), ('palms', 1), ('palmtop', 1), ('pants', 1), ('passed', 1), ('patient', 1), ('pause', 1), ('pcs', 1), ('peachy', 1), ('peeling', 1), ('penny', 1), ('pens', 1), ('perfect', 1), ('performed', 1), ('performing', 1), ('periodically', 1), ('periods', 1), ('petroleum', 1), ('photo', 1), ('pics', 1), ('pitiful', 1), ('pixel', 1), ('places', 1), ('planning', 1), ('plans', 1), ('plantronincs', 1), ('players', 1), ('plays', 1), ('pleasantly', 1), ('pleather', 1), ('plenty', 1), ('plugs', 1), ('pockets', 1), ('point', 1), ('port', 1), ('portable', 1), ('portraits', 1), ('possesed', 1), ('possibility', 1), ('posted', 1), ('potentially', 1), ('practical', 1), ('practically', 1), ('practice', 1), ('preferably', 1), ('premium', 1), ('prettier', 1), ('prevents', 1), ('pricing', 1), ('prime', 1), ('print', 1), ('procedure', 1), ('procedures', 1), ('produce', 1), ('products', 1), ('program', 1), ('promised', 1), ('prompt', 1), ('promptly', 1), ('properly', 1), ('protected', 1), ('protective', 1), ('protects', 1), ('provide', 1), ('provides', 1), ('ps3', 1), ('psyched', 1), ('puff', 1), ('purcashed', 1), ('purchases', 1), ('pushed', 1), ('quit', 1), ('qwerty', 1), ('r450', 1), ('randomly', 1), ('rare', 1), ('rate', 1), ('rated', 1), ('rating', 1), ('razor', 1), ('reach', 1), ('reaching', 1), ('read', 1), ('ready', 1), ('realize', 1), ('reasonable', 1), ('reboots', 1), ('reccomendation', 1), ('reccommend', 1), ('receipt', 1), ('receive', 1), ('recently', 1), ('recessed', 1), ('recieve', 1), ('recognizes', 1), ('recommended', 1), ('refurb', 1), ('refuse', 1), ('refused', 1), ('regret', 1), ('regretted', 1), ('relative', 1), ('relatively', 1), ('reliability', 1), ('remorse', 1), ('removing', 1), ('renders', 1), ('reoccure', 1), ('replaced', 1), ('replacementr', 1), ('requirements', 1), ('research', 1), ('resistant', 1), ('respect', 1), ('rest', 1), ('restart', 1), ('restocking', 1), ('restored', 1), ('rests', 1), ('reverse', 1), ('reversible', 1), ('ride', 1), ('riingtones', 1), ('ringer', 1), ('rip', 1), ('ripped', 1), ('risk', 1), ('roam', 1), ('rocketed', 1), ('roles', 1), ('rotating', 1), ('row', 1), ('rubber', 1), ('runs', 1), ('s11', 1), ('s710a', 1), ('saggy', 1), ('sanyo', 1), ('satisifed', 1), ('saved', 1), ('scary', 1), ('sch', 1), ('scratch', 1), ('screens', 1), ('seamlessly', 1), ('searched', 1), ('seat', 1), ('securely', 1), ('securly', 1), ('see', 1), ('seeen', 1), ('seemed', 1), ('seen', 1), ('self', 1), ('sensitive', 1), ('sensor', 1), ('sent', 1), ('seperated', 1), ('setting', 1), ('severe', 1), ('shape', 1), ('share', 1), ('shield', 1), ('shifting', 1), ('shine', 1), ('shiny', 1), ('shipment', 1), ('shooters', 1), ('short', 1), ('shots', 1), ('shouldn', 1), ('shouldve', 1), ('shouting', 1), ('show', 1), ('shows', 1), ('sight', 1), ('signals', 1), ('significantly', 1), ('signs', 1), ('sim', 1), ('simpler', 1), ('sins', 1), ('sister', 1), ('sitting', 1), ('situations', 1), ('sketchy', 1), ('skip', 1), ('slid', 1), ('slide', 1), ('slider', 1), ('sliding', 1), ('slipping', 1), ('slowly', 1), ('smallest', 1), ('smartphone', 1), ('smoke', 1), ('smoking', 1), ('smoother', 1), ('smoothly', 1), ('smudged', 1), ('snap', 1), ('snug', 1), ('soft', 1), ('sold', 1), ('solid', 1), ('somehow', 1), ('someone', 1), ('somewhat', 1), ('somewhere', 1), ('son', 1), ('songs', 1), ('soon', 1), ('sooner', 1), ('sorry', 1), ('sos', 1), ('source', 1), ('sources', 1), ('soyo', 1), ('span', 1), ('speakerphone', 1), ('specially', 1), ('specs', 1), ('speed', 1), ('spinn', 1), ('stand', 1), ('standard', 1), ('startac', 1), ('starter', 1), ('state', 1), ('stays', 1), ('steep', 1), ('steer', 1), ('stereo', 1), ('stop', 1), ('stopped', 1), ('stops', 1), ('strange', 1), ('strap', 1), ('stream', 1), ('strength', 1), ('stress', 1), ('strip', 1), ('stuck', 1), ('study', 1), ('sturdiness', 1), ('styles', 1), ('styling', 1), ('stylish', 1), ('submerged', 1), ('sucked', 1), ('sudden', 1), ('suddenly', 1), ('superfast', 1), ('supertooth', 1), ('supposedly', 1), ('suprised', 1), ('surefire', 1), ('surprised', 1), ('survived', 1), ('sweetest', 1), ('swivel', 1), ('sync', 1), ('synchronization', 1), ('talking', 1), ('tape', 1), ('telephone', 1), ('texas', 1), ('text', 1), ('thanks', 1), ('theory', 1), ('thereplacement', 1), ('thorn', 1), ('threw', 1), ('thru', 1), ('thumbs', 1), ('tick', 1), ('ticking', 1), ('tied', 1), ('tight', 1), ('timely', 1), ('tiny', 1), ('tmobile', 1), ('toactivate', 1), ('toast', 1), ('today', 1), ('toilet', 1), ('tone', 1), ('tools', 1), ('top', 1), ('total', 1), ('totally', 1), ('touches', 1), ('tracfone', 1), ('tracfonewebsite', 1), ('tracking', 1), ('transceiver', 1), ('transfer', 1), ('transformed', 1), ('transmission', 1), ('transmit', 1), ('transmitters', 1), ('trash', 1), ('travled', 1), ('tricky', 1), ('truly', 1), ('trunk', 1), ('trust', 1), ('tungsten', 1), ('tv', 1), ('type', 1), ('ugly', 1), ('unacceptible', 1), ('unbearable', 1), ('understanding', 1), ('unintelligible', 1), ('units', 1), ('unknown', 1), ('unlike', 1), ('unsatisfactory', 1), ('until', 1), ('upbeat', 1), ('update', 1), ('upgrade', 1), ('upload', 1), ('upstairs', 1), ('usable', 1), ('usage', 1), ('useful', 1), ('usefulness', 1), ('utter', 1), ('utterly', 1), ('v1', 1), ('v265', 1), ('v325i', 1), ('v3c', 1), ('v3i', 1), ('vehicle', 1), ('via', 1), ('videos', 1), ('virgin', 1), ('visor', 1), ('voltage', 1), ('vx', 1), ('vx9900', 1), ('waaay', 1), ('wake', 1), ('walked', 1), ('walkman', 1), ('wallet', 1), ('wasting', 1), ('waterproof', 1), ('web', 1), ('websites', 1), ('weight', 1), ('weird', 1), ('whatever', 1), ('whether', 1), ('whine', 1), ('whistles', 1), ('whoa', 1), ('whose', 1), ('wi', 1), ('wild', 1), ('window', 1), ('windows', 1), ('winner', 1), ('wiping', 1), ('wire', 1), ('wirefly', 1), ('wish', 1), ('wit', 1), ('wobbly', 1), ('wonder', 1), ('wonderfully', 1), ('wont', 1), ('wood', 1), ('wooden', 1), ('word', 1), ('world', 1), ('worn', 1), ('wrongly', 1), ('yell', 1), ('yes', 1), ('z500a', 1), ('zero', 1), ('20', 2), ('50', 2), ('ability', 2), ('accept', 2), ('access', 2), ('accidentally', 2), ('additional', 2), ('adorable', 2), ('advertised', 2), ('advise', 2), ('allows', 2), ('alone', 2), ('along', 2), ('although', 2), ('amazed', 2), ('answer', 2), ('appears', 2), ('ask', 2), ('att', 2), ('auto', 2), ('background', 2), ('bar', 2), ('barely', 2), ('basically', 2), ('batteries', 2), ('beware', 2), ('bit', 2), ('blackberry', 2), ('book', 2), ('bother', 2), ('bottom', 2), ('brand', 2), ('breaking', 2), ('breaks', 2), ('broken', 2), ('button', 2), ('buyer', 2), ('cant', 2), ('careful', 2), ('catching', 2), ('caused', 2), ('cellphone', 2), ('certainly', 2), ('cheaper', 2), ('chinese', 2), ('clearly', 2), ('come', 2), ('coming', 2), ('complaint', 2), ('connected', 2), ('consumer', 2), ('conversation', 2), ('conversations', 2), ('costs', 2), ('cover', 2), ('crisp', 2), ('cumbersome', 2), ('current', 2), ('cut', 2), ('d807', 2), ('date', 2), ('defective', 2), ('described', 2), ('dialing', 2), ('died', 2), ('docking', 2), ('done', 2), ('download', 2), ('driving', 2), ('dropping', 2), ('during', 2), ('dying', 2), ('eargels', 2), ('echo', 2), ('effect', 2), ('embarrassing', 2), ('ended', 2), ('essentially', 2), ('etc', 2), ('exactly', 2), ('exchanged', 2), ('excited', 2), ('experienced', 2), ('extended', 2), ('fails', 2), ('feet', 2), ('felt', 2), ('figure', 2), ('fire', 2), ('flash', 2), ('flaw', 2), ('flawlessly', 2), ('flimsy', 2), ('forced', 2), ('forget', 2), ('friendly', 2), ('full', 2), ('functionality', 2), ('games', 2), ('gels', 2), ('glasses', 2), ('gotten', 2), ('graphics', 2), ('hand', 2), ('handy', 2), ('he', 2), ('holding', 2), ('hoping', 2), ('hour', 2), ('house', 2), ('huge', 2), ('igo', 2), ('im', 2), ('impressive', 2), ('incredible', 2), ('inside', 2), ('install', 2), ('ipod', 2), ('issues', 2), ('joke', 2), ('keypad', 2), ('laptop', 2), ('large', 2), ('lasting', 2), ('least', 2), ('let', 2), ('listening', 2), ('literally', 2), ('lock', 2), ('logitech', 2), ('lose', 2), ('loves', 2), ('maintain', 2), ('making', 2), ('mess', 2), ('model', 2), ('month', 2), ('moto', 2), ('mp3', 2), ('music', 2), ('nearly', 2), ('neither', 2), ('next', 2), ('normal', 2), ('notice', 2), ('noticed', 2), ('number', 2), ('numerous', 2), ('ok', 2), ('operate', 2), ('owned', 2), ('paired', 2), ('particular', 2), ('party', 2), ('pda', 2), ('person', 2), ('placed', 2), ('play', 2), ('please', 2), ('power', 2), ('previous', 2), ('pros', 2), ('protector', 2), ('pull', 2), ('purchasing', 2), ('purpose', 2), ('push', 2), ('quick', 2), ('quiet', 2), ('re', 2), ('reading', 2), ('reason', 2), ('receiving', 2), ('recharge', 2), ('recognition', 2), ('red', 2), ('regarding', 2), ('resolution', 2), ('returned', 2), ('returning', 2), ('review', 2), ('reviews', 2), ('ring', 2), ('ringing', 2), ('room', 2), ('run', 2), ('save', 2), ('saying', 2), ('says', 2), ('secure', 2), ('seem', 2), ('send', 2), ('series', 2), ('sex', 2), ('shipped', 2), ('sides', 2), ('sizes', 2), ('skype', 2), ('sleek', 2), ('slim', 2), ('smell', 2), ('something', 2), ('sometimes', 2), ('sounded', 2), ('sounds', 2), ('spring', 2), ('stars', 2), ('starts', 2), ('stated', 2), ('station', 2), ('storage', 2), ('stuff', 2), ('stupid', 2), ('sunglasses', 2), ('superb', 2), ('switch', 2), ('takes', 2), ('tech', 2), ('technology', 2), ('tell', 2), ('thank', 2), ('thin', 2), ('things', 2), ('third', 2), ('timeframe', 2), ('tips', 2), ('together', 2), ('told', 2), ('tones', 2), ('took', 2), ('tooth', 2), ('touch', 2), ('tremendous', 2), ('tries', 2), ('turns', 2), ('unacceptable', 2), ('understand', 2), ('unhappy', 2), ('unusable', 2), ('us', 2), ('user', 2), ('usually', 2), ('video', 2), ('w810i', 2), ('waiting', 2), ('wall', 2), ('warning', 2), ('warranty', 2), ('wasted', 2), ('website', 2), ('whatsoever', 2), ('white', 2), ('whole', 2), ('wind', 2), ('wired', 2), ('wise', 2), ('won', 2), ('worthwhile', 2), ('wouldn', 2), ('wow', 2), ('510', 3), ('above', 3), ('almost', 3), ('area', 3), ('avoid', 3), ('beautiful', 3), ('beep', 3), ('below', 3), ('between', 3), ('break', 3), ('bt', 3), ('care', 3), ('charged', 3), ('chargers', 3), ('choice', 3), ('comfort', 3), ('computer', 3), ('construction', 3), ('contacts', 3), ('coverage', 3), ('dead', 3), ('deal', 3), ('decision', 3), ('description', 3), ('despite', 3), ('display', 3), ('dont', 3), ('drain', 3), ('drop', 3), ('drops', 3), ('earbud', 3), ('earpieces', 3), ('ease', 3), ('everyone', 3), ('expensive', 3), ('experience', 3), ('extremely', 3), ('failed', 3), ('fall', 3), ('fantastic', 3), ('features', 3), ('feel', 3), ('finally', 3), ('flip', 3), ('forever', 3), ('form', 3), ('front', 3), ('getting', 3), ('give', 3), ('given', 3), ('handsfree', 3), ('happier', 3), ('holster', 3), ('home', 3), ('included', 3), ('instead', 3), ('iphone', 3), ('jawbone', 3), ('lacking', 3), ('ll', 3), ('longer', 3), ('lost', 3), ('market', 3), ('match', 3), ('may', 3), ('microphone', 3), ('might', 3), ('needed', 3), ('network', 3), ('noise', 3), ('oh', 3), ('once', 3), ('ordered', 3), ('outlet', 3), ('packaged', 3), ('pair', 3), ('pairing', 3), ('palm', 3), ('pay', 3), ('pc', 3), ('perhaps', 3), ('plan', 3), ('plugged', 3), ('plus', 3), ('pocket', 3), ('poorly', 3), ('probably', 3), ('protection', 3), ('provided', 3), ('reasonably', 3), ('refund', 3), ('replacement', 3), ('results', 3), ('rocks', 3), ('scratched', 3), ('seconds', 3), ('seriously', 3), ('setup', 3), ('sharp', 3), ('simply', 3), ('size', 3), ('slow', 3), ('sony', 3), ('speaker', 3), ('sprint', 3), ('star', 3), ('static', 3), ('such', 3), ('super', 3), ('thats', 3), ('though', 3), ('thought', 3), ('through', 3), ('tinny', 3), ('trouble', 3), ('trying', 3), ('turned', 3), ('uncomfortable', 3), ('under', 3), ('unless', 3), ('wasn', 3), ('wearing', 3), ('who', 3), ('wireless', 3), ('worthless', 3), ('wrong', 3), ('yet', 3), ('10', 4), ('able', 4), ('absolutely', 4), ('actually', 4), ('ago', 4), ('away', 4), ('awful', 4), ('bargain', 4), ('bars', 4), ('blue', 4), ('buying', 4), ('cingular', 4), ('clip', 4), ('comes', 4), ('comfortably', 4), ('day', 4), ('decent', 4), ('earpiece', 4), ('easier', 4), ('either', 4), ('expected', 4), ('extra', 4), ('face', 4), ('family', 4), ('fast', 4), ('glad', 4), ('goes', 4), ('hate', 4), ('here', 4), ('holds', 4), ('instructions', 4), ('kept', 4), ('keyboard', 4), ('lasts', 4), ('later', 4), ('leather', 4), ('left', 4), ('lg', 4), ('lightweight', 4), ('mic', 4), ('mistake', 4), ('must', 4), ('obviously', 4), ('order', 4), ('others', 4), ('own', 4), ('performance', 4), ('place', 4), ('plantronics', 4), ('player', 4), ('purchased', 4), ('rather', 4), ('ringtones', 4), ('said', 4), ('satisfied', 4), ('seems', 4), ('seller', 4), ('sending', 4), ('set', 4), ('she', 4), ('should', 4), ('side', 4), ('store', 4), ('sucks', 4), ('support', 4), ('those', 4), ('times', 4), ('tool', 4), ('treo', 4), ('try', 4), ('unfortunately', 4), ('unreliable', 4), ('usb', 4), ('wanted', 4), ('weak', 4), ('were', 4), ('worth', 4), ('always', 5), ('another', 5), ('anything', 5), ('arrived', 5), ('awesome', 5), ('belt', 5), ('cannot', 5), ('cases', 5), ('charging', 5), ('charm', 5), ('clarity', 5), ('color', 5), ('connection', 5), ('couple', 5), ('data', 5), ('definitely', 5), ('different', 5), ('disappointing', 5), ('disappointment', 5), ('easily', 5), ('especially', 5), ('expect', 5), ('feature', 5), ('feels', 5), ('free', 5), ('hard', 5), ('having', 5), ('helpful', 5), ('high', 5), ('hold', 5), ('hours', 5), ('important', 5), ('job', 5), ('keep', 5), ('kind', 5), ('know', 5), ('line', 5), ('many', 5), ('mobile', 5), ('none', 5), ('nothing', 5), ('old', 5), ('original', 5), ('overall', 5), ('part', 5), ('pictures', 5), ('plastic', 5), ('pleased', 5), ('quickly', 5), ('range', 5), ('razr', 5), ('replace', 5), ('return', 5), ('shipping', 5), ('started', 5), ('strong', 5), ('sturdy', 5), ('sure', 5), ('turn', 5), ('value', 5), ('week', 5), ('weeks', 5), ('where', 5), ('wife', 5), ('anyone', 6), ('around', 6), ('before', 6), ('black', 6), ('cable', 6), ('came', 6), ('crap', 6), ('difficult', 6), ('ears', 6), ('end', 6), ('every', 6), ('find', 6), ('go', 6), ('going', 6), ('hands', 6), ('headphones', 6), ('less', 6), ('loud', 6), ('minutes', 6), ('need', 6), ('perfectly', 6), ('picture', 6), ('priced', 6), ('put', 6), ('received', 6), ('samsung', 6), ('signal', 6), ('simple', 6), ('stay', 6), ('three', 6), ('want', 6), ('within', 6), ('audio', 7), ('big', 7), ('both', 7), ('company', 7), ('completely', 7), ('didn', 7), ('down', 7), ('dropped', 7), ('gets', 7), ('headsets', 7), ('internet', 7), ('looking', 7), ('most', 7), ('nokia', 7), ('quite', 7), ('real', 7), ('say', 7), ('several', 7), ('since', 7), ('software', 7), ('some', 7), ('take', 7), ('useless', 7), ('way', 7), ('we', 7), ('went', 7), ('back', 8), ('being', 8), ('broke', 8), ('buttons', 8), ('by', 8), ('found', 8), ('horrible', 8), ('jabra', 8), ('junk', 8), ('last', 8), ('light', 8), ('little', 8), ('look', 8), ('never', 8), ('small', 8), ('talk', 8), ('their', 8), ('tried', 8), ('unit', 8), ('voice', 8), ('without', 8), ('year', 8), ('amazon', 9), ('cheap', 9), ('cool', 9), ('customer', 9), ('days', 9), ('everything', 9), ('highly', 9), ('how', 9), ('however', 9), ('impressed', 9), ('lot', 9), ('low', 9), ('months', 9), ('verizon', 9), ('wear', 9), ('years', 9), ('call', 10), ('couldn', 10), ('disappointed', 10), ('into', 10), ('looks', 10), ('over', 10), ('people', 10), ('phones', 10), ('pretty', 10), ('screen', 10), ('terrible', 10), ('think', 10), ('design', 11), ('fit', 11), ('fits', 11), ('makes', 11), ('plug', 11), ('working', 11), ('again', 12), ('clear', 12), ('hear', 12), ('make', 12), ('much', 12), ('other', 12), ('problems', 12), ('right', 12), ('using', 12), ('volume', 12), ('calls', 13), ('camera', 13), ('device', 13), ('enough', 13), ('far', 13), ('fine', 13), ('got', 13), ('life', 13), ('long', 13), ('motorola', 13), ('piece', 13), ('problem', 13), ('same', 13), ('them', 13), ('thing', 13), ('bad', 14), ('cell', 14), ('charge', 14), ('few', 14), ('made', 14), ('off', 14), ('purchase', 14), ('still', 14), ('two', 14), ('waste', 14), ('while', 14), ('worst', 14), ('been', 15), ('happy', 15), ('poor', 15), ('which', 15), ('will', 15), ('could', 16), ('did', 16), ('doesn', 16), ('its', 16), ('then', 16), ('used', 16), ('bought', 17), ('comfortable', 17), ('now', 17), ('reception', 17), ('there', 17), ('what', 17), ('about', 18), ('because', 18), ('bluetooth', 18), ('buy', 18), ('car', 18), ('easy', 18), ('even', 18), ('they', 18), ('an', 19), ('better', 19), ('charger', 19), ('do', 19), ('ever', 19), ('first', 19), ('item', 19), ('money', 19), ('more', 19), ('am', 20), ('any', 20), ('love', 20), ('new', 20), ('these', 20), ('worked', 20), ('just', 21), ('too', 21), ('also', 22), ('get', 22), ('nice', 22), ('when', 22), ('best', 23), ('only', 23), ('or', 23), ('out', 23), ('service', 23), ('can', 24), ('at', 25), ('does', 25), ('excellent', 26), ('price', 26), ('really', 26), ('recommend', 26), ('after', 27), ('don', 27), ('no', 27), ('time', 27), ('up', 27), ('if', 28), ('than', 28), ('ve', 28), ('case', 29), ('me', 29), ('be', 30), ('like', 30), ('your', 31), ('from', 33), ('has', 34), ('work', 34), ('would', 34), ('ear', 35), ('all', 40), ('one', 41), ('use', 41), ('are', 42), ('so', 42), ('well', 42), ('sound', 43), ('as', 45), ('works', 45), ('battery', 46), ('but', 46), ('had', 48), ('headset', 48), ('quality', 49), ('product', 53), ('you', 69), ('have', 73), ('good', 77), ('that', 82), ('in', 88), ('on', 90), ('was', 90), ('great', 93), ('very', 104), ('with', 112), ('not', 116), ('for', 119), ('of', 120), ('my', 145), ('phone', 164), ('to', 196), ('this', 205), ('is', 241), ('and', 311), ('it', 311), ('the', 518)]\n"
     ]
    }
   ],
   "source": [
    "# term_freq = (count_vect.get_feature_names(), term_frequencies)\n",
    "\n",
    "list1 = count_vect.get_feature_names()\n",
    "list2 = term_frequencies\n",
    "term_frequencies_tuple = []\n",
    "\n",
    "def into_tuples(list1, list2):\n",
    "    if len(list1) == len(list2):\n",
    "        for i in range(0, len(list1)):\n",
    "            tuple1 = (list1[i], list2[i][0])\n",
    "            term_frequencies_tuple.append(tuple1)\n",
    "        return term_frequencies_tuple\n",
    "    else:\n",
    "        print('list1 and list2 is not equal length!')\n",
    "\n",
    "into_tuples(list1, list2)\n",
    "\n",
    "term_frequencies_tuple = sorted(term_frequencies_tuple, key=lambda freq: freq[1])   # sort by frequencies\n",
    "\n",
    "print('term_frequencies_tuple = ', term_frequencies_tuple)"
   ]
  },
  {
   "cell_type": "code",
   "execution_count": 48,
   "metadata": {},
   "outputs": [
    {
     "data": {
      "image/png": "[encoded data removed]",
      "text/plain": [
       "<matplotlib.figure.Figure at 0x7fd80b3ee0b8>"
      ]
     },
     "metadata": {},
     "output_type": "display_data"
    }
   ],
   "source": [
    "from wordcloud import WordCloud\n",
    "import matplotlib.pyplot as plt\n",
    "\n",
    "### 生成 generate_from_frequencies 可接受的形式：\n",
    "d = {}\n",
    "for k,v in term_frequencies_tuple:\n",
    "    d[k] = int(v)\n",
    "# print('d = ', d)\n",
    "\n",
    "# Generate a word cloud image\n",
    "wordcloud = WordCloud(width=900,height=500, max_words=1628,relative_scaling=1,normalize_plurals=False).generate_from_frequencies(d)\n",
    "plt.figure()\n",
    "plt.imshow(wordcloud, interpolation=\"bilinear\")\n",
    "plt.axis(\"off\")\n",
    "plt.show()"
   ]
  },
  {
   "cell_type": "markdown",
   "metadata": {},
   "source": [
    "##### Exercise 5: \n",
    "Additionally, you can attempt to sort the terms on the x-axis by frequency instead of in alphabetical order."
   ]
  },
  {
   "cell_type": "code",
   "execution_count": 40,
   "metadata": {},
   "outputs": [
    {
     "name": "stdout",
     "output_type": "stream",
     "text": [
      "list1_sorted =  ['100', '11', '12', '13', '15', '15g', '18', '2000', '2005', '2160', '24', '2mp', '325', '350', '375', '3o', '42', '44', '45', '4s', '5020', '5320', '680', '700w', '8125', '8525', '8530', 'abhor', 'abound', 'absolutel', 'ac', 'acceptable', 'accessable', 'accessing', 'accessory', 'accessoryone', 'accompanied', 'according', 'activate', 'activated', 'activesync', 'ad', 'adapter', 'adapters', 'add', 'addition', 'address', 'adhesive', 'against', 'aggravating', 'alarm', 'allot', 'allow', 'allowing', 'alot', 'aluminum', 'amazing', 'amp', 'ample', 'angeles', 'angle', 'ant', 'antena', 'anti', 'anyway', 'anywhere', 'apart', 'apartment', 'apparently', 'appealing', 'appearance', 'applifies', 'appointments', 'arguing', 'armband', 'arrival', 'asia', 'aspect', 'assumed', 'atleast', 'attacked', 'attractive', 'authentic', 'available', 'average', 'avoiding', 'awkward', 'awsome', 'backlight', 'balance', 'basement', 'basic', 'beat', 'beats', 'bed', 'beeping', 'behing', 'believe', 'bells', 'bend', 'biggest', 'bills', 'bitpim', 'blacktop', 'bland', 'blew', 'blueant', 'bluetoooth', 'bluetooths', 'bmw', 'booking', 'boost', 'boot', 'bose', 'bottowm', 'bougth', 'boy', 'breakage', 'brilliant', 'browser', 'browsing', 'bt250v', 'bt50', 'bubbling', 'bucks', 'buds', 'build', 'built', 'bulky', 'bumpers', 'buyers', 'buyit', 'buzzing', 'ca', 'cables', 'calendar', 'called', 'canal', 'cancellation', 'cancelling', 'capability', 'capacity', 'card', 'carried', 'carriers', 'carries', 'carry', 'casing', 'cassette', 'cat', 'causing', 'cbr', 'cds', 'cellphones', 'cellular', 'cent', 'center', 'certain', 'changing', 'channel', 'charges', 'cheaply', 'cheapy', 'check', 'checked', 'child', 'china', 'choices', 'christmas', 'cingulair', 'classy', 'clearer', 'clever', 'clicks', 'clipping', 'clips', 'clock', 'colleague', 'colored', 'colors', 'combination', 'comfortible', 'comments', 'commercials', 'communicate', 'communication', 'communications', 'commuter', 'comparably', 'compared', 'compete', 'competitors', 'complain', 'complained', 'complaints', 'compliments', 'compromise', 'concrete', 'conditions', 'confortable', 'confusing', 'connect', 'connecting', 'constantly', 'constructed', 'contact', 'contacted', 'contacting', 'continue', 'continues', 'contract', 'control', 'controls', 'contstruct', 'convenient', 'converter', 'copier', 'copy', 'corded', 'correctly', 'cost', 'couldnt', 'counter', 'counterfeit', 'coupon', 'course', 'covered', 'crack', 'cracked', 'cradle', 'cradles', 'crappy', 'crashed', 'crawl', 'creaks', 'currently', 'curve', 'cute', 'cutouts', 'cuts', 'damage', 'darn', 'deaf', 'decade', 'defeats', 'defect', 'deffinitely', 'definitly', 'delay', 'delivery', 'describe', 'designed', 'designs', 'destination', 'destroying', 'detachable', 'detailed', 'development', 'devices', 'dieing', 'directed', 'directions', 'directly', 'dirty', 'disapoinment', 'disapointing', 'disappoint', 'discarded', 'discomfort', 'disconnected', 'discount', 'disgusting', 'displeased', 'disposable', 'dissapointed', 'dissapointing', 'distorted', 'distracting', 'dit', 'division', 'dna', 'doing', 'dollar', 'double', 'downloading', 'dozen', 'dozens', 'drained', 'drains', 'drawback', 'drivng', 'droid', 'dual', 'due', 'durable', 'dustpan', 'e2', 'e715', 'each', 'earbuds', 'earbugs', 'earlier', 'earpad', 'earphone', 'earphones', 'earset', 'edge', 'effective', 'effects', 'effort', 'electronics', 'elegant', 'else', 'elsewhere', 'embarassing', 'embedded', 'encourage', 'ends', 'engineered', 'enjoy', 'enter', 'entertainment', 'entire', 'env', 'equipment', 'era', 'ergonomic', 'ericson', 'ericsson', 'europe', 'eventually', 'everyday', 'everywhere', 'exceeds', 'excelent', 'excels', 'except', 'exceptional', 'excessive', 'exchange', 'exclaim', 'excrutiatingly', 'exercise', 'existing', 'expectations', 'explain', 'exterior', 'external', 'eye', 'fabulous', 'faceplates', 'fact', 'factor', 'fairly', 'falling', 'falls', 'faster', 'father', 'favorite', 'fee', 'fi', 'file', 'finds', 'fingers', 'finished', 'five', 'fixes', 'flawed', 'flawless', 'flaws', 'flipphones', 'fliptop', 'floor', 'floppy', 'flops', 'flush', 'fm', 'followed', 'fond', 'fooled', 'forgeries', 'forgot', 'four', 'fourth', 'fraction', 'freedom', 'freeway', 'freezes', 'frequently4', 'frequentyly', 'friends', 'frog', 'frustration', 'fry', 'ft', 'fulfills', 'fully', 'fun', 'function', 'functional', 'functions', 'funny', 'gadget', 'gadgets', 'garbage', 'garbled', 'gave', 'geeky', 'generally', 'gentle', 'genuine', 'gimmick', 'girl', 'giving', 'glare', 'glove', 'glued', 'gonna', 'good7', 'gosh', 'greater', 'grey', 'grip', 'grtting', 'guess', 'gx2', 'h500', 'hair', 'handheld', 'handset', 'happened', 'happening', 'happens', 'hardly', 'hat', 'hated', 'haul', 'haven', 'headbands', 'hearing', 'heavy', 'help', 'hey', 'highest', 'highy', 'hinge', 'hit', 'hitch', 'holder', 'hook', 'hoped', 'hot', 'hoursthe', 'hs850', 'humans', 'humming', 'hundred', 'hurt', 'hybrid', 'hype', 'iam', 'idea', 'ideal', 'ill', 'imac', 'images', 'imagine', 'immediately', 'impossible', 'improper', 'improve', 'improvement', 'inches', 'incoming', 'inconspicuous', 'increase', 'incrediable', 'incredibly', 'indoors', 'industrial', 'inexcusable', 'inexpensive', 'infatuated', 'inform', 'infra', 'infuriating', 'insert', 'installed', 'instance', 'instruction', 'integrated', 'intended', 'interested', 'interface', 'intermittently', 'invented', 'investment', 'ipods', 'ir', 'irda', 'iriver', 'isn', 'items', 'jabra350', 'jack', 'jerks', 'jiggle', 'joy', 'juice', 'jx', 'keen', 'keeping', 'keeps', 'key', 'keypads', 'keys', 'killer', 'kindle', 'kitchen', 'kits', 'knock', 'knows', 'krussel', 'l7c', 'land', 'lap', 'lasted', 'latch', 'lately', 'latest', 'laughing', 'leaf', 'leaks', 'learned', 'lense', 'leopard', 'lesson', 'letting', 'lightly', 'lights', 'liked', 'likes', 'linked', 'linking', 'linksys', 'listener', 'lit', 'living', 'loads', 'locked', 'locks', 'loop', 'loops', 'loose', 'looses', 'los', 'lots', 'louder', 'loudest', 'loudspeaker', 'lousy', 'loved', 'luck', 'machine', 'magical', 'magnetic', 'mail', 'mainly', 'maintains', 'major', 'majority', 'managed', 'management', 'manual', 'manufacturer', 'mark', 'material', 'max', 'means', 'mechanism', 'media', 'mediocre', 'mega', 'megapixels', 'memory', 'mention', 'mentioned', 'menus', 'mere', 'message', 'messages', 'messaging', 'messes', 'metal', 'metro', 'microsoft', 'mind', 'mine', 'mini', 'mins', 'minute', 'misleading', 'missed', 'mode', 'modest', 'monkeys', 'morning', 'mostly', 'mother', 'motor', 'motorolas', 'moving', 'mp3s', 'muddy', 'muffled', 'multiple', 'mute', 'nano', 'navigate', 'near', 'neat', 'needless', 'needs', 'negatively', 'ngage', 'nicely', 'nicer', 'night', 'nightmare', 'noises', 'normally', 'note', 'noted', 'numbers', 'nyc', 'occupied', 'odd', 'oem', 'offering', 'offers', 'official', 'ones', 'online', 'oozes', 'open', 'opens', 'operates', 'optimal', 'option', 'options', 'ordering', 'orders', 'organizational', 'originally', 'os', 'otherwise', 'our', 'outgoing', 'outperform', 'outside', 'overly', 'overnight', 'overnite', 'override', 'owner', 'owning', 'pack', 'package', 'pad', 'pads', 'pain', 'painful', 'palms', 'palmtop', 'pants', 'passed', 'patient', 'pause', 'pcs', 'peachy', 'peeling', 'penny', 'pens', 'perfect', 'performed', 'performing', 'periodically', 'periods', 'petroleum', 'photo', 'pics', 'pitiful', 'pixel', 'places', 'planning', 'plans', 'plantronincs', 'players', 'plays', 'pleasantly', 'pleather', 'plenty', 'plugs', 'pockets', 'point', 'port', 'portable', 'portraits', 'possesed', 'possibility', 'posted', 'potentially', 'practical', 'practically', 'practice', 'preferably', 'premium', 'prettier', 'prevents', 'pricing', 'prime', 'print', 'procedure', 'procedures', 'produce', 'products', 'program', 'promised', 'prompt', 'promptly', 'properly', 'protected', 'protective', 'protects', 'provide', 'provides', 'ps3', 'psyched', 'puff', 'purcashed', 'purchases', 'pushed', 'quit', 'qwerty', 'r450', 'randomly', 'rare', 'rate', 'rated', 'rating', 'razor', 'reach', 'reaching', 'read', 'ready', 'realize', 'reasonable', 'reboots', 'reccomendation', 'reccommend', 'receipt', 'receive', 'recently', 'recessed', 'recieve', 'recognizes', 'recommended', 'refurb', 'refuse', 'refused', 'regret', 'regretted', 'relative', 'relatively', 'reliability', 'remorse', 'removing', 'renders', 'reoccure', 'replaced', 'replacementr', 'requirements', 'research', 'resistant', 'respect', 'rest', 'restart', 'restocking', 'restored', 'rests', 'reverse', 'reversible', 'ride', 'riingtones', 'ringer', 'rip', 'ripped', 'risk', 'roam', 'rocketed', 'roles', 'rotating', 'row', 'rubber', 'runs', 's11', 's710a', 'saggy', 'sanyo', 'satisifed', 'saved', 'scary', 'sch', 'scratch', 'screens', 'seamlessly', 'searched', 'seat', 'securely', 'securly', 'see', 'seeen', 'seemed', 'seen', 'self', 'sensitive', 'sensor', 'sent', 'seperated', 'setting', 'severe', 'shape', 'share', 'shield', 'shifting', 'shine', 'shiny', 'shipment', 'shooters', 'short', 'shots', 'shouldn', 'shouldve', 'shouting', 'show', 'shows', 'sight', 'signals', 'significantly', 'signs', 'sim', 'simpler', 'sins', 'sister', 'sitting', 'situations', 'sketchy', 'skip', 'slid', 'slide', 'slider', 'sliding', 'slipping', 'slowly', 'smallest', 'smartphone', 'smoke', 'smoking', 'smoother', 'smoothly', 'smudged', 'snap', 'snug', 'soft', 'sold', 'solid', 'somehow', 'someone', 'somewhat', 'somewhere', 'son', 'songs', 'soon', 'sooner', 'sorry', 'sos', 'source', 'sources', 'soyo', 'span', 'speakerphone', 'specially', 'specs', 'speed', 'spinn', 'stand', 'standard', 'startac', 'starter', 'state', 'stays', 'steep', 'steer', 'stereo', 'stop', 'stopped', 'stops', 'strange', 'strap', 'stream', 'strength', 'stress', 'strip', 'stuck', 'study', 'sturdiness', 'styles', 'styling', 'stylish', 'submerged', 'sucked', 'sudden', 'suddenly', 'superfast', 'supertooth', 'supposedly', 'suprised', 'surefire', 'surprised', 'survived', 'sweetest', 'swivel', 'sync', 'synchronization', 'talking', 'tape', 'telephone', 'texas', 'text', 'thanks', 'theory', 'thereplacement', 'thorn', 'threw', 'thru', 'thumbs', 'tick', 'ticking', 'tied', 'tight', 'timely', 'tiny', 'tmobile', 'toactivate', 'toast', 'today', 'toilet', 'tone', 'tools', 'top', 'total', 'totally', 'touches', 'tracfone', 'tracfonewebsite', 'tracking', 'transceiver', 'transfer', 'transformed', 'transmission', 'transmit', 'transmitters', 'trash', 'travled', 'tricky', 'truly', 'trunk', 'trust', 'tungsten', 'tv', 'type', 'ugly', 'unacceptible', 'unbearable', 'understanding', 'unintelligible', 'units', 'unknown', 'unlike', 'unsatisfactory', 'until', 'upbeat', 'update', 'upgrade', 'upload', 'upstairs', 'usable', 'usage', 'useful', 'usefulness', 'utter', 'utterly', 'v1', 'v265', 'v325i', 'v3c', 'v3i', 'vehicle', 'via', 'videos', 'virgin', 'visor', 'voltage', 'vx', 'vx9900', 'waaay', 'wake', 'walked', 'walkman', 'wallet', 'wasting', 'waterproof', 'web', 'websites', 'weight', 'weird', 'whatever', 'whether', 'whine', 'whistles', 'whoa', 'whose', 'wi', 'wild', 'window', 'windows', 'winner', 'wiping', 'wire', 'wirefly', 'wish', 'wit', 'wobbly', 'wonder', 'wonderfully', 'wont', 'wood', 'wooden', 'word', 'world', 'worn', 'wrongly', 'yell', 'yes', 'z500a', 'zero', '20', '50', 'ability', 'accept', 'access', 'accidentally', 'additional', 'adorable', 'advertised', 'advise', 'allows', 'alone', 'along', 'although', 'amazed', 'answer', 'appears', 'ask', 'att', 'auto', 'background', 'bar', 'barely', 'basically', 'batteries', 'beware', 'bit', 'blackberry', 'book', 'bother', 'bottom', 'brand', 'breaking', 'breaks', 'broken', 'button', 'buyer', 'cant', 'careful', 'catching', 'caused', 'cellphone', 'certainly', 'cheaper', 'chinese', 'clearly', 'come', 'coming', 'complaint', 'connected', 'consumer', 'conversation', 'conversations', 'costs', 'cover', 'crisp', 'cumbersome', 'current', 'cut', 'd807', 'date', 'defective', 'described', 'dialing', 'died', 'docking', 'done', 'download', 'driving', 'dropping', 'during', 'dying', 'eargels', 'echo', 'effect', 'embarrassing', 'ended', 'essentially', 'etc', 'exactly', 'exchanged', 'excited', 'experienced', 'extended', 'fails', 'feet', 'felt', 'figure', 'fire', 'flash', 'flaw', 'flawlessly', 'flimsy', 'forced', 'forget', 'friendly', 'full', 'functionality', 'games', 'gels', 'glasses', 'gotten', 'graphics', 'hand', 'handy', 'he', 'holding', 'hoping', 'hour', 'house', 'huge', 'igo', 'im', 'impressive', 'incredible', 'inside', 'install', 'ipod', 'issues', 'joke', 'keypad', 'laptop', 'large', 'lasting', 'least', 'let', 'listening', 'literally', 'lock', 'logitech', 'lose', 'loves', 'maintain', 'making', 'mess', 'model', 'month', 'moto', 'mp3', 'music', 'nearly', 'neither', 'next', 'normal', 'notice', 'noticed', 'number', 'numerous', 'ok', 'operate', 'owned', 'paired', 'particular', 'party', 'pda', 'person', 'placed', 'play', 'please', 'power', 'previous', 'pros', 'protector', 'pull', 'purchasing', 'purpose', 'push', 'quick', 'quiet', 're', 'reading', 'reason', 'receiving', 'recharge', 'recognition', 'red', 'regarding', 'resolution', 'returned', 'returning', 'review', 'reviews', 'ring', 'ringing', 'room', 'run', 'save', 'saying', 'says', 'secure', 'seem', 'send', 'series', 'sex', 'shipped', 'sides', 'sizes', 'skype', 'sleek', 'slim', 'smell', 'something', 'sometimes', 'sounded', 'sounds', 'spring', 'stars', 'starts', 'stated', 'station', 'storage', 'stuff', 'stupid', 'sunglasses', 'superb', 'switch', 'takes', 'tech', 'technology', 'tell', 'thank', 'thin', 'things', 'third', 'timeframe', 'tips', 'together', 'told', 'tones', 'took', 'tooth', 'touch', 'tremendous', 'tries', 'turns', 'unacceptable', 'understand', 'unhappy', 'unusable', 'us', 'user', 'usually', 'video', 'w810i', 'waiting', 'wall', 'warning', 'warranty', 'wasted', 'website', 'whatsoever', 'white', 'whole', 'wind', 'wired', 'wise', 'won', 'worthwhile', 'wouldn', 'wow', '510', 'above', 'almost', 'area', 'avoid', 'beautiful', 'beep', 'below', 'between', 'break', 'bt', 'care', 'charged', 'chargers', 'choice', 'comfort', 'computer', 'construction', 'contacts', 'coverage', 'dead', 'deal', 'decision', 'description', 'despite', 'display', 'dont', 'drain', 'drop', 'drops', 'earbud', 'earpieces', 'ease', 'everyone', 'expensive', 'experience', 'extremely', 'failed', 'fall', 'fantastic', 'features', 'feel', 'finally', 'flip', 'forever', 'form', 'front', 'getting', 'give', 'given', 'handsfree', 'happier', 'holster', 'home', 'included', 'instead', 'iphone', 'jawbone', 'lacking', 'll', 'longer', 'lost', 'market', 'match', 'may', 'microphone', 'might', 'needed', 'network', 'noise', 'oh', 'once', 'ordered', 'outlet', 'packaged', 'pair', 'pairing', 'palm', 'pay', 'pc', 'perhaps', 'plan', 'plugged', 'plus', 'pocket', 'poorly', 'probably', 'protection', 'provided', 'reasonably', 'refund', 'replacement', 'results', 'rocks', 'scratched', 'seconds', 'seriously', 'setup', 'sharp', 'simply', 'size', 'slow', 'sony', 'speaker', 'sprint', 'star', 'static', 'such', 'super', 'thats', 'though', 'thought', 'through', 'tinny', 'trouble', 'trying', 'turned', 'uncomfortable', 'under', 'unless', 'wasn', 'wearing', 'who', 'wireless', 'worthless', 'wrong', 'yet', '10', 'able', 'absolutely', 'actually', 'ago', 'away', 'awful', 'bargain', 'bars', 'blue', 'buying', 'cingular', 'clip', 'comes', 'comfortably', 'day', 'decent', 'earpiece', 'easier', 'either', 'expected', 'extra', 'face', 'family', 'fast', 'glad', 'goes', 'hate', 'here', 'holds', 'instructions', 'kept', 'keyboard', 'lasts', 'later', 'leather', 'left', 'lg', 'lightweight', 'mic', 'mistake', 'must', 'obviously', 'order', 'others', 'own', 'performance', 'place', 'plantronics', 'player', 'purchased', 'rather', 'ringtones', 'said', 'satisfied', 'seems', 'seller', 'sending', 'set', 'she', 'should', 'side', 'store', 'sucks', 'support', 'those', 'times', 'tool', 'treo', 'try', 'unfortunately', 'unreliable', 'usb', 'wanted', 'weak', 'were', 'worth', 'always', 'another', 'anything', 'arrived', 'awesome', 'belt', 'cannot', 'cases', 'charging', 'charm', 'clarity', 'color', 'connection', 'couple', 'data', 'definitely', 'different', 'disappointing', 'disappointment', 'easily', 'especially', 'expect', 'feature', 'feels', 'free', 'hard', 'having', 'helpful', 'high', 'hold', 'hours', 'important', 'job', 'keep', 'kind', 'know', 'line', 'many', 'mobile', 'none', 'nothing', 'old', 'original', 'overall', 'part', 'pictures', 'plastic', 'pleased', 'quickly', 'range', 'razr', 'replace', 'return', 'shipping', 'started', 'strong', 'sturdy', 'sure', 'turn', 'value', 'week', 'weeks', 'where', 'wife', 'anyone', 'around', 'before', 'black', 'cable', 'came', 'crap', 'difficult', 'ears', 'end', 'every', 'find', 'go', 'going', 'hands', 'headphones', 'less', 'loud', 'minutes', 'need', 'perfectly', 'picture', 'priced', 'put', 'received', 'samsung', 'signal', 'simple', 'stay', 'three', 'want', 'within', 'audio', 'big', 'both', 'company', 'completely', 'didn', 'down', 'dropped', 'gets', 'headsets', 'internet', 'looking', 'most', 'nokia', 'quite', 'real', 'say', 'several', 'since', 'software', 'some', 'take', 'useless', 'way', 'we', 'went', 'back', 'being', 'broke', 'buttons', 'by', 'found', 'horrible', 'jabra', 'junk', 'last', 'light', 'little', 'look', 'never', 'small', 'talk', 'their', 'tried', 'unit', 'voice', 'without', 'year', 'amazon', 'cheap', 'cool', 'customer', 'days', 'everything', 'highly', 'how', 'however', 'impressed', 'lot', 'low', 'months', 'verizon', 'wear', 'years', 'call', 'couldn', 'disappointed', 'into', 'looks', 'over', 'people', 'phones', 'pretty', 'screen', 'terrible', 'think', 'design', 'fit', 'fits', 'makes', 'plug', 'working', 'again', 'clear', 'hear', 'make', 'much', 'other', 'problems', 'right', 'using', 'volume', 'calls', 'camera', 'device', 'enough', 'far', 'fine', 'got', 'life', 'long', 'motorola', 'piece', 'problem', 'same', 'them', 'thing', 'bad', 'cell', 'charge', 'few', 'made', 'off', 'purchase', 'still', 'two', 'waste', 'while', 'worst', 'been', 'happy', 'poor', 'which', 'will', 'could', 'did', 'doesn', 'its', 'then', 'used', 'bought', 'comfortable', 'now', 'reception', 'there', 'what', 'about', 'because', 'bluetooth', 'buy', 'car', 'easy', 'even', 'they', 'an', 'better', 'charger', 'do', 'ever', 'first', 'item', 'money', 'more', 'am', 'any', 'love', 'new', 'these', 'worked', 'just', 'too', 'also', 'get', 'nice', 'when', 'best', 'only', 'or', 'out', 'service', 'can', 'at', 'does', 'excellent', 'price', 'really', 'recommend', 'after', 'don', 'no', 'time', 'up', 'if', 'than', 've', 'case', 'me', 'be', 'like', 'your', 'from', 'has', 'work', 'would', 'ear', 'all', 'one', 'use', 'are', 'so', 'well', 'sound', 'as', 'works', 'battery', 'but', 'had', 'headset', 'quality', 'product', 'you', 'have', 'good', 'that', 'in', 'on', 'was', 'great', 'very', 'with', 'not', 'for', 'of', 'my', 'phone', 'to', 'this', 'is', 'and', 'it', 'the']\n",
      "\n",
      "list2_sorted =  [1, 1, 1, 1, 1, 1, 1, 1, 1, 1, 1, 1, 1, 1, 1, 1, 1, 1, 1, 1, 1, 1, 1, 1, 1, 1, 1, 1, 1, 1, 1, 1, 1, 1, 1, 1, 1, 1, 1, 1, 1, 1, 1, 1, 1, 1, 1, 1, 1, 1, 1, 1, 1, 1, 1, 1, 1, 1, 1, 1, 1, 1, 1, 1, 1, 1, 1, 1, 1, 1, 1, 1, 1, 1, 1, 1, 1, 1, 1, 1, 1, 1, 1, 1, 1, 1, 1, 1, 1, 1, 1, 1, 1, 1, 1, 1, 1, 1, 1, 1, 1, 1, 1, 1, 1, 1, 1, 1, 1, 1, 1, 1, 1, 1, 1, 1, 1, 1, 1, 1, 1, 1, 1, 1, 1, 1, 1, 1, 1, 1, 1, 1, 1, 1, 1, 1, 1, 1, 1, 1, 1, 1, 1, 1, 1, 1, 1, 1, 1, 1, 1, 1, 1, 1, 1, 1, 1, 1, 1, 1, 1, 1, 1, 1, 1, 1, 1, 1, 1, 1, 1, 1, 1, 1, 1, 1, 1, 1, 1, 1, 1, 1, 1, 1, 1, 1, 1, 1, 1, 1, 1, 1, 1, 1, 1, 1, 1, 1, 1, 1, 1, 1, 1, 1, 1, 1, 1, 1, 1, 1, 1, 1, 1, 1, 1, 1, 1, 1, 1, 1, 1, 1, 1, 1, 1, 1, 1, 1, 1, 1, 1, 1, 1, 1, 1, 1, 1, 1, 1, 1, 1, 1, 1, 1, 1, 1, 1, 1, 1, 1, 1, 1, 1, 1, 1, 1, 1, 1, 1, 1, 1, 1, 1, 1, 1, 1, 1, 1, 1, 1, 1, 1, 1, 1, 1, 1, 1, 1, 1, 1, 1, 1, 1, 1, 1, 1, 1, 1, 1, 1, 1, 1, 1, 1, 1, 1, 1, 1, 1, 1, 1, 1, 1, 1, 1, 1, 1, 1, 1, 1, 1, 1, 1, 1, 1, 1, 1, 1, 1, 1, 1, 1, 1, 1, 1, 1, 1, 1, 1, 1, 1, 1, 1, 1, 1, 1, 1, 1, 1, 1, 1, 1, 1, 1, 1, 1, 1, 1, 1, 1, 1, 1, 1, 1, 1, 1, 1, 1, 1, 1, 1, 1, 1, 1, 1, 1, 1, 1, 1, 1, 1, 1, 1, 1, 1, 1, 1, 1, 1, 1, 1, 1, 1, 1, 1, 1, 1, 1, 1, 1, 1, 1, 1, 1, 1, 1, 1, 1, 1, 1, 1, 1, 1, 1, 1, 1, 1, 1, 1, 1, 1, 1, 1, 1, 1, 1, 1, 1, 1, 1, 1, 1, 1, 1, 1, 1, 1, 1, 1, 1, 1, 1, 1, 1, 1, 1, 1, 1, 1, 1, 1, 1, 1, 1, 1, 1, 1, 1, 1, 1, 1, 1, 1, 1, 1, 1, 1, 1, 1, 1, 1, 1, 1, 1, 1, 1, 1, 1, 1, 1, 1, 1, 1, 1, 1, 1, 1, 1, 1, 1, 1, 1, 1, 1, 1, 1, 1, 1, 1, 1, 1, 1, 1, 1, 1, 1, 1, 1, 1, 1, 1, 1, 1, 1, 1, 1, 1, 1, 1, 1, 1, 1, 1, 1, 1, 1, 1, 1, 1, 1, 1, 1, 1, 1, 1, 1, 1, 1, 1, 1, 1, 1, 1, 1, 1, 1, 1, 1, 1, 1, 1, 1, 1, 1, 1, 1, 1, 1, 1, 1, 1, 1, 1, 1, 1, 1, 1, 1, 1, 1, 1, 1, 1, 1, 1, 1, 1, 1, 1, 1, 1, 1, 1, 1, 1, 1, 1, 1, 1, 1, 1, 1, 1, 1, 1, 1, 1, 1, 1, 1, 1, 1, 1, 1, 1, 1, 1, 1, 1, 1, 1, 1, 1, 1, 1, 1, 1, 1, 1, 1, 1, 1, 1, 1, 1, 1, 1, 1, 1, 1, 1, 1, 1, 1, 1, 1, 1, 1, 1, 1, 1, 1, 1, 1, 1, 1, 1, 1, 1, 1, 1, 1, 1, 1, 1, 1, 1, 1, 1, 1, 1, 1, 1, 1, 1, 1, 1, 1, 1, 1, 1, 1, 1, 1, 1, 1, 1, 1, 1, 1, 1, 1, 1, 1, 1, 1, 1, 1, 1, 1, 1, 1, 1, 1, 1, 1, 1, 1, 1, 1, 1, 1, 1, 1, 1, 1, 1, 1, 1, 1, 1, 1, 1, 1, 1, 1, 1, 1, 1, 1, 1, 1, 1, 1, 1, 1, 1, 1, 1, 1, 1, 1, 1, 1, 1, 1, 1, 1, 1, 1, 1, 1, 1, 1, 1, 1, 1, 1, 1, 1, 1, 1, 1, 1, 1, 1, 1, 1, 1, 1, 1, 1, 1, 1, 1, 1, 1, 1, 1, 1, 1, 1, 1, 1, 1, 1, 1, 1, 1, 1, 1, 1, 1, 1, 1, 1, 1, 1, 1, 1, 1, 1, 1, 1, 1, 1, 1, 1, 1, 1, 1, 1, 1, 1, 1, 1, 1, 1, 1, 1, 1, 1, 1, 1, 1, 1, 1, 1, 1, 1, 1, 1, 1, 1, 1, 1, 1, 1, 1, 1, 1, 1, 1, 1, 1, 1, 1, 1, 1, 1, 1, 1, 1, 1, 1, 1, 1, 1, 1, 1, 1, 1, 1, 1, 1, 1, 1, 1, 1, 1, 1, 1, 1, 1, 1, 1, 1, 1, 1, 1, 1, 1, 1, 1, 1, 1, 1, 1, 1, 1, 1, 1, 1, 1, 1, 1, 1, 1, 1, 1, 1, 1, 1, 1, 1, 1, 1, 1, 1, 1, 1, 1, 1, 1, 1, 1, 1, 1, 1, 1, 1, 1, 1, 1, 1, 1, 1, 1, 1, 1, 1, 1, 1, 1, 1, 1, 1, 1, 1, 1, 1, 1, 1, 1, 1, 1, 1, 1, 1, 1, 1, 1, 1, 1, 1, 1, 1, 1, 1, 1, 1, 1, 1, 1, 1, 1, 1, 1, 1, 1, 1, 1, 1, 1, 1, 1, 1, 1, 1, 1, 1, 1, 1, 1, 1, 1, 1, 1, 1, 1, 1, 1, 1, 1, 1, 1, 1, 1, 1, 1, 1, 1, 1, 1, 1, 1, 1, 1, 1, 1, 1, 1, 1, 1, 1, 1, 1, 1, 1, 1, 1, 1, 1, 1, 1, 1, 1, 1, 1, 1, 1, 1, 1, 1, 1, 1, 1, 1, 1, 1, 1, 1, 1, 1, 1, 1, 1, 1, 1, 1, 1, 1, 1, 1, 1, 1, 1, 1, 1, 1, 1, 1, 1, 1, 1, 1, 1, 1, 1, 1, 1, 1, 1, 1, 1, 1, 2, 2, 2, 2, 2, 2, 2, 2, 2, 2, 2, 2, 2, 2, 2, 2, 2, 2, 2, 2, 2, 2, 2, 2, 2, 2, 2, 2, 2, 2, 2, 2, 2, 2, 2, 2, 2, 2, 2, 2, 2, 2, 2, 2, 2, 2, 2, 2, 2, 2, 2, 2, 2, 2, 2, 2, 2, 2, 2, 2, 2, 2, 2, 2, 2, 2, 2, 2, 2, 2, 2, 2, 2, 2, 2, 2, 2, 2, 2, 2, 2, 2, 2, 2, 2, 2, 2, 2, 2, 2, 2, 2, 2, 2, 2, 2, 2, 2, 2, 2, 2, 2, 2, 2, 2, 2, 2, 2, 2, 2, 2, 2, 2, 2, 2, 2, 2, 2, 2, 2, 2, 2, 2, 2, 2, 2, 2, 2, 2, 2, 2, 2, 2, 2, 2, 2, 2, 2, 2, 2, 2, 2, 2, 2, 2, 2, 2, 2, 2, 2, 2, 2, 2, 2, 2, 2, 2, 2, 2, 2, 2, 2, 2, 2, 2, 2, 2, 2, 2, 2, 2, 2, 2, 2, 2, 2, 2, 2, 2, 2, 2, 2, 2, 2, 2, 2, 2, 2, 2, 2, 2, 2, 2, 2, 2, 2, 2, 2, 2, 2, 2, 2, 2, 2, 2, 2, 2, 2, 2, 2, 2, 2, 2, 2, 2, 2, 2, 2, 2, 2, 2, 2, 2, 2, 2, 2, 2, 2, 2, 2, 2, 2, 2, 2, 2, 2, 2, 2, 2, 2, 2, 2, 2, 2, 2, 2, 2, 2, 2, 2, 2, 2, 2, 2, 2, 2, 2, 2, 2, 2, 3, 3, 3, 3, 3, 3, 3, 3, 3, 3, 3, 3, 3, 3, 3, 3, 3, 3, 3, 3, 3, 3, 3, 3, 3, 3, 3, 3, 3, 3, 3, 3, 3, 3, 3, 3, 3, 3, 3, 3, 3, 3, 3, 3, 3, 3, 3, 3, 3, 3, 3, 3, 3, 3, 3, 3, 3, 3, 3, 3, 3, 3, 3, 3, 3, 3, 3, 3, 3, 3, 3, 3, 3, 3, 3, 3, 3, 3, 3, 3, 3, 3, 3, 3, 3, 3, 3, 3, 3, 3, 3, 3, 3, 3, 3, 3, 3, 3, 3, 3, 3, 3, 3, 3, 3, 3, 3, 3, 3, 3, 3, 3, 3, 3, 3, 3, 3, 3, 3, 3, 3, 3, 3, 3, 3, 3, 3, 4, 4, 4, 4, 4, 4, 4, 4, 4, 4, 4, 4, 4, 4, 4, 4, 4, 4, 4, 4, 4, 4, 4, 4, 4, 4, 4, 4, 4, 4, 4, 4, 4, 4, 4, 4, 4, 4, 4, 4, 4, 4, 4, 4, 4, 4, 4, 4, 4, 4, 4, 4, 4, 4, 4, 4, 4, 4, 4, 4, 4, 4, 4, 4, 4, 4, 4, 4, 4, 4, 4, 4, 4, 4, 4, 4, 4, 5, 5, 5, 5, 5, 5, 5, 5, 5, 5, 5, 5, 5, 5, 5, 5, 5, 5, 5, 5, 5, 5, 5, 5, 5, 5, 5, 5, 5, 5, 5, 5, 5, 5, 5, 5, 5, 5, 5, 5, 5, 5, 5, 5, 5, 5, 5, 5, 5, 5, 5, 5, 5, 5, 5, 5, 5, 5, 5, 5, 5, 5, 5, 5, 6, 6, 6, 6, 6, 6, 6, 6, 6, 6, 6, 6, 6, 6, 6, 6, 6, 6, 6, 6, 6, 6, 6, 6, 6, 6, 6, 6, 6, 6, 6, 6, 7, 7, 7, 7, 7, 7, 7, 7, 7, 7, 7, 7, 7, 7, 7, 7, 7, 7, 7, 7, 7, 7, 7, 7, 7, 7, 8, 8, 8, 8, 8, 8, 8, 8, 8, 8, 8, 8, 8, 8, 8, 8, 8, 8, 8, 8, 8, 8, 9, 9, 9, 9, 9, 9, 9, 9, 9, 9, 9, 9, 9, 9, 9, 9, 10, 10, 10, 10, 10, 10, 10, 10, 10, 10, 10, 10, 11, 11, 11, 11, 11, 11, 12, 12, 12, 12, 12, 12, 12, 12, 12, 12, 13, 13, 13, 13, 13, 13, 13, 13, 13, 13, 13, 13, 13, 13, 13, 14, 14, 14, 14, 14, 14, 14, 14, 14, 14, 14, 14, 15, 15, 15, 15, 15, 16, 16, 16, 16, 16, 16, 17, 17, 17, 17, 17, 17, 18, 18, 18, 18, 18, 18, 18, 18, 19, 19, 19, 19, 19, 19, 19, 19, 19, 20, 20, 20, 20, 20, 20, 21, 21, 22, 22, 22, 22, 23, 23, 23, 23, 23, 24, 25, 25, 26, 26, 26, 26, 27, 27, 27, 27, 27, 28, 28, 28, 29, 29, 30, 30, 31, 33, 34, 34, 34, 35, 40, 41, 41, 42, 42, 42, 43, 45, 45, 46, 46, 48, 48, 49, 53, 69, 73, 77, 82, 88, 90, 90, 93, 104, 112, 116, 119, 120, 145, 164, 196, 205, 241, 311, 311, 518]\n"
     ]
    }
   ],
   "source": [
    "# term_frequencies_tuple[1][0]\n",
    "# len(term_frequencies_tuple)\n",
    "list1_sorted = []\n",
    "list2_sorted = []\n",
    "\n",
    "def back_into_2_list(tuple):\n",
    "    for i in range(0, len(tuple)):\n",
    "        list1_sorted.append(tuple[i][0])\n",
    "        list2_sorted.append(tuple[i][1])\n",
    "#     print(list1_sorted, '\\n\\n\\n', list2_sorted)\n",
    "\n",
    "back_into_2_list(term_frequencies_tuple)\n",
    "print('list1_sorted = ', list1_sorted)\n",
    "print('\\nlist2_sorted = ', list2_sorted)"
   ]
  },
  {
   "cell_type": "code",
   "execution_count": 41,
   "metadata": {},
   "outputs": [
    {
     "data": {
      "text/html": [
       "<iframe id=\"igraph\" scrolling=\"no\" style=\"border:none;\" seamless=\"seamless\" src=\"https://plot.ly/~amberfu2017/16.embed\" height=\"525px\" width=\"100%\"></iframe>"
      ],
      "text/plain": [
       "<plotly.tools.PlotlyDisplay object>"
      ]
     },
     "execution_count": 41,
     "metadata": {},
     "output_type": "execute_result"
    }
   ],
   "source": [
    "py.iplot(ta.plot_word_frequency([list1_sorted, list2_sorted], \"Term Frequency Distribution\"))"
   ]
  },
  {
   "cell_type": "markdown",
   "metadata": {},
   "source": [
    "##### Transform the values in that vector into the log distribution:"
   ]
  },
  {
   "cell_type": "code",
   "execution_count": 68,
   "metadata": {
    "collapsed": true
   },
   "outputs": [],
   "source": [
    "term_frequencies_log = [math.log(i) for i in term_frequencies]"
   ]
  },
  {
   "cell_type": "code",
   "execution_count": 73,
   "metadata": {
    "collapsed": true
   },
   "outputs": [],
   "source": [
    "term_frequencies_log.sort()"
   ]
  },
  {
   "cell_type": "code",
   "execution_count": 75,
   "metadata": {},
   "outputs": [
    {
     "data": {
      "text/html": [
       "<iframe id=\"igraph\" scrolling=\"no\" style=\"border:none;\" seamless=\"seamless\" src=\"https://plot.ly/~amberfu2017/14.embed\" height=\"525px\" width=\"100%\"></iframe>"
      ],
      "text/plain": [
       "<plotly.tools.PlotlyDisplay object>"
      ]
     },
     "execution_count": 75,
     "metadata": {},
     "output_type": "execute_result"
    }
   ],
   "source": [
    "py.iplot(ta.plot_word_frequency([count_vect.get_feature_names(), term_frequencies_log], \"Term Frequency Distribution\"))"
   ]
  },
  {
   "cell_type": "markdown",
   "metadata": {},
   "source": [
    "#### 6. Discretization and Binarization"
   ]
  },
  {
   "cell_type": "code",
   "execution_count": 76,
   "metadata": {
    "collapsed": true
   },
   "outputs": [],
   "source": [
    "from sklearn import preprocessing, metrics, decomposition, pipeline, dummy"
   ]
  },
  {
   "cell_type": "code",
   "execution_count": 77,
   "metadata": {
    "collapsed": true
   },
   "outputs": [],
   "source": [
    "mlb = preprocessing.LabelBinarizer()"
   ]
  },
  {
   "cell_type": "code",
   "execution_count": 78,
   "metadata": {},
   "outputs": [
    {
     "data": {
      "text/plain": [
       "LabelBinarizer(neg_label=0, pos_label=1, sparse_output=False)"
      ]
     },
     "execution_count": 78,
     "metadata": {},
     "output_type": "execute_result"
    }
   ],
   "source": [
    "mlb.fit(amazon.label_name)"
   ]
  },
  {
   "cell_type": "code",
   "execution_count": 79,
   "metadata": {},
   "outputs": [
    {
     "data": {
      "text/plain": [
       "array(['negative', 'positive'], \n",
       "      dtype='<U8')"
      ]
     },
     "execution_count": 79,
     "metadata": {},
     "output_type": "execute_result"
    }
   ],
   "source": [
    "mlb.classes_"
   ]
  },
  {
   "cell_type": "code",
   "execution_count": 83,
   "metadata": {
    "collapsed": true
   },
   "outputs": [],
   "source": [
    "amazon['bin_category'] = mlb.transform(amazon['label_name']).tolist()"
   ]
  },
  {
   "cell_type": "code",
   "execution_count": 85,
   "metadata": {},
   "outputs": [
    {
     "data": {
      "text/html": [
       "<div>\n",
       "<style>\n",
       "    .dataframe thead tr:only-child th {\n",
       "        text-align: right;\n",
       "    }\n",
       "\n",
       "    .dataframe thead th {\n",
       "        text-align: left;\n",
       "    }\n",
       "\n",
       "    .dataframe tbody tr th {\n",
       "        vertical-align: top;\n",
       "    }\n",
       "</style>\n",
       "<table border=\"1\" class=\"dataframe\">\n",
       "  <thead>\n",
       "    <tr style=\"text-align: right;\">\n",
       "      <th></th>\n",
       "      <th>sentence</th>\n",
       "      <th>label</th>\n",
       "      <th>label_name</th>\n",
       "      <th>uni_grams</th>\n",
       "      <th>bin_category</th>\n",
       "    </tr>\n",
       "  </thead>\n",
       "  <tbody>\n",
       "    <tr>\n",
       "      <th>0</th>\n",
       "      <td>So there is no way for me to plug it in here i...</td>\n",
       "      <td>0</td>\n",
       "      <td>negative</td>\n",
       "      <td>[So, there, is, no, way, for, me, to, plug, it...</td>\n",
       "      <td>[0]</td>\n",
       "    </tr>\n",
       "    <tr>\n",
       "      <th>1</th>\n",
       "      <td>Good case, Excellent value.</td>\n",
       "      <td>1</td>\n",
       "      <td>positive</td>\n",
       "      <td>[Good, case, Excellent, value]</td>\n",
       "      <td>[1]</td>\n",
       "    </tr>\n",
       "    <tr>\n",
       "      <th>2</th>\n",
       "      <td>Great for the jawbone.</td>\n",
       "      <td>1</td>\n",
       "      <td>positive</td>\n",
       "      <td>[Great, for, the, jawbone]</td>\n",
       "      <td>[1]</td>\n",
       "    </tr>\n",
       "    <tr>\n",
       "      <th>3</th>\n",
       "      <td>Tied to charger for conversations lasting more...</td>\n",
       "      <td>0</td>\n",
       "      <td>negative</td>\n",
       "      <td>[Tied, to, charger, for, conversations, lastin...</td>\n",
       "      <td>[0]</td>\n",
       "    </tr>\n",
       "    <tr>\n",
       "      <th>4</th>\n",
       "      <td>The mic is great.</td>\n",
       "      <td>1</td>\n",
       "      <td>positive</td>\n",
       "      <td>[The, mic, is, great]</td>\n",
       "      <td>[1]</td>\n",
       "    </tr>\n",
       "    <tr>\n",
       "      <th>5</th>\n",
       "      <td>I have to jiggle the plug to get it to line up...</td>\n",
       "      <td>0</td>\n",
       "      <td>negative</td>\n",
       "      <td>[I, have, to, jiggle, the, plug, to, get, it, ...</td>\n",
       "      <td>[0]</td>\n",
       "    </tr>\n",
       "    <tr>\n",
       "      <th>6</th>\n",
       "      <td>If you have several dozen or several hundred c...</td>\n",
       "      <td>0</td>\n",
       "      <td>negative</td>\n",
       "      <td>[If, you, have, several, dozen, or, several, h...</td>\n",
       "      <td>[0]</td>\n",
       "    </tr>\n",
       "    <tr>\n",
       "      <th>7</th>\n",
       "      <td>If you are Razr owner...you must have this!</td>\n",
       "      <td>1</td>\n",
       "      <td>positive</td>\n",
       "      <td>[If, you, are, Razr, owner, you, must, have, t...</td>\n",
       "      <td>[1]</td>\n",
       "    </tr>\n",
       "    <tr>\n",
       "      <th>8</th>\n",
       "      <td>Needless to say, I wasted my money.</td>\n",
       "      <td>0</td>\n",
       "      <td>negative</td>\n",
       "      <td>[Needless, to, say, I, wasted, my, money]</td>\n",
       "      <td>[0]</td>\n",
       "    </tr>\n",
       "  </tbody>\n",
       "</table>\n",
       "</div>"
      ],
      "text/plain": [
       "                                            sentence  label label_name  \\\n",
       "0  So there is no way for me to plug it in here i...      0   negative   \n",
       "1                        Good case, Excellent value.      1   positive   \n",
       "2                             Great for the jawbone.      1   positive   \n",
       "3  Tied to charger for conversations lasting more...      0   negative   \n",
       "4                                  The mic is great.      1   positive   \n",
       "5  I have to jiggle the plug to get it to line up...      0   negative   \n",
       "6  If you have several dozen or several hundred c...      0   negative   \n",
       "7        If you are Razr owner...you must have this!      1   positive   \n",
       "8                Needless to say, I wasted my money.      0   negative   \n",
       "\n",
       "                                           uni_grams bin_category  \n",
       "0  [So, there, is, no, way, for, me, to, plug, it...          [0]  \n",
       "1                     [Good, case, Excellent, value]          [1]  \n",
       "2                         [Great, for, the, jawbone]          [1]  \n",
       "3  [Tied, to, charger, for, conversations, lastin...          [0]  \n",
       "4                              [The, mic, is, great]          [1]  \n",
       "5  [I, have, to, jiggle, the, plug, to, get, it, ...          [0]  \n",
       "6  [If, you, have, several, dozen, or, several, h...          [0]  \n",
       "7  [If, you, are, Razr, owner, you, must, have, t...          [1]  \n",
       "8          [Needless, to, say, I, wasted, my, money]          [0]  "
      ]
     },
     "execution_count": 85,
     "metadata": {},
     "output_type": "execute_result"
    }
   ],
   "source": [
    "amazon[0:9]"
   ]
  },
  {
   "cell_type": "code",
   "execution_count": null,
   "metadata": {
    "collapsed": true
   },
   "outputs": [],
   "source": []
  }
 ],
 "metadata": {
  "kernelspec": {
   "display_name": "Python 3",
   "language": "python",
   "name": "python3"
  },
  "language_info": {
   "codemirror_mode": {
    "name": "ipython",
    "version": 3
   },
   "file_extension": ".py",
   "mimetype": "text/x-python",
   "name": "python",
   "nbconvert_exporter": "python",
   "pygments_lexer": "ipython3",
   "version": "3.6.1"
  }
 },
 "nbformat": 4,
 "nbformat_minor": 2
}
